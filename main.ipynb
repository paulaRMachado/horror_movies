{
 "cells": [
  {
   "cell_type": "code",
   "execution_count": 1,
   "metadata": {},
   "outputs": [],
   "source": [
    "import src.aquire_data as aquire\n",
    "import src.cleaning as clean\n",
    "import src.visualization as viz"
   ]
  },
  {
   "cell_type": "code",
   "execution_count": 2,
   "metadata": {},
   "outputs": [],
   "source": [
    "df1 = aquire.get_local(\"horror_movies\")\n",
    "df2 = aquire.get_IMDB()"
   ]
  },
  {
   "cell_type": "code",
   "execution_count": 3,
   "metadata": {},
   "outputs": [
    {
     "data": {
      "text/html": [
       "<div>\n",
       "<style scoped>\n",
       "    .dataframe tbody tr th:only-of-type {\n",
       "        vertical-align: middle;\n",
       "    }\n",
       "\n",
       "    .dataframe tbody tr th {\n",
       "        vertical-align: top;\n",
       "    }\n",
       "\n",
       "    .dataframe thead th {\n",
       "        text-align: right;\n",
       "    }\n",
       "</style>\n",
       "<table border=\"1\" class=\"dataframe\">\n",
       "  <thead>\n",
       "    <tr style=\"text-align: right;\">\n",
       "      <th></th>\n",
       "      <th>title</th>\n",
       "      <th>imdb_rating</th>\n",
       "      <th>US_box_office</th>\n",
       "      <th>runtime</th>\n",
       "    </tr>\n",
       "  </thead>\n",
       "  <tbody>\n",
       "    <tr>\n",
       "      <th>0</th>\n",
       "      <td>Doctor Strange in the Multiverse of Madness</td>\n",
       "      <td>6.9</td>\n",
       "      <td>411330000.0</td>\n",
       "      <td>126</td>\n",
       "    </tr>\n",
       "    <tr>\n",
       "      <th>1</th>\n",
       "      <td>It</td>\n",
       "      <td>7.3</td>\n",
       "      <td>327480000.0</td>\n",
       "      <td>135</td>\n",
       "    </tr>\n",
       "    <tr>\n",
       "      <th>2</th>\n",
       "      <td>I Am Legend</td>\n",
       "      <td>7.2</td>\n",
       "      <td>256390000.0</td>\n",
       "      <td>101</td>\n",
       "    </tr>\n",
       "    <tr>\n",
       "      <th>3</th>\n",
       "      <td>The Exorcist</td>\n",
       "      <td>8.1</td>\n",
       "      <td>232910000.0</td>\n",
       "      <td>122</td>\n",
       "    </tr>\n",
       "    <tr>\n",
       "      <th>4</th>\n",
       "      <td>It Chapter Two</td>\n",
       "      <td>6.5</td>\n",
       "      <td>211590000.0</td>\n",
       "      <td>169</td>\n",
       "    </tr>\n",
       "    <tr>\n",
       "      <th>...</th>\n",
       "      <td>...</td>\n",
       "      <td>...</td>\n",
       "      <td>...</td>\n",
       "      <td>...</td>\n",
       "    </tr>\n",
       "    <tr>\n",
       "      <th>45</th>\n",
       "      <td>The Tenant</td>\n",
       "      <td>3.1</td>\n",
       "      <td>10000.0</td>\n",
       "      <td>96</td>\n",
       "    </tr>\n",
       "    <tr>\n",
       "      <th>46</th>\n",
       "      <td>Witch Graveyard</td>\n",
       "      <td>6.8</td>\n",
       "      <td>10000.0</td>\n",
       "      <td>70</td>\n",
       "    </tr>\n",
       "    <tr>\n",
       "      <th>47</th>\n",
       "      <td>Trouble Every Day</td>\n",
       "      <td>5.9</td>\n",
       "      <td>10000.0</td>\n",
       "      <td>101</td>\n",
       "    </tr>\n",
       "    <tr>\n",
       "      <th>48</th>\n",
       "      <td>Honeymoon</td>\n",
       "      <td>5.7</td>\n",
       "      <td>10000.0</td>\n",
       "      <td>87</td>\n",
       "    </tr>\n",
       "    <tr>\n",
       "      <th>49</th>\n",
       "      <td>13 Sins</td>\n",
       "      <td>6.3</td>\n",
       "      <td>10000.0</td>\n",
       "      <td>93</td>\n",
       "    </tr>\n",
       "  </tbody>\n",
       "</table>\n",
       "<p>1200 rows × 4 columns</p>\n",
       "</div>"
      ],
      "text/plain": [
       "                                          title  imdb_rating  US_box_office   \n",
       "0   Doctor Strange in the Multiverse of Madness          6.9    411330000.0  \\\n",
       "1                                            It          7.3    327480000.0   \n",
       "2                                   I Am Legend          7.2    256390000.0   \n",
       "3                                  The Exorcist          8.1    232910000.0   \n",
       "4                                It Chapter Two          6.5    211590000.0   \n",
       "..                                          ...          ...            ...   \n",
       "45                                   The Tenant          3.1        10000.0   \n",
       "46                              Witch Graveyard          6.8        10000.0   \n",
       "47                            Trouble Every Day          5.9        10000.0   \n",
       "48                                    Honeymoon          5.7        10000.0   \n",
       "49                                      13 Sins          6.3        10000.0   \n",
       "\n",
       "    runtime  \n",
       "0       126  \n",
       "1       135  \n",
       "2       101  \n",
       "3       122  \n",
       "4       169  \n",
       "..      ...  \n",
       "45       96  \n",
       "46       70  \n",
       "47      101  \n",
       "48       87  \n",
       "49       93  \n",
       "\n",
       "[1200 rows x 4 columns]"
      ]
     },
     "execution_count": 3,
     "metadata": {},
     "output_type": "execute_result"
    }
   ],
   "source": [
    "clean.clean_local(df1)\n",
    "clean.clean_aquired(df2)"
   ]
  },
  {
   "cell_type": "code",
   "execution_count": 4,
   "metadata": {},
   "outputs": [
    {
     "data": {
      "text/html": [
       "<div>\n",
       "<style scoped>\n",
       "    .dataframe tbody tr th:only-of-type {\n",
       "        vertical-align: middle;\n",
       "    }\n",
       "\n",
       "    .dataframe tbody tr th {\n",
       "        vertical-align: top;\n",
       "    }\n",
       "\n",
       "    .dataframe thead th {\n",
       "        text-align: right;\n",
       "    }\n",
       "</style>\n",
       "<table border=\"1\" class=\"dataframe\">\n",
       "  <thead>\n",
       "    <tr style=\"text-align: right;\">\n",
       "      <th></th>\n",
       "      <th>title</th>\n",
       "      <th>original_language</th>\n",
       "      <th>release_date</th>\n",
       "      <th>popularity</th>\n",
       "      <th>vote_count</th>\n",
       "      <th>vote_average</th>\n",
       "      <th>budget</th>\n",
       "      <th>genre_names</th>\n",
       "      <th>collection_name</th>\n",
       "      <th>year_release</th>\n",
       "      <th>imdb_rating</th>\n",
       "      <th>US_box_office</th>\n",
       "      <th>runtime</th>\n",
       "      <th>profit</th>\n",
       "    </tr>\n",
       "  </thead>\n",
       "  <tbody>\n",
       "    <tr>\n",
       "      <th>1134</th>\n",
       "      <td>Bad Moon</td>\n",
       "      <td>en</td>\n",
       "      <td>1996-11-01</td>\n",
       "      <td>8.762</td>\n",
       "      <td>192</td>\n",
       "      <td>6.8</td>\n",
       "      <td>7000000.0</td>\n",
       "      <td>Horror</td>\n",
       "      <td>NaN</td>\n",
       "      <td>1996</td>\n",
       "      <td>5.8</td>\n",
       "      <td>1060000.0</td>\n",
       "      <td>80</td>\n",
       "      <td>-5940000.0</td>\n",
       "    </tr>\n",
       "  </tbody>\n",
       "</table>\n",
       "</div>"
      ],
      "text/plain": [
       "         title original_language release_date  popularity  vote_count   \n",
       "1134  Bad Moon                en   1996-11-01       8.762         192  \\\n",
       "\n",
       "      vote_average     budget genre_names collection_name year_release   \n",
       "1134           6.8  7000000.0      Horror             NaN         1996  \\\n",
       "\n",
       "      imdb_rating  US_box_office  runtime     profit  \n",
       "1134          5.8      1060000.0       80 -5940000.0  "
      ]
     },
     "execution_count": 4,
     "metadata": {},
     "output_type": "execute_result"
    }
   ],
   "source": [
    "merged_df = clean.assemble(df1,df2)\n",
    "merged_df.sample()"
   ]
  },
  {
   "cell_type": "code",
   "execution_count": 5,
   "metadata": {},
   "outputs": [
    {
     "data": {
      "application/vnd.plotly.v1+json": {
       "config": {
        "plotlyServerURL": "https://plot.ly"
       },
       "data": [
        {
         "customdata": [
          [
           "Beast"
          ],
          [
           "Beast"
          ],
          [
           "The Black Phone"
          ],
          [
           "Nope"
          ],
          [
           "X"
          ],
          [
           "Dahmer"
          ],
          [
           "Halloween Kills"
          ],
          [
           "Scream"
          ],
          [
           "Scream"
          ],
          [
           "Scream"
          ],
          [
           "Scream"
          ],
          [
           "Scream"
          ],
          [
           "Scream"
          ],
          [
           "Orphan"
          ],
          [
           "Orphan"
          ],
          [
           "The Conjuring: The Devil Made Me Do It"
          ],
          [
           "Resident Evil: Welcome to Raccoon City"
          ],
          [
           "It Chapter Two"
          ],
          [
           "The Unholy"
          ],
          [
           "The Forever Purge"
          ],
          [
           "Don't Breathe 2"
          ],
          [
           "Jeepers Creepers"
          ],
          [
           "The Conjuring"
          ],
          [
           "Jeepers Creepers 2"
          ],
          [
           "The Invitation"
          ],
          [
           "The Invitation"
          ],
          [
           "Halloween"
          ],
          [
           "Halloween"
          ],
          [
           "Halloween"
          ],
          [
           "Halloween"
          ],
          [
           "Halloween"
          ],
          [
           "Halloween"
          ],
          [
           "Halloween"
          ],
          [
           "Halloween"
          ],
          [
           "Halloween"
          ],
          [
           "A Quiet Place Part II"
          ],
          [
           "Old"
          ],
          [
           "Bride of Chucky"
          ],
          [
           "The Conjuring 2"
          ],
          [
           "World War Z"
          ],
          [
           "The Nun"
          ],
          [
           "A Haunted House 2"
          ],
          [
           "Constantine"
          ],
          [
           "Wrong Turn"
          ],
          [
           "The Meg"
          ],
          [
           "The Addams Family"
          ],
          [
           "Legion"
          ],
          [
           "Child's Play"
          ],
          [
           "Child's Play"
          ],
          [
           "Child's Play"
          ],
          [
           "Child's Play"
          ],
          [
           "A Haunted House"
          ],
          [
           "The First Purge"
          ],
          [
           "It"
          ],
          [
           "Abraham Lincoln: Vampire Hunter"
          ],
          [
           "Seed of Chucky"
          ],
          [
           "The Exorcist"
          ],
          [
           "Army of the Dead"
          ],
          [
           "Child's Play 2"
          ],
          [
           "Train to Busan"
          ],
          [
           "Saw"
          ],
          [
           "Saw"
          ],
          [
           "The Purge: Election Year"
          ],
          [
           "The Curse of La Llorona"
          ],
          [
           "Child's Play 3"
          ],
          [
           "Hellraiser"
          ],
          [
           "Hellraiser"
          ],
          [
           "The Hunt"
          ],
          [
           "The Hunt"
          ],
          [
           "The Hunt"
          ],
          [
           "The Hunt"
          ],
          [
           "Annabelle Comes Home"
          ],
          [
           "The Texas Chainsaw Massacre"
          ],
          [
           "Split"
          ],
          [
           "Hereditary"
          ],
          [
           "Final Destination"
          ],
          [
           "Curse of Chucky"
          ],
          [
           "The Purge"
          ],
          [
           "Annabelle: Creation"
          ],
          [
           "The Orphanage"
          ],
          [
           "Hansel & Gretel: Witch Hunters"
          ],
          [
           "The Ring"
          ],
          [
           "Final Destination 5"
          ],
          [
           "Alien: Covenant"
          ],
          [
           "Insidious"
          ],
          [
           "Paranormal Activity: The Marked Ones"
          ],
          [
           "Goosebumps"
          ],
          [
           "Freddy vs. Jason"
          ],
          [
           "Paranormal Activity"
          ],
          [
           "Carrie"
          ],
          [
           "Carrie"
          ],
          [
           "Carrie"
          ],
          [
           "Carrie"
          ],
          [
           "The Texas Chainsaw Massacre: The Beginning"
          ],
          [
           "The Witch"
          ],
          [
           "The Witch"
          ],
          [
           "Get Out"
          ],
          [
           "The Ruins"
          ],
          [
           "Annabelle"
          ],
          [
           "Halloween 4: The Return of Michael Myers"
          ],
          [
           "Insidious: Chapter 2"
          ],
          [
           "The Human Centipede (First Sequence)"
          ],
          [
           "Underworld: Awakening"
          ],
          [
           "Final Destination 3"
          ],
          [
           "Scouts Guide to the Zombie Apocalypse"
          ],
          [
           "Sinister"
          ],
          [
           "Zombieland"
          ],
          [
           "Final Destination 2"
          ],
          [
           "Truth or Dare"
          ],
          [
           "Truth or Dare"
          ],
          [
           "A Quiet Place"
          ],
          [
           "The Shining"
          ],
          [
           "Underworld: Blood Wars"
          ],
          [
           "House of Wax"
          ],
          [
           "House of Wax"
          ],
          [
           "House of Wax"
          ],
          [
           "House of Wax"
          ],
          [
           "Peninsula"
          ],
          [
           "The Hills Have Eyes"
          ],
          [
           "The Hills Have Eyes"
          ],
          [
           "The Hills Have Eyes"
          ],
          [
           "The Hills Have Eyes"
          ],
          [
           "Candyman"
          ],
          [
           "Candyman"
          ],
          [
           "Candyman"
          ],
          [
           "Candyman"
          ],
          [
           "Dreamcatcher"
          ],
          [
           "Freddy's Dead: The Final Nightmare"
          ],
          [
           "Friday the 13th"
          ],
          [
           "Friday the 13th"
          ],
          [
           "Friday the 13th"
          ],
          [
           "Friday the 13th"
          ],
          [
           "The Purge: Anarchy"
          ],
          [
           "Alien"
          ],
          [
           "Escape Room: Tournament of Champions"
          ],
          [
           "Jennifer's Body"
          ],
          [
           "Saw II"
          ],
          [
           "Halloween II"
          ],
          [
           "Halloween II"
          ],
          [
           "Halloween II"
          ],
          [
           "Halloween II"
          ],
          [
           "Drag Me to Hell"
          ],
          [
           "Dead Silence"
          ],
          [
           "Saw III"
          ],
          [
           "Midsommar"
          ],
          [
           "Zombieland: Double Tap"
          ],
          [
           "Halloween 5: The Revenge of Michael Myers"
          ],
          [
           "Blade"
          ],
          [
           "I Spit on Your Grave"
          ],
          [
           "I Spit on Your Grave"
          ],
          [
           "The Texas Chain Saw Massacre"
          ],
          [
           "The Cabin in the Woods"
          ],
          [
           "The Thing"
          ],
          [
           "The Thing"
          ],
          [
           "The Thing"
          ],
          [
           "The Thing"
          ],
          [
           "Insidious: The Last Key"
          ],
          [
           "Paranormal Activity 3"
          ],
          [
           "Saw IV"
          ],
          [
           "Annihilation"
          ],
          [
           "The New Mutants"
          ],
          [
           "The Hills Have Eyes 2"
          ],
          [
           "28 Weeks Later"
          ],
          [
           "Don't Breathe"
          ],
          [
           "The Final Destination"
          ],
          [
           "Knock Knock"
          ],
          [
           "Knock Knock"
          ],
          [
           "The Exorcism of Emily Rose"
          ],
          [
           "Halloween: The Curse of Michael Myers"
          ],
          [
           "Thir13en Ghosts"
          ],
          [
           "Scream 2"
          ],
          [
           "Hostel"
          ],
          [
           "Sleepy Hollow"
          ],
          [
           "Piranha 3D"
          ],
          [
           "It Follows"
          ],
          [
           "Evil Dead"
          ],
          [
           "Hostel: Part II"
          ],
          [
           "Crawl"
          ],
          [
           "28 Days Later"
          ],
          [
           "Ghost Ship"
          ],
          [
           "Friday the 13th: The Final Chapter"
          ],
          [
           "Insidious: Chapter 3"
          ],
          [
           "Halloween: Resurrection"
          ],
          [
           "The Ring Two"
          ],
          [
           "Saw 3D"
          ],
          [
           "Shaun of the Dead"
          ],
          [
           "The Blair Witch Project"
          ],
          [
           "The Evil Dead"
          ],
          [
           "Friday the 13th Part 2"
          ],
          [
           "A Nightmare on Elm Street"
          ],
          [
           "A Nightmare on Elm Street"
          ],
          [
           "A Nightmare on Elm Street"
          ],
          [
           "A Nightmare on Elm Street"
          ],
          [
           "Ouija"
          ],
          [
           "The Grudge"
          ],
          [
           "The Grudge"
          ],
          [
           "Saw V"
          ],
          [
           "Fright Night"
          ],
          [
           "Fright Night"
          ],
          [
           "Fright Night"
          ],
          [
           "Fright Night"
          ],
          [
           "As Above, So Below"
          ],
          [
           "Night of the Living Dead"
          ],
          [
           "Night of the Living Dead"
          ],
          [
           "Night of the Living Dead"
          ],
          [
           "Night of the Living Dead"
          ],
          [
           "Scary Stories to Tell in the Dark"
          ],
          [
           "Pet Sematary"
          ],
          [
           "Pet Sematary"
          ],
          [
           "Pet Sematary"
          ],
          [
           "Pet Sematary"
          ],
          [
           "Saw VI"
          ],
          [
           "Scream 4"
          ],
          [
           "Cursed"
          ],
          [
           "Psycho"
          ],
          [
           "Psycho"
          ],
          [
           "Psycho"
          ],
          [
           "Psycho"
          ],
          [
           "Dawn of the Dead"
          ],
          [
           "Dawn of the Dead"
          ],
          [
           "Dawn of the Dead"
          ],
          [
           "Dawn of the Dead"
          ],
          [
           "An American Werewolf in London"
          ],
          [
           "Us"
          ],
          [
           "Brightburn"
          ],
          [
           "Army of Darkness"
          ],
          [
           "Halloween H20: 20 Years Later"
          ],
          [
           "P2"
          ],
          [
           "The Descent"
          ],
          [
           "Anaconda"
          ],
          [
           "Leprechaun"
          ],
          [
           "Poltergeist"
          ],
          [
           "Poltergeist"
          ],
          [
           "Poltergeist"
          ],
          [
           "Poltergeist"
          ],
          [
           "Tremors"
          ],
          [
           "The Amityville Horror"
          ],
          [
           "The Amityville Horror"
          ],
          [
           "Mama"
          ],
          [
           "Blade: Trinity"
          ],
          [
           "Leprechaun 2"
          ],
          [
           "Wish Upon"
          ],
          [
           "Blade II"
          ],
          [
           "Jigsaw"
          ],
          [
           "Jigsaw"
          ],
          [
           "The Boy"
          ],
          [
           "Ready or Not"
          ],
          [
           "Ready or Not"
          ],
          [
           "Event Horizon"
          ],
          [
           "The Return of the Living Dead"
          ],
          [
           "The Strangers: Prey at Night"
          ],
          [
           "Rings"
          ],
          [
           "Rings"
          ],
          [
           "Halloween III: Season of the Witch"
          ],
          [
           "The Last House on the Left"
          ],
          [
           "The Last House on the Left"
          ],
          [
           "The Last House on the Left"
          ],
          [
           "The Last House on the Left"
          ],
          [
           "Species"
          ],
          [
           "Hellbound: Hellraiser II"
          ],
          [
           "Jason Goes to Hell: The Final Friday"
          ],
          [
           "The Exorcist III"
          ],
          [
           "Ouija: Origin of Evil"
          ],
          [
           "The Invisible Man"
          ],
          [
           "The Invisible Man"
          ],
          [
           "The Mummy"
          ],
          [
           "Friday the 13th Part VI: Jason Lives"
          ],
          [
           "Scream 3"
          ],
          [
           "The Unborn"
          ],
          [
           "The Unborn"
          ],
          [
           "A Nightmare on Elm Street 4: The Dream Master"
          ],
          [
           "Bordello of Blood"
          ],
          [
           "Clown"
          ],
          [
           "Clown"
          ],
          [
           "The Wolfman"
          ],
          [
           "Escape Room"
          ],
          [
           "Jason X"
          ],
          [
           "Friday the 13th Part VIII: Jason Takes Manhattan"
          ],
          [
           "The Green Inferno"
          ],
          [
           "Piranha"
          ],
          [
           "Underwater"
          ],
          [
           "Silent Hill"
          ],
          [
           "Lights Out"
          ],
          [
           "Happy Death Day"
          ],
          [
           "Friday the 13th Part III"
          ],
          [
           "The Craft"
          ],
          [
           "Suspiria"
          ],
          [
           "Children of the Corn"
          ],
          [
           "Children of the Corn"
          ],
          [
           "Children of the Corn"
          ],
          [
           "Overlord"
          ],
          [
           "The Mist"
          ],
          [
           "Shin Godzilla"
          ],
          [
           "I Know What You Did Last Summer"
          ],
          [
           "The Babadook"
          ],
          [
           "Evil Dead II"
          ],
          [
           "Possession"
          ],
          [
           "The Texas Chainsaw Massacre 2"
          ],
          [
           "Warm Bodies"
          ],
          [
           "Exorcist II: The Heretic"
          ],
          [
           "Priest"
          ],
          [
           "Life"
          ],
          [
           "See No Evil"
          ],
          [
           "Gothika"
          ],
          [
           "Critters"
          ],
          [
           "Sinister 2"
          ],
          [
           "The Possession of Hannah Grace"
          ],
          [
           "Happy Death Day 2U"
          ],
          [
           "Killer Klowns from Outer Space"
          ],
          [
           "House of 1000 Corpses"
          ],
          [
           "Hellraiser III: Hell on Earth"
          ],
          [
           "Slender Man"
          ],
          [
           "Slender Man"
          ],
          [
           "Cujo"
          ],
          [
           "New Nightmare"
          ],
          [
           "Friday the 13th Part VII: The New Blood"
          ],
          [
           "Creepshow"
          ],
          [
           "Friday the 13th: A New Beginning"
          ],
          [
           "The Birds"
          ],
          [
           "The Shallows"
          ],
          [
           "Gremlins"
          ],
          [
           "The Skin I Live In"
          ],
          [
           "Chernobyl Diaries"
          ],
          [
           "Doctor Sleep"
          ],
          [
           "The Howling"
          ],
          [
           "The Howling"
          ],
          [
           "Gremlins 2: The New Batch"
          ],
          [
           "Crimson Peak"
          ],
          [
           "Paranormal Activity 2"
          ],
          [
           "The Host"
          ],
          [
           "Shutter"
          ],
          [
           "Shutter"
          ],
          [
           "30 Days of Night"
          ],
          [
           "The Vatican Tapes"
          ],
          [
           "Return of the Living Dead III"
          ],
          [
           "47 Meters Down"
          ],
          [
           "The Visit"
          ],
          [
           "The Omen"
          ],
          [
           "The Omen"
          ],
          [
           "The Omen"
          ],
          [
           "The Omen"
          ],
          [
           "The Others"
          ],
          [
           "1408"
          ],
          [
           "Devil"
          ],
          [
           "The Collector"
          ],
          [
           "Oculus"
          ],
          [
           "The Rite"
          ],
          [
           "The Strangers"
          ],
          [
           "The Woman in Black 2: Angel of Death"
          ],
          [
           "Death Becomes Her"
          ],
          [
           "The Fog"
          ],
          [
           "The Fog"
          ],
          [
           "The Fog"
          ],
          [
           "The Fog"
          ],
          [
           "Case 39"
          ],
          [
           "Firestarter"
          ],
          [
           "Firestarter"
          ],
          [
           "Paranormal Activity 4"
          ],
          [
           "Krampus"
          ],
          [
           "You're Next"
          ],
          [
           "House"
          ],
          [
           "House"
          ],
          [
           "Unfriended"
          ],
          [
           "Christine"
          ],
          [
           "10 Cloverfield Lane"
          ],
          [
           "Jaws 2"
          ],
          [
           "Twin Peaks: Fire Walk with Me"
          ],
          [
           "Piranha 3DD"
          ],
          [
           "Pride and Prejudice and Zombies"
          ],
          [
           "The Innocents"
          ],
          [
           "Mandy"
          ],
          [
           "From Dusk Till Dawn"
          ],
          [
           "Wolf Creek"
          ],
          [
           "Exorcist: The Beginning"
          ],
          [
           "From Hell"
          ],
          [
           "Sweeney Todd: The Demon Barber of Fleet Street"
          ],
          [
           "The Messengers"
          ],
          [
           "Splice"
          ],
          [
           "47 Meters Down: Uncaged"
          ],
          [
           "Resident Evil: Apocalypse"
          ],
          [
           "The Pyramid"
          ],
          [
           "Dracula Untold"
          ],
          [
           "Antichrist"
          ],
          [
           "Mirrors"
          ],
          [
           "Cat's Eye"
          ],
          [
           "Jaws: The Revenge"
          ],
          [
           "Stigmata"
          ],
          [
           "A Cure for Wellness"
          ],
          [
           "Silent Night, Deadly Night"
          ],
          [
           "The Crazies"
          ],
          [
           "The Crazies"
          ],
          [
           "The Crazies"
          ],
          [
           "The Crazies"
          ],
          [
           "Spawn"
          ],
          [
           "Alone in the Dark"
          ],
          [
           "Alone in the Dark"
          ],
          [
           "Resident Evil"
          ],
          [
           "Red Riding Hood"
          ],
          [
           "Unfriended: Dark Web"
          ],
          [
           "Pet Sematary II"
          ],
          [
           "An American Werewolf in Paris"
          ],
          [
           "Jaws 3-D"
          ],
          [
           "The Bye Bye Man"
          ],
          [
           "The Fly"
          ],
          [
           "The Fly"
          ],
          [
           "The Fly"
          ],
          [
           "The Fly"
          ],
          [
           "Paranormal Activity: The Ghost Dimension"
          ],
          [
           "The Skeleton Key"
          ],
          [
           "Ma"
          ],
          [
           "Maggie"
          ],
          [
           "The Lost Boys"
          ],
          [
           "Poltergeist II: The Other Side"
          ],
          [
           "eXistenZ"
          ],
          [
           "Book of Shadows: Blair Witch 2"
          ],
          [
           "Pandorum"
          ],
          [
           "I Still Know What You Did Last Summer"
          ],
          [
           "Maximum Overdrive"
          ],
          [
           "The Bad Batch"
          ],
          [
           "Raw"
          ],
          [
           "The Woman in Black"
          ],
          [
           "Incarnate"
          ],
          [
           "Deliver Us from Evil"
          ],
          [
           "Revenge"
          ],
          [
           "Revenge"
          ],
          [
           "Slither"
          ],
          [
           "Hellraiser: Bloodline"
          ],
          [
           "Winchester"
          ],
          [
           "Blair Witch"
          ],
          [
           "Vacancy"
          ],
          [
           "Vacancy"
          ],
          [
           "Ju-on: The Grudge"
          ],
          [
           "The Grudge 2"
          ],
          [
           "The Forest"
          ],
          [
           "The Forest"
          ],
          [
           "When a Stranger Calls"
          ],
          [
           "When a Stranger Calls"
          ],
          [
           "Species II"
          ],
          [
           "The House That Jack Built"
          ],
          [
           "Urban Legends: Final Cut"
          ],
          [
           "The Devil Inside"
          ],
          [
           "Stay Alive"
          ],
          [
           "A Nightmare on Elm Street 3: Dream Warriors"
          ],
          [
           "The Eye"
          ],
          [
           "The Eye"
          ],
          [
           "The Eye"
          ],
          [
           "The Eye"
          ],
          [
           "The Haunting"
          ],
          [
           "The Haunting"
          ],
          [
           "The Last Exorcism"
          ],
          [
           "Let Me In"
          ],
          [
           "A Nightmare on Elm Street: The Dream Child"
          ],
          [
           "The Cave"
          ],
          [
           "Devil's Due"
          ],
          [
           "Land of the Dead"
          ],
          [
           "Lake Placid"
          ],
          [
           "Fantasy Island"
          ],
          [
           "Sleepwalkers"
          ],
          [
           "Cabin Fever"
          ],
          [
           "Teeth"
          ],
          [
           "One Missed Call"
          ],
          [
           "One Missed Call"
          ],
          [
           "Village of the Damned"
          ],
          [
           "Village of the Damned"
          ],
          [
           "Eight Legged Freaks"
          ],
          [
           "Amityville II: The Possession"
          ],
          [
           "Dracula 2000"
          ],
          [
           "Troll Hunter"
          ],
          [
           "Alien³"
          ],
          [
           "Boo 2! A Madea Halloween"
          ],
          [
           "My Bloody Valentine"
          ],
          [
           "My Bloody Valentine"
          ],
          [
           "My Bloody Valentine"
          ],
          [
           "My Bloody Valentine"
          ],
          [
           "End of Days"
          ],
          [
           "Dead Calm"
          ],
          [
           "13 Sins"
          ],
          [
           "Honeymoon"
          ],
          [
           "The Blob"
          ],
          [
           "The Blob"
          ],
          [
           "Green Room"
          ],
          [
           "The Frighteners"
          ],
          [
           "Silver Bullet"
          ],
          [
           "Tusk"
          ],
          [
           "Doom"
          ],
          [
           "Open Water"
          ],
          [
           "Hide and Seek"
          ],
          [
           "Hide and Seek"
          ],
          [
           "The Prodigy"
          ],
          [
           "Orca"
          ],
          [
           "Friend Request"
          ],
          [
           "Dark Skies"
          ],
          [
           "The Lords of Salem"
          ],
          [
           "31"
          ],
          [
           "The Gallows"
          ],
          [
           "Poltergeist III"
          ],
          [
           "Queen of the Damned"
          ],
          [
           "The Wicker Man"
          ],
          [
           "The Wicker Man"
          ],
          [
           "The Wicker Man"
          ],
          [
           "The Wicker Man"
          ],
          [
           "Don't Be Afraid of the Dark"
          ],
          [
           "Flatliners"
          ],
          [
           "Flatliners"
          ],
          [
           "Flatliners"
          ],
          [
           "Flatliners"
          ],
          [
           "The Covenant"
          ],
          [
           "Climax"
          ],
          [
           "The Haunting in Connecticut"
          ],
          [
           "Near Dark"
          ],
          [
           "Pulse"
          ],
          [
           "Pulse"
          ],
          [
           "Pulse"
          ],
          [
           "Pulse"
          ],
          [
           "Pulse"
          ],
          [
           "Pulse"
          ],
          [
           "Gretel & Hansel"
          ],
          [
           "The Faculty"
          ],
          [
           "The Endless"
          ],
          [
           "What Ever Happened to Baby Jane?"
          ],
          [
           "Videodrome"
          ],
          [
           "Survival of the Dead"
          ],
          [
           "Day Watch"
          ],
          [
           "The Neon Demon"
          ],
          [
           "Cemetery Man"
          ],
          [
           "Dracula: Dead and Loving It"
          ],
          [
           "The Witches of Eastwick"
          ],
          [
           "Life After Beth"
          ],
          [
           "The Order"
          ],
          [
           "Buffy the Vampire Slayer"
          ],
          [
           "Dead Snow"
          ],
          [
           "Re-Animator"
          ],
          [
           "The Stepfather"
          ],
          [
           "Vampires"
          ],
          [
           "The Signal"
          ],
          [
           "The Devil's Backbone"
          ],
          [
           "The Gift"
          ],
          [
           "Morgan"
          ],
          [
           "The Midnight Meat Train"
          ],
          [
           "Apollo 18"
          ],
          [
           "The Devil's Rejects"
          ],
          [
           "Mimic"
          ],
          [
           "Angel Heart"
          ],
          [
           "Eraserhead"
          ],
          [
           "The Roommate"
          ],
          [
           "The Awakening"
          ],
          [
           "House on Haunted Hill"
          ],
          [
           "House on Haunted Hill"
          ],
          [
           "Silent Night, Deadly Night Part 2"
          ],
          [
           "Prom Night"
          ],
          [
           "Prom Night"
          ],
          [
           "Children of the Corn II: The Final Sacrifice"
          ],
          [
           "The Mothman Prophecies"
          ],
          [
           "It Comes at Night"
          ],
          [
           "An American Haunting"
          ],
          [
           "Twilight Zone: The Movie"
          ],
          [
           "The Last Exorcism Part II"
          ],
          [
           "Assassination Nation"
          ],
          [
           "Invasion of the Body Snatchers"
          ],
          [
           "Invasion of the Body Snatchers"
          ],
          [
           "Wolf"
          ],
          [
           "Psycho II"
          ],
          [
           "Day of the Dead"
          ],
          [
           "Day of the Dead"
          ],
          [
           "Afflicted"
          ],
          [
           "The Possession"
          ],
          [
           "What Lies Beneath"
          ],
          [
           "The Cell"
          ],
          [
           "Below"
          ],
          [
           "In the Mouth of Madness"
          ],
          [
           "Intruders"
          ],
          [
           "Shocker"
          ],
          [
           "Rogue"
          ],
          [
           "The Darkest Hour"
          ],
          [
           "Brotherhood of the Wolf"
          ],
          [
           "Tale of Tales"
          ],
          [
           "Arachnophobia"
          ],
          [
           "The Rocky Horror Picture Show"
          ],
          [
           "Let the Right One In"
          ],
          [
           "The Belko Experiment"
          ],
          [
           "Boo! A Madea Halloween"
          ],
          [
           "Creepshow 2"
          ],
          [
           "Godzilla"
          ],
          [
           "Warlock: The Armageddon"
          ],
          [
           "Dark Water"
          ],
          [
           "Dark Water"
          ],
          [
           "Dracula"
          ],
          [
           "Dracula"
          ],
          [
           "Dracula"
          ],
          [
           "Dracula"
          ],
          [
           "Dracula"
          ],
          [
           "Dracula"
          ],
          [
           "Virus"
          ],
          [
           "Virus"
          ],
          [
           "Virus"
          ],
          [
           "What We Do in the Shadows"
          ],
          [
           "Turistas"
          ],
          [
           "Scanners"
          ],
          [
           "Hatchet"
          ],
          [
           "Deep Rising"
          ],
          [
           "Urban Legend"
          ],
          [
           "The Bird with the Crystal Plumage"
          ],
          [
           "Ravenous"
          ],
          [
           "Ravenous"
          ],
          [
           "Aftershock"
          ],
          [
           "Little Shop of Horrors"
          ],
          [
           "Quarantine"
          ],
          [
           "The Lazarus Effect"
          ],
          [
           "The Stepford Wives"
          ],
          [
           "The Stepford Wives"
          ],
          [
           "Hell Fest"
          ],
          [
           "Lifeforce"
          ],
          [
           "Cure"
          ],
          [
           "Bug"
          ],
          [
           "Bug"
          ],
          [
           "Graveyard Shift"
          ],
          [
           "White Noise"
          ],
          [
           "Mary Shelley's Frankenstein"
          ],
          [
           "Black Christmas"
          ],
          [
           "Black Christmas"
          ],
          [
           "Black Christmas"
          ],
          [
           "Black Christmas"
          ],
          [
           "Black Christmas"
          ],
          [
           "Black Christmas"
          ],
          [
           "Feast"
          ],
          [
           "Altered States"
          ],
          [
           "Damien: Omen II"
          ],
          [
           "Supernova"
          ],
          [
           "Wishmaster"
          ],
          [
           "Unsane"
          ],
          [
           "The Entity"
          ],
          [
           "Sorority Row"
          ],
          [
           "Pumpkinhead"
          ],
          [
           "Red State"
          ],
          [
           "Blood: The Last Vampire"
          ],
          [
           "Jacob's Ladder"
          ],
          [
           "Tales from the Darkside: The Movie"
          ],
          [
           "BloodRayne"
          ],
          [
           "Cat People"
          ],
          [
           "Cat People"
          ],
          [
           "Valentine"
          ],
          [
           "The Relic"
          ],
          [
           "The Apparition"
          ],
          [
           "The Apparition"
          ],
          [
           "Resident Evil: Extinction"
          ],
          [
           "Meet the Blacks"
          ],
          [
           "Idle Hands"
          ],
          [
           "Ghosts of Mars"
          ],
          [
           "Demons"
          ],
          [
           "The Reaping"
          ],
          [
           "Riding the Bullet"
          ],
          [
           "The People Under the Stairs"
          ],
          [
           "Wind Chill"
          ],
          [
           "Night of the Comet"
          ],
          [
           "Once Bitten"
          ],
          [
           "Lost Souls"
          ],
          [
           "The Hidden"
          ],
          [
           "Prince of Darkness"
          ],
          [
           "The Prophecy"
          ],
          [
           "Phoenix Forgotten"
          ],
          [
           "The Rage: Carrie 2"
          ],
          [
           "Tales from the Crypt: Demon Knight"
          ],
          [
           "Dead & Buried"
          ],
          [
           "The Darkness"
          ],
          [
           "After Midnight"
          ],
          [
           "Phantasm"
          ],
          [
           "The Disappointments Room"
          ],
          [
           "The Island of Dr. Moreau"
          ],
          [
           "The Island of Dr. Moreau"
          ],
          [
           "The Island of Dr. Moreau"
          ],
          [
           "The Island of Dr. Moreau"
          ],
          [
           "Stir of Echoes"
          ],
          [
           "Take Shelter"
          ],
          [
           "Out of the Dark"
          ],
          [
           "Thirst"
          ],
          [
           "Leviathan"
          ],
          [
           "Disturbing Behavior"
          ],
          [
           "Shadow of the Vampire"
          ],
          [
           "Sleepaway Camp"
          ],
          [
           "Raising Cain"
          ],
          [
           "The Lawnmower Man"
          ],
          [
           "Magic"
          ],
          [
           "Deadly Blessing"
          ],
          [
           "Blood and Chocolate"
          ],
          [
           "From Beyond"
          ],
          [
           "Vampire in Brooklyn"
          ],
          [
           "The Serpent and the Rainbow"
          ],
          [
           "Don't Look Now"
          ],
          [
           "Henry: Portrait of a Serial Killer"
          ],
          [
           "Boogeyman"
          ],
          [
           "I Know Who Killed Me"
          ],
          [
           "Diabolique"
          ],
          [
           "Diabolique"
          ],
          [
           "Bats"
          ],
          [
           "The Dead Zone"
          ],
          [
           "Godsend"
          ],
          [
           "Rubber"
          ],
          [
           "Tales from the Hood"
          ],
          [
           "The Night Flier"
          ],
          [
           "K-12"
          ],
          [
           "Ghoulies"
          ],
          [
           "The Bride"
          ],
          [
           "Night of the Demons"
          ],
          [
           "Night of the Demons"
          ],
          [
           "Dark Angel"
          ],
          [
           "Peeping Tom"
          ],
          [
           "Session 9"
          ],
          [
           "The Keep"
          ],
          [
           "Diary of the Dead"
          ],
          [
           "The Innkeepers"
          ],
          [
           "The Gate"
          ],
          [
           "Fido"
          ],
          [
           "House at the End of the Street"
          ],
          [
           "Hatchet II"
          ],
          [
           "Stake Land"
          ],
          [
           "Gozu"
          ],
          [
           "Screamers"
          ],
          [
           "Dracula: Prince of Darkness"
          ],
          [
           "April Fool's Day"
          ],
          [
           "April Fool's Day"
          ],
          [
           "They"
          ],
          [
           "Troll"
          ],
          [
           "Pathology"
          ],
          [
           "Night of the Creeps"
          ],
          [
           "Soul Survivors"
          ],
          [
           "Psycho Beach Party"
          ],
          [
           "Bless the Child"
          ],
          [
           "Man-Thing"
          ],
          [
           "House of the Dead"
          ],
          [
           "Body Snatchers"
          ],
          [
           "Psycho III"
          ],
          [
           "No One Lives"
          ],
          [
           "Beyond the Black Rainbow"
          ],
          [
           "Lady in White"
          ],
          [
           "The Forsaken"
          ],
          [
           "The Return of Swamp Thing"
          ],
          [
           "Invaders from Mars"
          ],
          [
           "Invaders from Mars"
          ],
          [
           "Maniac Cop"
          ],
          [
           "C.H.U.D."
          ],
          [
           "May"
          ],
          [
           "Sisters"
          ],
          [
           "Sisters"
          ],
          [
           "The House on Sorority Row"
          ],
          [
           "Nightbreed"
          ],
          [
           "Frankenhooker"
          ],
          [
           "The Curse of Frankenstein"
          ],
          [
           "The Hunchback of Notre Dame"
          ],
          [
           "Silent House"
          ],
          [
           "The Dark Half"
          ],
          [
           "Warlock"
          ],
          [
           "Club Dread"
          ],
          [
           "The Return"
          ],
          [
           "Brain Dead"
          ],
          [
           "The Quiet Ones"
          ],
          [
           "The Giant Spider Invasion"
          ],
          [
           "The Lair of the White Worm"
          ],
          [
           "Frankenstein Unbound"
          ],
          [
           "Dead Ringers"
          ],
          [
           "Split Second"
          ],
          [
           "Blacula"
          ],
          [
           "Bones"
          ],
          [
           "Waxwork"
          ],
          [
           "Darkness"
          ],
          [
           "Darkness"
          ],
          [
           "Bad Moon"
          ],
          [
           "Monkey Shines"
          ],
          [
           "My Soul to Take"
          ],
          [
           "Treehouse"
          ],
          [
           "Repo! The Genetic Opera"
          ],
          [
           "The Company of Wolves"
          ],
          [
           "Vampire's Kiss"
          ],
          [
           "Mary Reilly"
          ],
          [
           "Communion"
          ],
          [
           "Attack of the 50 Foot Woman"
          ],
          [
           "Razorback"
          ],
          [
           "The Zodiac"
          ],
          [
           "Timber Falls"
          ],
          [
           "The Toxic Avenger Part II"
          ],
          [
           "Chain Letter"
          ],
          [
           "Blood Feast"
          ],
          [
           "The Abandoned"
          ],
          [
           "Two Evil Eyes"
          ],
          [
           "Hideaway"
          ],
          [
           "Tamara"
          ],
          [
           "The Hand"
          ],
          [
           "Motel Hell"
          ],
          [
           "Prophecy"
          ],
          [
           "DeepStar Six"
          ],
          [
           "The Beast from 20,000 Fathoms"
          ],
          [
           "Vamp"
          ],
          [
           "The Guardian"
          ],
          [
           "Bad Dreams"
          ],
          [
           "The Pit and the Pendulum"
          ],
          [
           "The Pit and the Pendulum"
          ],
          [
           "Joshua"
          ],
          [
           "Dead Heat"
          ],
          [
           "The Abominable Dr. Phibes"
          ],
          [
           "The Lure"
          ],
          [
           "The Lure"
          ],
          [
           "Captain Kronos: Vampire Hunter"
          ],
          [
           "Kingdom of the Spiders"
          ],
          [
           "The Last Circus"
          ],
          [
           "Phantasm II"
          ],
          [
           "Wolfen"
          ],
          [
           "Flesh for Frankenstein"
          ],
          [
           "Strangeland"
          ],
          [
           "The Church"
          ],
          [
           "Captivity"
          ],
          [
           "Parasite"
          ],
          [
           "Parasite"
          ],
          [
           "Prison"
          ],
          [
           "The Little Shop of Horrors"
          ],
          [
           "Willard"
          ],
          [
           "Willard"
          ],
          [
           "Anguish"
          ],
          [
           "November"
          ],
          [
           "The Boogey Man"
          ],
          [
           "Resident Evil: Retribution"
          ],
          [
           "My Name Is Bruce"
          ],
          [
           "The Phantom of the Opera"
          ],
          [
           "The Phantom of the Opera"
          ],
          [
           "The First Power"
          ],
          [
           "Silent Rage"
          ],
          [
           "Wendigo"
          ],
          [
           "Man's Best Friend"
          ],
          [
           "Dylan Dog: Dead of Night"
          ],
          [
           "Demon"
          ],
          [
           "Of Unknown Origin"
          ],
          [
           "Thr3e"
          ],
          [
           "The Island"
          ],
          [
           "Abbott and Costello Meet Dr. Jekyll and Mr. Hyde"
          ],
          [
           "Creature"
          ],
          [
           "Creature"
          ],
          [
           "Creature"
          ],
          [
           "Creature"
          ],
          [
           "Creature"
          ],
          [
           "Creature"
          ],
          [
           "Incident at Loch Ness"
          ],
          [
           "The Lost Skeleton of Cadavra"
          ],
          [
           "House of Usher"
          ],
          [
           "House of Usher"
          ],
          [
           "The Killer Shrews"
          ],
          [
           "Slumber Party Massacre III"
          ],
          [
           "Carnosaur"
          ],
          [
           "Witchboard"
          ],
          [
           "I Was a Teenage Werewolf"
          ],
          [
           "Ghost in the Machine"
          ],
          [
           "From a Whisper to a Scream"
          ],
          [
           "Eyes of a Stranger"
          ],
          [
           "Robot Monster"
          ],
          [
           "Night of Dark Shadows"
          ],
          [
           "The Eclipse"
          ],
          [
           "House of Dark Shadows"
          ],
          [
           "Not of This Earth"
          ],
          [
           "Not of This Earth"
          ],
          [
           "Poison"
          ],
          [
           "The Outing"
          ],
          [
           "The Kiss"
          ],
          [
           "The Kiss"
          ],
          [
           "Escape from Tomorrow"
          ],
          [
           "Revelation"
          ],
          [
           "The Legend of Boggy Creek"
          ],
          [
           "Repentance"
          ],
          [
           "Count Yorga, Vampire"
          ],
          [
           "Night of the Living Dead 3D"
          ],
          [
           "The Afflicted"
          ],
          [
           "Beyond the Door"
          ],
          [
           "Beware! The Blob"
          ],
          [
           "Fright"
          ],
          [
           "Go Goa Gone"
          ],
          [
           "Ezra"
          ],
          [
           "Creepozoids"
          ],
          [
           "The Possession of Joel Delaney"
          ],
          [
           "Cameron's Closet"
          ],
          [
           "Time Walker"
          ],
          [
           "Bloodthirsty Butchers"
          ],
          [
           "Cruel World"
          ],
          [
           "Meet the Applegates"
          ],
          [
           "Resident Evil: The Final Chapter"
          ],
          [
           "Dracula: Pages from a Virgin's Diary"
          ],
          [
           "Deadfall Trail"
          ],
          [
           "Octaman"
          ],
          [
           "The Intruder"
          ],
          [
           "Clinton Road"
          ],
          [
           "Glass"
          ],
          [
           "Resident Evil: Afterlife"
          ],
          [
           "Midget Zombie Takeover"
          ],
          [
           "A Polish Vampire in Burbank"
          ],
          [
           "The Naked Witch"
          ],
          [
           "Hobo with a Shotgun"
          ],
          [
           "Evidence of a Haunting"
          ],
          [
           "Holla"
          ],
          [
           "Monster from the Ocean Floor"
          ]
         ],
         "hovertemplate": "IMDB ratings=%{x}<br>Profit=%{y}<br>title=%{customdata[0]}<extra></extra>",
         "legendgroup": "",
         "marker": {
          "color": "#636efa",
          "symbol": "circle"
         },
         "mode": "markers",
         "name": "",
         "orientation": "v",
         "showlegend": false,
         "type": "scatter",
         "x": [
          5.6,
          5.6,
          6.9,
          6.8,
          6.1,
          5.6,
          5.5,
          7.4,
          6.3,
          2.9,
          7.4,
          6.3,
          2.9,
          7,
          7,
          6.3,
          5.2,
          6.5,
          5,
          5.4,
          6,
          6.2,
          7.5,
          5.6,
          6.6,
          6.6,
          6.5,
          6,
          7.7,
          6.5,
          6,
          7.7,
          6.5,
          6,
          7.7,
          7.2,
          5.8,
          5.6,
          7.3,
          7,
          5.3,
          4.6,
          7,
          6.1,
          5.6,
          5.8,
          5.2,
          6.6,
          5.7,
          6.6,
          5.7,
          5,
          5.2,
          7.3,
          5.9,
          4.9,
          8.1,
          5.7,
          5.9,
          7.6,
          7.6,
          7.6,
          6,
          5.2,
          5.1,
          6.9,
          6.9,
          6.5,
          6.5,
          6.5,
          6.5,
          5.9,
          6.2,
          7.3,
          7.3,
          6.7,
          5.6,
          5.7,
          6.5,
          7.4,
          6.1,
          7.1,
          5.9,
          6.4,
          6.8,
          5,
          6.3,
          5.7,
          6.3,
          5.8,
          7.4,
          5.8,
          7.4,
          5.8,
          6.9,
          6.9,
          7.7,
          5.9,
          5.4,
          5.8,
          6.5,
          4.4,
          6.3,
          5.8,
          6.3,
          6.8,
          7.6,
          6.2,
          5.2,
          5.2,
          7.5,
          8.4,
          5.7,
          5.4,
          7,
          5.4,
          7,
          5.5,
          6.4,
          6.3,
          6.4,
          6.3,
          5.9,
          6.7,
          5.9,
          6.7,
          5.5,
          4.7,
          5.5,
          6.4,
          5.5,
          6.4,
          6.4,
          8.5,
          5.7,
          5.4,
          6.6,
          4.7,
          6.5,
          4.7,
          6.5,
          6.6,
          6.1,
          6.2,
          7.1,
          6.7,
          4.9,
          7.1,
          6.2,
          6.2,
          7.4,
          7,
          6.2,
          8.2,
          6.2,
          8.2,
          5.7,
          5.8,
          5.9,
          6.8,
          5.3,
          5.1,
          6.9,
          7.1,
          5.1,
          4.9,
          4.9,
          6.7,
          4.7,
          5.6,
          6.3,
          5.9,
          7.3,
          5.5,
          6.8,
          6.5,
          5.5,
          6.1,
          7.5,
          5.5,
          6,
          6.1,
          3.9,
          5.4,
          5.5,
          7.9,
          6.5,
          7.4,
          6.1,
          5.2,
          7.4,
          5.2,
          7.4,
          4.5,
          5.9,
          5.9,
          5.8,
          7,
          6.4,
          7,
          6.4,
          6.2,
          6.8,
          7.8,
          6.8,
          7.8,
          6.2,
          6.5,
          5.7,
          6.5,
          5.7,
          6,
          6.2,
          5,
          8.5,
          4.6,
          8.5,
          4.6,
          7.3,
          7.8,
          7.3,
          7.8,
          7.5,
          6.8,
          6.1,
          7.4,
          5.8,
          5.9,
          7.2,
          4.8,
          4.8,
          7.3,
          4.9,
          7.3,
          4.9,
          7.1,
          6.1,
          5.9,
          6.2,
          5.8,
          4.6,
          5,
          6.7,
          5.7,
          5.7,
          6,
          6.8,
          6.8,
          6.6,
          7.3,
          5.2,
          4.5,
          4.5,
          5.1,
          6.5,
          5.9,
          6.5,
          5.9,
          5.8,
          6.4,
          4.1,
          6.5,
          6.2,
          7.1,
          7.1,
          5.4,
          6,
          5.6,
          4.7,
          4.7,
          5.6,
          5.4,
          5.7,
          5.7,
          5.8,
          6.4,
          4.4,
          4.5,
          5.3,
          5.9,
          5.9,
          6.5,
          6.3,
          6.6,
          5.6,
          6.4,
          6.7,
          5.6,
          5.6,
          5.6,
          6.6,
          7.1,
          6.8,
          5.8,
          6.8,
          7.7,
          7.3,
          5.6,
          6.8,
          3.8,
          5.7,
          6.6,
          5,
          5.8,
          6.1,
          5.3,
          5.2,
          6.2,
          6.2,
          6,
          5.5,
          3.2,
          3.2,
          6.1,
          6.4,
          5.2,
          6.8,
          4.7,
          7.6,
          6.3,
          7.3,
          7.6,
          5,
          7.3,
          6.5,
          6.5,
          6.4,
          6.5,
          5.7,
          7.1,
          5.2,
          5.2,
          6.6,
          4.7,
          5.9,
          5.6,
          6.2,
          5.5,
          7.5,
          5.5,
          7.5,
          7.6,
          6.8,
          6.3,
          6.3,
          6.5,
          6,
          6.1,
          4.8,
          6.6,
          3.7,
          6.8,
          3.7,
          6.8,
          6.2,
          6,
          6,
          4.6,
          6.2,
          6.6,
          6.1,
          4.5,
          5.6,
          6.7,
          7.2,
          5.8,
          7.2,
          3.8,
          5.8,
          7.8,
          6.5,
          7.2,
          6.2,
          5.1,
          6.7,
          7.3,
          5.3,
          5.8,
          5,
          6.1,
          4.6,
          6.2,
          6.5,
          6.1,
          6.3,
          3,
          6.2,
          6.4,
          5.8,
          6.5,
          6.1,
          6.5,
          6.1,
          5.2,
          2.4,
          2.4,
          6.6,
          5.4,
          6,
          4.9,
          5.1,
          3.7,
          4.3,
          7.6,
          7.1,
          7.6,
          7.1,
          4.6,
          6.5,
          5.6,
          5.6,
          7.2,
          5.6,
          6.8,
          4,
          6.7,
          4.7,
          5.4,
          5.2,
          7,
          6.4,
          5.3,
          6.2,
          6.4,
          6.4,
          6.5,
          5,
          5.4,
          5,
          6.2,
          6.2,
          6.7,
          5,
          4.8,
          4.8,
          5.1,
          6.4,
          4.5,
          6.8,
          4.3,
          4.2,
          5,
          6.6,
          5.4,
          6.6,
          5.4,
          6.6,
          5,
          7.4,
          5.7,
          7.1,
          5,
          5.1,
          4.1,
          6.2,
          5.8,
          4.9,
          5.3,
          5.6,
          5.4,
          4,
          4,
          5.6,
          5.6,
          5.5,
          5.5,
          4.9,
          6.9,
          6.4,
          3.9,
          5.4,
          6.2,
          5.4,
          6.2,
          5.8,
          6.8,
          6.3,
          5.7,
          6.6,
          6.6,
          7,
          7.1,
          6.4,
          5.3,
          5.2,
          5.8,
          5.9,
          5.9,
          5.9,
          5.7,
          5.2,
          6.3,
          5.2,
          5.1,
          4.2,
          4.7,
          5.2,
          3.7,
          7.5,
          3.7,
          7.5,
          5.5,
          6.5,
          5.2,
          6.5,
          5.2,
          5.1,
          6.9,
          5.8,
          6.9,
          4.7,
          6.5,
          5.4,
          4.7,
          6.5,
          5.4,
          5.5,
          6.6,
          6.5,
          8,
          7.2,
          4.8,
          6.4,
          6.1,
          7.1,
          5.8,
          6.5,
          5.6,
          5.1,
          5.7,
          6.3,
          7.2,
          6.7,
          6.1,
          6,
          7.4,
          6.7,
          5.8,
          6,
          5.2,
          6.7,
          6,
          7.2,
          7.3,
          4.8,
          4.8,
          5.6,
          5.6,
          3.8,
          3.9,
          5.3,
          4.3,
          6.4,
          6.2,
          5,
          6.4,
          4,
          6,
          7.4,
          7.4,
          6.2,
          6.6,
          7.1,
          7.1,
          6.2,
          5.9,
          6.6,
          6.4,
          6.1,
          7.1,
          5.4,
          5.5,
          6.2,
          4.9,
          7,
          6.4,
          6.5,
          7.4,
          7.9,
          6.1,
          4.6,
          6,
          7.5,
          5.4,
          5.6,
          5.6,
          7.4,
          6.5,
          7.4,
          6.5,
          7.4,
          6.5,
          5,
          5,
          5,
          7.6,
          5.4,
          6.7,
          5.6,
          6.1,
          5.6,
          7.1,
          6.9,
          6.9,
          4.8,
          7.1,
          5.9,
          5.2,
          5.3,
          6.9,
          5.5,
          6.1,
          7.5,
          6.1,
          5.2,
          4.9,
          5.5,
          6.3,
          4.6,
          7.1,
          4.6,
          7.1,
          4.6,
          7.1,
          6.2,
          6.9,
          6.2,
          4.8,
          5.8,
          6.4,
          6.7,
          5.1,
          6.2,
          6.1,
          5.2,
          7.4,
          6.2,
          2.9,
          6.2,
          7.2,
          4.9,
          5.8,
          4.1,
          4.1,
          6.2,
          4.8,
          6.2,
          4.9,
          3.7,
          5.6,
          5.2,
          6.4,
          5.8,
          6.3,
          5.5,
          4.8,
          7,
          6.7,
          6.4,
          5.3,
          4.7,
          6.7,
          6.5,
          4.5,
          5.5,
          6.6,
          3.9,
          4.5,
          5.9,
          4.5,
          5.9,
          6.9,
          7.3,
          5.3,
          7.1,
          5.8,
          5.6,
          6.9,
          6.2,
          6,
          5.4,
          6.8,
          5.5,
          5.3,
          6.6,
          4.6,
          6.4,
          7.1,
          7,
          4.2,
          3.6,
          5.4,
          8.1,
          4,
          7.2,
          4.8,
          5.7,
          6.5,
          6,
          6.4,
          4.1,
          5.4,
          6.1,
          6.1,
          6.1,
          7.6,
          6.4,
          5.7,
          5.5,
          5.5,
          6,
          6.7,
          5.5,
          5.4,
          6.4,
          6.9,
          6.3,
          6.7,
          6.1,
          6.1,
          4.8,
          4.6,
          5.9,
          6.7,
          3.9,
          6,
          5.1,
          4,
          2.1,
          6,
          5.4,
          5.9,
          5.9,
          6.5,
          5.3,
          4.6,
          5.5,
          5.5,
          6,
          5.6,
          6.6,
          6.9,
          6.9,
          5.9,
          6.5,
          6.2,
          7,
          7.2,
          5.2,
          6,
          6.2,
          5.6,
          4.7,
          5.9,
          5.1,
          3.2,
          6,
          5.4,
          7.2,
          6,
          5.7,
          4.4,
          6.1,
          5.4,
          5.4,
          5.8,
          6.2,
          4.7,
          3.8,
          6.4,
          6.6,
          6.1,
          5.8,
          5.5,
          5,
          6,
          5.3,
          5.2,
          5,
          4.1,
          5,
          5.5,
          6.1,
          5.3,
          5,
          5.5,
          6,
          5.5,
          5.3,
          6.6,
          5.9,
          5.3,
          5.6,
          7,
          7,
          5.8,
          6,
          7.1,
          6.3,
          6.3,
          6.4,
          5.7,
          6.5,
          6.4,
          6.3,
          5.8,
          5,
          2.8,
          4.6,
          4,
          4,
          5.8,
          6.2,
          6.2,
          6.1,
          6.7,
          7.2,
          4.6,
          5.3,
          6.2,
          5.5,
          7.5,
          5.7,
          5.4,
          5.1,
          5.2,
          5.1,
          6.1,
          6.1,
          4.9,
          5.3,
          6.4,
          4.4,
          3.6,
          4.4,
          3.6,
          4.4,
          3.6,
          6.5,
          6.8,
          6.9,
          6.9,
          4.1,
          4.5,
          3.6,
          5.7,
          5.1,
          4.6,
          5.8,
          5.9,
          2.9,
          5.4,
          6,
          6.3,
          4.9,
          4.9,
          6.3,
          5.1,
          5.4,
          5.4,
          5.1,
          4.7,
          5.2,
          4.9,
          5.7,
          3.1,
          4.5,
          4.7,
          4.1,
          5.8,
          6.6,
          6.6,
          4,
          5.7,
          5,
          3.6,
          3.3,
          3.7,
          5.4,
          5.5,
          6.9,
          4,
          3.4,
          5.6,
          3.1,
          6.6,
          5.8,
          3.2,
          4.9,
          5,
          6.1,
          2.4,
          3.4,
          3.8
         ],
         "xaxis": "x",
         "y": [
          31825000,
          31849200,
          71320000,
          55280000,
          -9860000,
          -110000,
          72000000,
          79050000,
          57640000,
          -22920000,
          89050000,
          67640000,
          -12920000,
          21600000,
          41595000,
          26629999.999999993,
          -23000000,
          132590000,
          -3660000,
          26540000,
          22640000,
          27900000,
          124400000,
          18670000,
          -9770000,
          -770000,
          149340000,
          48270000,
          37000000,
          159015000,
          57945000,
          46675000,
          144340000,
          43270000,
          32000000,
          99070000,
          30280000,
          7400000,
          62470000,
          2360000,
          95450000,
          13330000,
          -24020000,
          2820000,
          -6990000,
          60040000,
          14170000,
          24240000.000000004,
          20210000,
          23240000.000000004,
          19210000,
          37540000,
          56490000,
          292480000,
          -31480000,
          5080000,
          221910000,
          -500000,
          15500000,
          -6370000,
          54800000,
          55998000,
          69210000,
          45730000,
          1960000,
          560000,
          13560000,
          -8190000,
          5310000,
          5809600,
          5808000,
          44150000,
          71070000,
          129290000,
          34070000,
          30330000,
          -1200000,
          61470000,
          87090000,
          3760000,
          5700000,
          81130000,
          -4410000,
          -22740000,
          52510000,
          27460000,
          22080000,
          52620000,
          107705000,
          33470000,
          32000000,
          5270000,
          3800000,
          23520000,
          21640000,
          25127500,
          171540000,
          9430000,
          77770000,
          12770000,
          78590000,
          -1831799,
          -7680000,
          29100000,
          -11360000,
          45090000,
          51990000,
          20960000,
          37910000,
          41245000,
          171020000,
          25020000,
          -4650000,
          -7939999.999999996,
          -16250000,
          31402000.000000004,
          23092000,
          -15770000,
          26780000,
          10000000,
          41550000,
          24770000,
          36190000,
          790000,
          55190000,
          19790000,
          -34280000,
          23870000,
          46000000,
          20750000,
          64450000,
          39200000,
          62960000,
          67900000,
          10190000,
          200000,
          83040000,
          23390000,
          15530000,
          30890000,
          23030000,
          12100000,
          -3190000,
          70240000,
          18330000,
          31120000,
          8640000,
          25090000,
          -1910000,
          -560000,
          30775000,
          12070000,
          1930000,
          -1220000,
          -18070000,
          -21220000,
          57750000,
          99010000,
          53300000,
          -7270000.000000004,
          -43140000,
          5800000,
          13640000,
          79320000,
          26480000.000000007,
          -2460000,
          -1160000,
          56070000,
          10120000,
          -130000,
          77360000,
          42530000,
          1070000,
          1000000,
          12670000,
          37240000,
          7410000,
          25510000,
          40060000,
          -4890000,
          30379999.999999996,
          42220000,
          17350000,
          26230000,
          25710000,
          7440000,
          140480000,
          2050000,
          20470000,
          28080000,
          -9500000,
          61280000,
          23700000,
          45860000,
          100360000,
          100360000,
          45950000,
          15920000,
          9300000,
          -5080000,
          -11700000,
          16200000,
          1640000,
          -4110000,
          5726000,
          -24000,
          43950000,
          45970000,
          43220000,
          36470000,
          33720000,
          16690000,
          -1820000,
          -15700000,
          31193053,
          20653053,
          -28000000,
          -38540000,
          33020000,
          -20900000,
          58370000,
          4450000,
          20570000,
          155080000,
          11300000,
          500000,
          38040000,
          490000,
          22520000,
          20890000,
          7660000,
          65910000,
          36730000,
          41610000,
          12430000,
          5670000.000000002,
          67430000,
          46230000.00000001,
          56630000,
          -12590000,
          260000,
          2300000,
          28350000,
          28050000,
          38015000,
          25820000,
          22710000,
          28670000,
          -33330000,
          10240000,
          11930000,
          2790000,
          27770000,
          11900000,
          17750000,
          -11900000,
          32660000,
          3010000,
          25070000,
          8090000,
          12940000,
          16800000,
          26140000,
          63410000,
          70409850,
          -44900000,
          16470000,
          49140000,
          26670000,
          -14840000,
          36370000,
          -9410000,
          50000,
          45000,
          -88020000,
          48010000,
          2120000,
          9340000,
          2190000,
          5340000,
          -32710000,
          -3020000,
          62370000,
          50880000,
          32690000,
          9880000,
          -17530000,
          13770000,
          10070000,
          13770000,
          -16300000,
          7590000,
          -13080000,
          55590000,
          -1080000,
          2420000,
          1030000,
          3529999.999999999,
          31379999.999999993,
          16750000,
          -30860000,
          -27770000,
          7030000,
          19690000,
          11170000,
          17740000,
          7140000,
          19150000,
          13630000,
          5630000,
          7530000,
          20570000,
          30564000,
          16200000,
          10090000,
          16370000,
          13030000,
          19730000,
          8900000,
          38120000,
          137170000,
          -9810000,
          17120000,
          -13420000,
          16990000,
          17840000,
          -8520000,
          -23910000,
          81750000,
          -8800000,
          25805000,
          25730000,
          9570000,
          -11290000,
          -1950000,
          38810000,
          60209999.99999999,
          51810000,
          1470000,
          29610000,
          -20730000,
          79520000,
          46990000,
          23580000,
          4310000,
          22700000,
          -3950000.0000000037,
          43600000,
          11500000,
          3420000,
          28510000,
          20380000,
          11510000,
          3380000,
          -13750000,
          3100000,
          100000,
          48920000,
          27590000,
          17470000,
          16440000,
          -2430000,
          31479999.999999996,
          11500000,
          57080000,
          82920000,
          -5840000,
          -4620000,
          -17090000,
          -780000,
          -4790000,
          6750000,
          15190000.000000002,
          -38180000,
          -3400000,
          2900000,
          19370000,
          -9000000,
          10260000,
          6200000,
          -3740000,
          -13720000,
          -10600000,
          -4310000,
          6090000,
          -2240000,
          21050000,
          -31890000,
          1425000,
          19120000,
          -19850000,
          38845000,
          -125000,
          14970000,
          -14820000,
          4180000,
          7120000,
          -4340000,
          7780000,
          9090000,
          4570000,
          25020000,
          14980000,
          25460000,
          -12000000,
          39760000,
          2300000,
          8300000,
          4810000,
          40370000,
          -3810000,
          23720000,
          22000000,
          -12160000,
          11440000,
          -22670000,
          -25000000,
          -2570000,
          -5820000,
          -2990000,
          37330000,
          -210000,
          580000,
          -2800000,
          -50000,
          -7230000,
          12680000,
          21590000,
          15780000,
          360000,
          19359950,
          -3170000,
          19140000,
          16580000,
          26579998,
          32860000,
          6410000,
          -15830000,
          -9710000,
          7470000,
          52260000,
          14090000,
          40790000,
          19420000,
          -11500000,
          20713925,
          -10206075,
          11410000,
          -77380000,
          39230000,
          -7870000,
          16170000,
          -14990000,
          8820000,
          5700000,
          4770000,
          20310000,
          15520000,
          19660000,
          -1650000,
          6880000,
          25180000,
          -12580000,
          9220000,
          -12680000,
          7530000,
          5020000.000000004,
          -3250000,
          5470000,
          22320000,
          36550000,
          -9330000,
          49350000,
          3470000,
          -33110000,
          -2570000,
          -4990000,
          -990000,
          -10750000,
          8140000,
          -1780000,
          -13239999.999999998,
          -1600000,
          -1180000,
          -31790000,
          30480000,
          21100000,
          49200000,
          8860000,
          8720000,
          -6140000,
          13910000,
          -340000,
          -720000,
          22660000,
          3610000,
          -4660000,
          -16360000,
          -39940000,
          22830000,
          -750000,
          -960000,
          42490000,
          -2130000,
          35490000,
          -9130000,
          3290000,
          -2140457,
          45390000,
          -1630000,
          -17740000,
          -37950000,
          -37960000,
          -4740000,
          -24950000,
          -24960000,
          10350000,
          25060000,
          -730000,
          3070000,
          -3832000,
          -3900000,
          -3750000,
          -5670000,
          -3750000,
          -19230000,
          41770000,
          -2320000,
          -27340000,
          9620000.000000002,
          -760000,
          1120000,
          -17510000,
          240000,
          550000,
          -3750000,
          2010000,
          -4090000,
          -14920000,
          12690000,
          10040000,
          -4520000,
          190000,
          6900000,
          21300000,
          3621765,
          3850000,
          40650000,
          -100000,
          42370000,
          13300000,
          6080000,
          3750000,
          8990000,
          2300000,
          19500000,
          10180000,
          -5040000,
          21450000,
          24533000,
          -4989999.999999993,
          29730000,
          2300000,
          -12200000,
          -198000,
          35130000,
          55460000,
          28330000,
          -39390000,
          950000,
          -12930000,
          11550000,
          -19990000,
          -8570000,
          -17740000,
          -11920000,
          22210000,
          138680000,
          -1880000,
          5160000,
          53210000,
          10500000,
          1520000,
          900000,
          -4530000,
          21470000,
          82415120,
          20055120,
          72520000,
          10160000,
          82483000,
          20123000,
          -60990000,
          -1990000,
          13950000,
          1730000,
          -2970000,
          10130000,
          -1340000,
          -33800000,
          24070000,
          -80000,
          -940000,
          -9940000,
          -1960000,
          13750000,
          19690000,
          22500000,
          -30520000,
          -81280000,
          5610000,
          -13400000,
          70000,
          3010000,
          -400000,
          1080000,
          46390000,
          -22990000,
          7239999.999999998,
          -4950000,
          15619999.999999998,
          3430000,
          11239999.999999998,
          -950000,
          -3150000,
          4850000,
          -2920000,
          -75780000,
          10720000,
          6230000,
          4280000,
          -540000,
          890000,
          -2900000,
          -29740000,
          1120000,
          12820000,
          -22590000,
          -11000000,
          -14000000,
          10380000,
          -26040000,
          -12070000,
          4928500,
          5650000,
          8190000,
          -21000000,
          -19570000,
          -1500000,
          -14880000,
          -4900000,
          18200000,
          -5980000,
          11420000,
          6800000,
          -33220000,
          4750000,
          11180000,
          8120000.000000002,
          800000,
          -3240000,
          8090000,
          -2780000,
          6730000,
          -2920000,
          11690000,
          -12590000,
          21660000,
          2720000,
          -12340000,
          -31280000,
          9130000,
          -3270000,
          -1180000,
          -4700000,
          -9300000,
          2410000,
          289999.99999999907,
          10650000,
          9370000,
          22100000,
          18940000,
          5779999.999999999,
          -11470000,
          -3240000,
          5750000,
          12600000,
          -520000,
          499000,
          26750000,
          -4500000,
          -27900000,
          -43910000,
          4910000,
          10770000,
          -10620000,
          -400000,
          5800000,
          -870000,
          -5700000,
          34000000,
          2100000,
          -6890000,
          1910000,
          -2650000,
          -70000,
          -1120000,
          -2240000,
          -1040000,
          -670000,
          11040000,
          -7700000,
          24710000,
          -2440000,
          -630000,
          -200000,
          -14220000,
          519621,
          7950000,
          7950000,
          -4160000,
          4350000,
          -7890000,
          -4410000,
          -13900000,
          -1230000,
          -10630000,
          -4860000,
          -1750000,
          -12570000,
          6080000,
          -2830000,
          -1040000,
          -2990000,
          2290000,
          -3810000,
          -7120000,
          4590000,
          -430000,
          3400000,
          -350000,
          -150000,
          290000,
          865000,
          -2140000,
          -2290000,
          17170000,
          1220000,
          10560000,
          -5420000,
          2090000,
          -3510000,
          -7250000,
          -370000,
          8300000,
          -10000,
          -1310000,
          -11170000,
          -3870000,
          -1570000,
          2500000,
          -2690000,
          -2190000,
          11560000,
          22155000,
          -5940000,
          -1660000,
          -10360000,
          0,
          -8360000,
          2390000,
          -1270000,
          -41290000,
          -3080000,
          392000,
          -5350000,
          -960000,
          -2550000,
          -1510000,
          -4860000,
          3975500,
          -1740000,
          -8650000,
          -2800000,
          -4580000,
          -4050000,
          3340000,
          6390000,
          140000.00000000093,
          4790000,
          1640000,
          16040000,
          5800000,
          2360000,
          4160000,
          280000,
          -1410000,
          -2450000,
          -1200000,
          97214,
          -280000,
          16500000,
          -6960000,
          4280000,
          -6370000,
          9800000,
          -470000,
          -2730000,
          -14370000,
          6200000,
          6999700,
          -3650000,
          1370000,
          -2780000,
          -15110000,
          229500,
          -1530000,
          4200000,
          -22650000,
          -1330000,
          -6050000,
          -6250000,
          12420000,
          5990000,
          95000,
          6970000,
          -18820000,
          -400000,
          -2920000,
          -1390000,
          -6280000,
          1895195,
          1780000,
          -2670000,
          4030000,
          -420000,
          4773000,
          323000,
          -1360000,
          100000,
          2890000,
          2160000,
          877000,
          890000,
          750000,
          5370000,
          1918000,
          -6910000,
          260000,
          320000,
          984000,
          2150000,
          -2870000,
          3250000,
          -100000,
          10000,
          360000,
          -920000,
          -4130000,
          1605000,
          169350,
          -1290000,
          180000,
          -3820000,
          146000,
          -2780000,
          0,
          -270000,
          -100000,
          169990,
          -2400000,
          4570000,
          -65000,
          -1130000,
          -6860000,
          -320000,
          202000,
          -1980000,
          -4510000,
          -13170000,
          -1536010,
          -60000,
          30000,
          34920000,
          -2450000,
          111049997,
          130000,
          8000,
          497000,
          72000,
          699850,
          25000,
          169800,
          108000
         ],
         "yaxis": "y"
        }
       ],
       "layout": {
        "legend": {
         "tracegroupgap": 0
        },
        "shapes": [
         {
          "type": "line",
          "x0": 0,
          "x1": 10,
          "y0": 70000000,
          "y1": 70000000
         }
        ],
        "template": {
         "data": {
          "bar": [
           {
            "error_x": {
             "color": "#2a3f5f"
            },
            "error_y": {
             "color": "#2a3f5f"
            },
            "marker": {
             "line": {
              "color": "#E5ECF6",
              "width": 0.5
             },
             "pattern": {
              "fillmode": "overlay",
              "size": 10,
              "solidity": 0.2
             }
            },
            "type": "bar"
           }
          ],
          "barpolar": [
           {
            "marker": {
             "line": {
              "color": "#E5ECF6",
              "width": 0.5
             },
             "pattern": {
              "fillmode": "overlay",
              "size": 10,
              "solidity": 0.2
             }
            },
            "type": "barpolar"
           }
          ],
          "carpet": [
           {
            "aaxis": {
             "endlinecolor": "#2a3f5f",
             "gridcolor": "white",
             "linecolor": "white",
             "minorgridcolor": "white",
             "startlinecolor": "#2a3f5f"
            },
            "baxis": {
             "endlinecolor": "#2a3f5f",
             "gridcolor": "white",
             "linecolor": "white",
             "minorgridcolor": "white",
             "startlinecolor": "#2a3f5f"
            },
            "type": "carpet"
           }
          ],
          "choropleth": [
           {
            "colorbar": {
             "outlinewidth": 0,
             "ticks": ""
            },
            "type": "choropleth"
           }
          ],
          "contour": [
           {
            "colorbar": {
             "outlinewidth": 0,
             "ticks": ""
            },
            "colorscale": [
             [
              0,
              "#0d0887"
             ],
             [
              0.1111111111111111,
              "#46039f"
             ],
             [
              0.2222222222222222,
              "#7201a8"
             ],
             [
              0.3333333333333333,
              "#9c179e"
             ],
             [
              0.4444444444444444,
              "#bd3786"
             ],
             [
              0.5555555555555556,
              "#d8576b"
             ],
             [
              0.6666666666666666,
              "#ed7953"
             ],
             [
              0.7777777777777778,
              "#fb9f3a"
             ],
             [
              0.8888888888888888,
              "#fdca26"
             ],
             [
              1,
              "#f0f921"
             ]
            ],
            "type": "contour"
           }
          ],
          "contourcarpet": [
           {
            "colorbar": {
             "outlinewidth": 0,
             "ticks": ""
            },
            "type": "contourcarpet"
           }
          ],
          "heatmap": [
           {
            "colorbar": {
             "outlinewidth": 0,
             "ticks": ""
            },
            "colorscale": [
             [
              0,
              "#0d0887"
             ],
             [
              0.1111111111111111,
              "#46039f"
             ],
             [
              0.2222222222222222,
              "#7201a8"
             ],
             [
              0.3333333333333333,
              "#9c179e"
             ],
             [
              0.4444444444444444,
              "#bd3786"
             ],
             [
              0.5555555555555556,
              "#d8576b"
             ],
             [
              0.6666666666666666,
              "#ed7953"
             ],
             [
              0.7777777777777778,
              "#fb9f3a"
             ],
             [
              0.8888888888888888,
              "#fdca26"
             ],
             [
              1,
              "#f0f921"
             ]
            ],
            "type": "heatmap"
           }
          ],
          "heatmapgl": [
           {
            "colorbar": {
             "outlinewidth": 0,
             "ticks": ""
            },
            "colorscale": [
             [
              0,
              "#0d0887"
             ],
             [
              0.1111111111111111,
              "#46039f"
             ],
             [
              0.2222222222222222,
              "#7201a8"
             ],
             [
              0.3333333333333333,
              "#9c179e"
             ],
             [
              0.4444444444444444,
              "#bd3786"
             ],
             [
              0.5555555555555556,
              "#d8576b"
             ],
             [
              0.6666666666666666,
              "#ed7953"
             ],
             [
              0.7777777777777778,
              "#fb9f3a"
             ],
             [
              0.8888888888888888,
              "#fdca26"
             ],
             [
              1,
              "#f0f921"
             ]
            ],
            "type": "heatmapgl"
           }
          ],
          "histogram": [
           {
            "marker": {
             "pattern": {
              "fillmode": "overlay",
              "size": 10,
              "solidity": 0.2
             }
            },
            "type": "histogram"
           }
          ],
          "histogram2d": [
           {
            "colorbar": {
             "outlinewidth": 0,
             "ticks": ""
            },
            "colorscale": [
             [
              0,
              "#0d0887"
             ],
             [
              0.1111111111111111,
              "#46039f"
             ],
             [
              0.2222222222222222,
              "#7201a8"
             ],
             [
              0.3333333333333333,
              "#9c179e"
             ],
             [
              0.4444444444444444,
              "#bd3786"
             ],
             [
              0.5555555555555556,
              "#d8576b"
             ],
             [
              0.6666666666666666,
              "#ed7953"
             ],
             [
              0.7777777777777778,
              "#fb9f3a"
             ],
             [
              0.8888888888888888,
              "#fdca26"
             ],
             [
              1,
              "#f0f921"
             ]
            ],
            "type": "histogram2d"
           }
          ],
          "histogram2dcontour": [
           {
            "colorbar": {
             "outlinewidth": 0,
             "ticks": ""
            },
            "colorscale": [
             [
              0,
              "#0d0887"
             ],
             [
              0.1111111111111111,
              "#46039f"
             ],
             [
              0.2222222222222222,
              "#7201a8"
             ],
             [
              0.3333333333333333,
              "#9c179e"
             ],
             [
              0.4444444444444444,
              "#bd3786"
             ],
             [
              0.5555555555555556,
              "#d8576b"
             ],
             [
              0.6666666666666666,
              "#ed7953"
             ],
             [
              0.7777777777777778,
              "#fb9f3a"
             ],
             [
              0.8888888888888888,
              "#fdca26"
             ],
             [
              1,
              "#f0f921"
             ]
            ],
            "type": "histogram2dcontour"
           }
          ],
          "mesh3d": [
           {
            "colorbar": {
             "outlinewidth": 0,
             "ticks": ""
            },
            "type": "mesh3d"
           }
          ],
          "parcoords": [
           {
            "line": {
             "colorbar": {
              "outlinewidth": 0,
              "ticks": ""
             }
            },
            "type": "parcoords"
           }
          ],
          "pie": [
           {
            "automargin": true,
            "type": "pie"
           }
          ],
          "scatter": [
           {
            "fillpattern": {
             "fillmode": "overlay",
             "size": 10,
             "solidity": 0.2
            },
            "type": "scatter"
           }
          ],
          "scatter3d": [
           {
            "line": {
             "colorbar": {
              "outlinewidth": 0,
              "ticks": ""
             }
            },
            "marker": {
             "colorbar": {
              "outlinewidth": 0,
              "ticks": ""
             }
            },
            "type": "scatter3d"
           }
          ],
          "scattercarpet": [
           {
            "marker": {
             "colorbar": {
              "outlinewidth": 0,
              "ticks": ""
             }
            },
            "type": "scattercarpet"
           }
          ],
          "scattergeo": [
           {
            "marker": {
             "colorbar": {
              "outlinewidth": 0,
              "ticks": ""
             }
            },
            "type": "scattergeo"
           }
          ],
          "scattergl": [
           {
            "marker": {
             "colorbar": {
              "outlinewidth": 0,
              "ticks": ""
             }
            },
            "type": "scattergl"
           }
          ],
          "scattermapbox": [
           {
            "marker": {
             "colorbar": {
              "outlinewidth": 0,
              "ticks": ""
             }
            },
            "type": "scattermapbox"
           }
          ],
          "scatterpolar": [
           {
            "marker": {
             "colorbar": {
              "outlinewidth": 0,
              "ticks": ""
             }
            },
            "type": "scatterpolar"
           }
          ],
          "scatterpolargl": [
           {
            "marker": {
             "colorbar": {
              "outlinewidth": 0,
              "ticks": ""
             }
            },
            "type": "scatterpolargl"
           }
          ],
          "scatterternary": [
           {
            "marker": {
             "colorbar": {
              "outlinewidth": 0,
              "ticks": ""
             }
            },
            "type": "scatterternary"
           }
          ],
          "surface": [
           {
            "colorbar": {
             "outlinewidth": 0,
             "ticks": ""
            },
            "colorscale": [
             [
              0,
              "#0d0887"
             ],
             [
              0.1111111111111111,
              "#46039f"
             ],
             [
              0.2222222222222222,
              "#7201a8"
             ],
             [
              0.3333333333333333,
              "#9c179e"
             ],
             [
              0.4444444444444444,
              "#bd3786"
             ],
             [
              0.5555555555555556,
              "#d8576b"
             ],
             [
              0.6666666666666666,
              "#ed7953"
             ],
             [
              0.7777777777777778,
              "#fb9f3a"
             ],
             [
              0.8888888888888888,
              "#fdca26"
             ],
             [
              1,
              "#f0f921"
             ]
            ],
            "type": "surface"
           }
          ],
          "table": [
           {
            "cells": {
             "fill": {
              "color": "#EBF0F8"
             },
             "line": {
              "color": "white"
             }
            },
            "header": {
             "fill": {
              "color": "#C8D4E3"
             },
             "line": {
              "color": "white"
             }
            },
            "type": "table"
           }
          ]
         },
         "layout": {
          "annotationdefaults": {
           "arrowcolor": "#2a3f5f",
           "arrowhead": 0,
           "arrowwidth": 1
          },
          "autotypenumbers": "strict",
          "coloraxis": {
           "colorbar": {
            "outlinewidth": 0,
            "ticks": ""
           }
          },
          "colorscale": {
           "diverging": [
            [
             0,
             "#8e0152"
            ],
            [
             0.1,
             "#c51b7d"
            ],
            [
             0.2,
             "#de77ae"
            ],
            [
             0.3,
             "#f1b6da"
            ],
            [
             0.4,
             "#fde0ef"
            ],
            [
             0.5,
             "#f7f7f7"
            ],
            [
             0.6,
             "#e6f5d0"
            ],
            [
             0.7,
             "#b8e186"
            ],
            [
             0.8,
             "#7fbc41"
            ],
            [
             0.9,
             "#4d9221"
            ],
            [
             1,
             "#276419"
            ]
           ],
           "sequential": [
            [
             0,
             "#0d0887"
            ],
            [
             0.1111111111111111,
             "#46039f"
            ],
            [
             0.2222222222222222,
             "#7201a8"
            ],
            [
             0.3333333333333333,
             "#9c179e"
            ],
            [
             0.4444444444444444,
             "#bd3786"
            ],
            [
             0.5555555555555556,
             "#d8576b"
            ],
            [
             0.6666666666666666,
             "#ed7953"
            ],
            [
             0.7777777777777778,
             "#fb9f3a"
            ],
            [
             0.8888888888888888,
             "#fdca26"
            ],
            [
             1,
             "#f0f921"
            ]
           ],
           "sequentialminus": [
            [
             0,
             "#0d0887"
            ],
            [
             0.1111111111111111,
             "#46039f"
            ],
            [
             0.2222222222222222,
             "#7201a8"
            ],
            [
             0.3333333333333333,
             "#9c179e"
            ],
            [
             0.4444444444444444,
             "#bd3786"
            ],
            [
             0.5555555555555556,
             "#d8576b"
            ],
            [
             0.6666666666666666,
             "#ed7953"
            ],
            [
             0.7777777777777778,
             "#fb9f3a"
            ],
            [
             0.8888888888888888,
             "#fdca26"
            ],
            [
             1,
             "#f0f921"
            ]
           ]
          },
          "colorway": [
           "#636efa",
           "#EF553B",
           "#00cc96",
           "#ab63fa",
           "#FFA15A",
           "#19d3f3",
           "#FF6692",
           "#B6E880",
           "#FF97FF",
           "#FECB52"
          ],
          "font": {
           "color": "#2a3f5f"
          },
          "geo": {
           "bgcolor": "white",
           "lakecolor": "white",
           "landcolor": "#E5ECF6",
           "showlakes": true,
           "showland": true,
           "subunitcolor": "white"
          },
          "hoverlabel": {
           "align": "left"
          },
          "hovermode": "closest",
          "mapbox": {
           "style": "light"
          },
          "paper_bgcolor": "white",
          "plot_bgcolor": "#E5ECF6",
          "polar": {
           "angularaxis": {
            "gridcolor": "white",
            "linecolor": "white",
            "ticks": ""
           },
           "bgcolor": "#E5ECF6",
           "radialaxis": {
            "gridcolor": "white",
            "linecolor": "white",
            "ticks": ""
           }
          },
          "scene": {
           "xaxis": {
            "backgroundcolor": "#E5ECF6",
            "gridcolor": "white",
            "gridwidth": 2,
            "linecolor": "white",
            "showbackground": true,
            "ticks": "",
            "zerolinecolor": "white"
           },
           "yaxis": {
            "backgroundcolor": "#E5ECF6",
            "gridcolor": "white",
            "gridwidth": 2,
            "linecolor": "white",
            "showbackground": true,
            "ticks": "",
            "zerolinecolor": "white"
           },
           "zaxis": {
            "backgroundcolor": "#E5ECF6",
            "gridcolor": "white",
            "gridwidth": 2,
            "linecolor": "white",
            "showbackground": true,
            "ticks": "",
            "zerolinecolor": "white"
           }
          },
          "shapedefaults": {
           "line": {
            "color": "#2a3f5f"
           }
          },
          "ternary": {
           "aaxis": {
            "gridcolor": "white",
            "linecolor": "white",
            "ticks": ""
           },
           "baxis": {
            "gridcolor": "white",
            "linecolor": "white",
            "ticks": ""
           },
           "bgcolor": "#E5ECF6",
           "caxis": {
            "gridcolor": "white",
            "linecolor": "white",
            "ticks": ""
           }
          },
          "title": {
           "x": 0.05
          },
          "xaxis": {
           "automargin": true,
           "gridcolor": "white",
           "linecolor": "white",
           "ticks": "",
           "title": {
            "standoff": 15
           },
           "zerolinecolor": "white",
           "zerolinewidth": 2
          },
          "yaxis": {
           "automargin": true,
           "gridcolor": "white",
           "linecolor": "white",
           "ticks": "",
           "title": {
            "standoff": 15
           },
           "zerolinecolor": "white",
           "zerolinewidth": 2
          }
         }
        },
        "title": {
         "text": "Relatioship of profit and IMDB ratings"
        },
        "xaxis": {
         "anchor": "y",
         "domain": [
          0,
          1
         ],
         "title": {
          "text": "IMDB ratings"
         }
        },
        "yaxis": {
         "anchor": "x",
         "domain": [
          0,
          1
         ],
         "title": {
          "text": "Profit"
         }
        }
       }
      }
     },
     "metadata": {},
     "output_type": "display_data"
    }
   ],
   "source": [
    "viz.img1(merged_df)"
   ]
  },
  {
   "cell_type": "code",
   "execution_count": 6,
   "metadata": {},
   "outputs": [
    {
     "data": {
      "application/vnd.plotly.v1+json": {
       "config": {
        "plotlyServerURL": "https://plot.ly"
       },
       "data": [
        {
         "alignmentgroup": "True",
         "boxpoints": "all",
         "customdata": [
          [
           "Beast",
           "2005"
          ],
          [
           "Beast",
           "2009"
          ],
          [
           "The Black Phone",
           "2022"
          ],
          [
           "Nope",
           "2022"
          ],
          [
           "X",
           "2022"
          ],
          [
           "Dahmer",
           "2002"
          ],
          [
           "Halloween Kills",
           "2021"
          ],
          [
           "Scream",
           "2022"
          ],
          [
           "Scream",
           "2022"
          ],
          [
           "Scream",
           "2022"
          ],
          [
           "Scream",
           "1996"
          ],
          [
           "Scream",
           "1996"
          ],
          [
           "Scream",
           "1996"
          ],
          [
           "Orphan",
           "2009"
          ],
          [
           "Orphan",
           "2021"
          ],
          [
           "The Conjuring: The Devil Made Me Do It",
           "2021"
          ],
          [
           "Resident Evil: Welcome to Raccoon City",
           "2021"
          ],
          [
           "It Chapter Two",
           "2019"
          ],
          [
           "The Unholy",
           "2021"
          ],
          [
           "The Forever Purge",
           "2021"
          ],
          [
           "Don't Breathe 2",
           "2021"
          ],
          [
           "Jeepers Creepers",
           "2001"
          ],
          [
           "The Conjuring",
           "2013"
          ],
          [
           "Jeepers Creepers 2",
           "2003"
          ],
          [
           "The Invitation",
           "2022"
          ],
          [
           "The Invitation",
           "2015"
          ],
          [
           "Halloween",
           "2018"
          ],
          [
           "Halloween",
           "2018"
          ],
          [
           "Halloween",
           "2018"
          ],
          [
           "Halloween",
           "1978"
          ],
          [
           "Halloween",
           "1978"
          ],
          [
           "Halloween",
           "1978"
          ],
          [
           "Halloween",
           "2007"
          ],
          [
           "Halloween",
           "2007"
          ],
          [
           "Halloween",
           "2007"
          ],
          [
           "A Quiet Place Part II",
           "2021"
          ],
          [
           "Old",
           "2021"
          ],
          [
           "Bride of Chucky",
           "1998"
          ],
          [
           "The Conjuring 2",
           "2016"
          ],
          [
           "World War Z",
           "2013"
          ],
          [
           "The Nun",
           "2018"
          ],
          [
           "A Haunted House 2",
           "2014"
          ],
          [
           "Constantine",
           "2005"
          ],
          [
           "Wrong Turn",
           "2003"
          ],
          [
           "The Meg",
           "2018"
          ],
          [
           "The Addams Family",
           "2019"
          ],
          [
           "Legion",
           "2010"
          ],
          [
           "Child's Play",
           "1988"
          ],
          [
           "Child's Play",
           "1988"
          ],
          [
           "Child's Play",
           "2019"
          ],
          [
           "Child's Play",
           "2019"
          ],
          [
           "A Haunted House",
           "2013"
          ],
          [
           "The First Purge",
           "2018"
          ],
          [
           "It",
           "2017"
          ],
          [
           "Abraham Lincoln: Vampire Hunter",
           "2012"
          ],
          [
           "Seed of Chucky",
           "2004"
          ],
          [
           "The Exorcist",
           "1973"
          ],
          [
           "Army of the Dead",
           "2008"
          ],
          [
           "Child's Play 2",
           "1990"
          ],
          [
           "Train to Busan",
           "2016"
          ],
          [
           "Saw",
           "2004"
          ],
          [
           "Saw",
           "2003"
          ],
          [
           "The Purge: Election Year",
           "2016"
          ],
          [
           "The Curse of La Llorona",
           "2019"
          ],
          [
           "Child's Play 3",
           "1991"
          ],
          [
           "Hellraiser",
           "2022"
          ],
          [
           "Hellraiser",
           "1987"
          ],
          [
           "The Hunt",
           "2020"
          ],
          [
           "The Hunt",
           "2006"
          ],
          [
           "The Hunt",
           "2022"
          ],
          [
           "The Hunt",
           "2011"
          ],
          [
           "Annabelle Comes Home",
           "2019"
          ],
          [
           "The Texas Chainsaw Massacre",
           "2003"
          ],
          [
           "Split",
           "2016"
          ],
          [
           "Hereditary",
           "2018"
          ],
          [
           "Final Destination",
           "2000"
          ],
          [
           "Curse of Chucky",
           "2013"
          ],
          [
           "The Purge",
           "2013"
          ],
          [
           "Annabelle: Creation",
           "2017"
          ],
          [
           "The Orphanage",
           "2007"
          ],
          [
           "Hansel & Gretel: Witch Hunters",
           "2013"
          ],
          [
           "The Ring",
           "2002"
          ],
          [
           "Final Destination 5",
           "2011"
          ],
          [
           "Alien: Covenant",
           "2017"
          ],
          [
           "Insidious",
           "2010"
          ],
          [
           "Paranormal Activity: The Marked Ones",
           "2014"
          ],
          [
           "Goosebumps",
           "2015"
          ],
          [
           "Freddy vs. Jason",
           "2003"
          ],
          [
           "Paranormal Activity",
           "2007"
          ],
          [
           "Carrie",
           "1976"
          ],
          [
           "Carrie",
           "1976"
          ],
          [
           "Carrie",
           "2013"
          ],
          [
           "Carrie",
           "2013"
          ],
          [
           "The Texas Chainsaw Massacre: The Beginning",
           "2006"
          ],
          [
           "The Witch",
           "2015"
          ],
          [
           "The Witch",
           "2021"
          ],
          [
           "Get Out",
           "2017"
          ],
          [
           "The Ruins",
           "2008"
          ],
          [
           "Annabelle",
           "2014"
          ],
          [
           "Halloween 4: The Return of Michael Myers",
           "1988"
          ],
          [
           "Insidious: Chapter 2",
           "2013"
          ],
          [
           "The Human Centipede (First Sequence)",
           "2009"
          ],
          [
           "Underworld: Awakening",
           "2012"
          ],
          [
           "Final Destination 3",
           "2006"
          ],
          [
           "Scouts Guide to the Zombie Apocalypse",
           "2015"
          ],
          [
           "Sinister",
           "2012"
          ],
          [
           "Zombieland",
           "2009"
          ],
          [
           "Final Destination 2",
           "2003"
          ],
          [
           "Truth or Dare",
           "2018"
          ],
          [
           "Truth or Dare",
           "2013"
          ],
          [
           "A Quiet Place",
           "2018"
          ],
          [
           "The Shining",
           "1980"
          ],
          [
           "Underworld: Blood Wars",
           "2016"
          ],
          [
           "House of Wax",
           "2005"
          ],
          [
           "House of Wax",
           "2005"
          ],
          [
           "House of Wax",
           "1953"
          ],
          [
           "House of Wax",
           "1953"
          ],
          [
           "Peninsula",
           "2020"
          ],
          [
           "The Hills Have Eyes",
           "2006"
          ],
          [
           "The Hills Have Eyes",
           "2006"
          ],
          [
           "The Hills Have Eyes",
           "1977"
          ],
          [
           "The Hills Have Eyes",
           "1977"
          ],
          [
           "Candyman",
           "2021"
          ],
          [
           "Candyman",
           "2021"
          ],
          [
           "Candyman",
           "1992"
          ],
          [
           "Candyman",
           "1992"
          ],
          [
           "Dreamcatcher",
           "2003"
          ],
          [
           "Freddy's Dead: The Final Nightmare",
           "1991"
          ],
          [
           "Friday the 13th",
           "2009"
          ],
          [
           "Friday the 13th",
           "2009"
          ],
          [
           "Friday the 13th",
           "1980"
          ],
          [
           "Friday the 13th",
           "1980"
          ],
          [
           "The Purge: Anarchy",
           "2014"
          ],
          [
           "Alien",
           "1979"
          ],
          [
           "Escape Room: Tournament of Champions",
           "2021"
          ],
          [
           "Jennifer's Body",
           "2009"
          ],
          [
           "Saw II",
           "2005"
          ],
          [
           "Halloween II",
           "2009"
          ],
          [
           "Halloween II",
           "2009"
          ],
          [
           "Halloween II",
           "1981"
          ],
          [
           "Halloween II",
           "1981"
          ],
          [
           "Drag Me to Hell",
           "2009"
          ],
          [
           "Dead Silence",
           "2007"
          ],
          [
           "Saw III",
           "2006"
          ],
          [
           "Midsommar",
           "2019"
          ],
          [
           "Zombieland: Double Tap",
           "2019"
          ],
          [
           "Halloween 5: The Revenge of Michael Myers",
           "1989"
          ],
          [
           "Blade",
           "1998"
          ],
          [
           "I Spit on Your Grave",
           "2010"
          ],
          [
           "I Spit on Your Grave",
           "1978"
          ],
          [
           "The Texas Chain Saw Massacre",
           "1974"
          ],
          [
           "The Cabin in the Woods",
           "2012"
          ],
          [
           "The Thing",
           "1982"
          ],
          [
           "The Thing",
           "1982"
          ],
          [
           "The Thing",
           "2011"
          ],
          [
           "The Thing",
           "2011"
          ],
          [
           "Insidious: The Last Key",
           "2018"
          ],
          [
           "Paranormal Activity 3",
           "2011"
          ],
          [
           "Saw IV",
           "2007"
          ],
          [
           "Annihilation",
           "2018"
          ],
          [
           "The New Mutants",
           "2020"
          ],
          [
           "The Hills Have Eyes 2",
           "2007"
          ],
          [
           "28 Weeks Later",
           "2007"
          ],
          [
           "Don't Breathe",
           "2016"
          ],
          [
           "The Final Destination",
           "2009"
          ],
          [
           "Knock Knock",
           "2015"
          ],
          [
           "Knock Knock",
           "2008"
          ],
          [
           "The Exorcism of Emily Rose",
           "2005"
          ],
          [
           "Halloween: The Curse of Michael Myers",
           "1995"
          ],
          [
           "Thir13en Ghosts",
           "2001"
          ],
          [
           "Scream 2",
           "1997"
          ],
          [
           "Hostel",
           "2005"
          ],
          [
           "Sleepy Hollow",
           "1999"
          ],
          [
           "Piranha 3D",
           "2010"
          ],
          [
           "It Follows",
           "2014"
          ],
          [
           "Evil Dead",
           "2013"
          ],
          [
           "Hostel: Part II",
           "2007"
          ],
          [
           "Crawl",
           "2019"
          ],
          [
           "28 Days Later",
           "2002"
          ],
          [
           "Ghost Ship",
           "2002"
          ],
          [
           "Friday the 13th: The Final Chapter",
           "1984"
          ],
          [
           "Insidious: Chapter 3",
           "2015"
          ],
          [
           "Halloween: Resurrection",
           "2002"
          ],
          [
           "The Ring Two",
           "2005"
          ],
          [
           "Saw 3D",
           "2010"
          ],
          [
           "Shaun of the Dead",
           "2004"
          ],
          [
           "The Blair Witch Project",
           "1999"
          ],
          [
           "The Evil Dead",
           "1981"
          ],
          [
           "Friday the 13th Part 2",
           "1981"
          ],
          [
           "A Nightmare on Elm Street",
           "2010"
          ],
          [
           "A Nightmare on Elm Street",
           "2010"
          ],
          [
           "A Nightmare on Elm Street",
           "1984"
          ],
          [
           "A Nightmare on Elm Street",
           "1984"
          ],
          [
           "Ouija",
           "2014"
          ],
          [
           "The Grudge",
           "2004"
          ],
          [
           "The Grudge",
           "2020"
          ],
          [
           "Saw V",
           "2008"
          ],
          [
           "Fright Night",
           "1985"
          ],
          [
           "Fright Night",
           "1985"
          ],
          [
           "Fright Night",
           "2011"
          ],
          [
           "Fright Night",
           "2011"
          ],
          [
           "As Above, So Below",
           "2014"
          ],
          [
           "Night of the Living Dead",
           "1990"
          ],
          [
           "Night of the Living Dead",
           "1990"
          ],
          [
           "Night of the Living Dead",
           "1968"
          ],
          [
           "Night of the Living Dead",
           "1968"
          ],
          [
           "Scary Stories to Tell in the Dark",
           "2019"
          ],
          [
           "Pet Sematary",
           "1989"
          ],
          [
           "Pet Sematary",
           "1989"
          ],
          [
           "Pet Sematary",
           "2019"
          ],
          [
           "Pet Sematary",
           "2019"
          ],
          [
           "Saw VI",
           "2009"
          ],
          [
           "Scream 4",
           "2011"
          ],
          [
           "Cursed",
           "2005"
          ],
          [
           "Psycho",
           "1960"
          ],
          [
           "Psycho",
           "1960"
          ],
          [
           "Psycho",
           "1998"
          ],
          [
           "Psycho",
           "1998"
          ],
          [
           "Dawn of the Dead",
           "2004"
          ],
          [
           "Dawn of the Dead",
           "2004"
          ],
          [
           "Dawn of the Dead",
           "1978"
          ],
          [
           "Dawn of the Dead",
           "1978"
          ],
          [
           "An American Werewolf in London",
           "1981"
          ],
          [
           "Us",
           "2019"
          ],
          [
           "Brightburn",
           "2019"
          ],
          [
           "Army of Darkness",
           "1992"
          ],
          [
           "Halloween H20: 20 Years Later",
           "1998"
          ],
          [
           "P2",
           "2007"
          ],
          [
           "The Descent",
           "2005"
          ],
          [
           "Anaconda",
           "1997"
          ],
          [
           "Leprechaun",
           "1993"
          ],
          [
           "Poltergeist",
           "1982"
          ],
          [
           "Poltergeist",
           "1982"
          ],
          [
           "Poltergeist",
           "2015"
          ],
          [
           "Poltergeist",
           "2015"
          ],
          [
           "Tremors",
           "1990"
          ],
          [
           "The Amityville Horror",
           "2005"
          ],
          [
           "The Amityville Horror",
           "2005"
          ],
          [
           "Mama",
           "2013"
          ],
          [
           "Blade: Trinity",
           "2004"
          ],
          [
           "Leprechaun 2",
           "1994"
          ],
          [
           "Wish Upon",
           "2017"
          ],
          [
           "Blade II",
           "2002"
          ],
          [
           "Jigsaw",
           "2017"
          ],
          [
           "Jigsaw",
           "2002"
          ],
          [
           "The Boy",
           "2016"
          ],
          [
           "Ready or Not",
           "2019"
          ],
          [
           "Ready or Not",
           "2012"
          ],
          [
           "Event Horizon",
           "1997"
          ],
          [
           "The Return of the Living Dead",
           "1985"
          ],
          [
           "The Strangers: Prey at Night",
           "2018"
          ],
          [
           "Rings",
           "2017"
          ],
          [
           "Rings",
           "2022"
          ],
          [
           "Halloween III: Season of the Witch",
           "1982"
          ],
          [
           "The Last House on the Left",
           "2009"
          ],
          [
           "The Last House on the Left",
           "2009"
          ],
          [
           "The Last House on the Left",
           "1972"
          ],
          [
           "The Last House on the Left",
           "1972"
          ],
          [
           "Species",
           "1995"
          ],
          [
           "Hellbound: Hellraiser II",
           "1988"
          ],
          [
           "Jason Goes to Hell: The Final Friday",
           "1993"
          ],
          [
           "The Exorcist III",
           "1990"
          ],
          [
           "Ouija: Origin of Evil",
           "2016"
          ],
          [
           "The Invisible Man",
           "2020"
          ],
          [
           "The Invisible Man",
           "2021"
          ],
          [
           "The Mummy",
           "2017"
          ],
          [
           "Friday the 13th Part VI: Jason Lives",
           "1986"
          ],
          [
           "Scream 3",
           "2000"
          ],
          [
           "The Unborn",
           "2009"
          ],
          [
           "The Unborn",
           "2009"
          ],
          [
           "A Nightmare on Elm Street 4: The Dream Master",
           "1988"
          ],
          [
           "Bordello of Blood",
           "1996"
          ],
          [
           "Clown",
           "2008"
          ],
          [
           "Clown",
           "2007"
          ],
          [
           "The Wolfman",
           "2010"
          ],
          [
           "Escape Room",
           "2019"
          ],
          [
           "Jason X",
           "2001"
          ],
          [
           "Friday the 13th Part VIII: Jason Takes Manhattan",
           "1989"
          ],
          [
           "The Green Inferno",
           "2013"
          ],
          [
           "Piranha",
           "1978"
          ],
          [
           "Underwater",
           "2020"
          ],
          [
           "Silent Hill",
           "2006"
          ],
          [
           "Lights Out",
           "2016"
          ],
          [
           "Happy Death Day",
           "2017"
          ],
          [
           "Friday the 13th Part III",
           "1982"
          ],
          [
           "The Craft",
           "1996"
          ],
          [
           "Suspiria",
           "2018"
          ],
          [
           "Children of the Corn",
           "1984"
          ],
          [
           "Children of the Corn",
           "2009"
          ],
          [
           "Children of the Corn",
           "2020"
          ],
          [
           "Overlord",
           "2018"
          ],
          [
           "The Mist",
           "2007"
          ],
          [
           "Shin Godzilla",
           "2016"
          ],
          [
           "I Know What You Did Last Summer",
           "1997"
          ],
          [
           "The Babadook",
           "2014"
          ],
          [
           "Evil Dead II",
           "1987"
          ],
          [
           "Possession",
           "2012"
          ],
          [
           "The Texas Chainsaw Massacre 2",
           "1986"
          ],
          [
           "Warm Bodies",
           "2013"
          ],
          [
           "Exorcist II: The Heretic",
           "1977"
          ],
          [
           "Priest",
           "2011"
          ],
          [
           "Life",
           "2017"
          ],
          [
           "See No Evil",
           "2006"
          ],
          [
           "Gothika",
           "2003"
          ],
          [
           "Critters",
           "1986"
          ],
          [
           "Sinister 2",
           "2015"
          ],
          [
           "The Possession of Hannah Grace",
           "2018"
          ],
          [
           "Happy Death Day 2U",
           "2019"
          ],
          [
           "Killer Klowns from Outer Space",
           "1988"
          ],
          [
           "House of 1000 Corpses",
           "2003"
          ],
          [
           "Hellraiser III: Hell on Earth",
           "1992"
          ],
          [
           "Slender Man",
           "2018"
          ],
          [
           "Slender Man",
           "2014"
          ],
          [
           "Cujo",
           "1983"
          ],
          [
           "New Nightmare",
           "1994"
          ],
          [
           "Friday the 13th Part VII: The New Blood",
           "1988"
          ],
          [
           "Creepshow",
           "1982"
          ],
          [
           "Friday the 13th: A New Beginning",
           "1985"
          ],
          [
           "The Birds",
           "1963"
          ],
          [
           "The Shallows",
           "2016"
          ],
          [
           "Gremlins",
           "1984"
          ],
          [
           "The Skin I Live In",
           "2011"
          ],
          [
           "Chernobyl Diaries",
           "2012"
          ],
          [
           "Doctor Sleep",
           "2019"
          ],
          [
           "The Howling",
           "1981"
          ],
          [
           "The Howling",
           "2017"
          ],
          [
           "Gremlins 2: The New Batch",
           "1990"
          ],
          [
           "Crimson Peak",
           "2015"
          ],
          [
           "Paranormal Activity 2",
           "2010"
          ],
          [
           "The Host",
           "2006"
          ],
          [
           "Shutter",
           "2004"
          ],
          [
           "Shutter",
           "2018"
          ],
          [
           "30 Days of Night",
           "2007"
          ],
          [
           "The Vatican Tapes",
           "2015"
          ],
          [
           "Return of the Living Dead III",
           "1993"
          ],
          [
           "47 Meters Down",
           "2017"
          ],
          [
           "The Visit",
           "2015"
          ],
          [
           "The Omen",
           "1976"
          ],
          [
           "The Omen",
           "1976"
          ],
          [
           "The Omen",
           "2006"
          ],
          [
           "The Omen",
           "2006"
          ],
          [
           "The Others",
           "2001"
          ],
          [
           "1408",
           "2007"
          ],
          [
           "Devil",
           "2010"
          ],
          [
           "The Collector",
           "2009"
          ],
          [
           "Oculus",
           "2013"
          ],
          [
           "The Rite",
           "2011"
          ],
          [
           "The Strangers",
           "2008"
          ],
          [
           "The Woman in Black 2: Angel of Death",
           "2014"
          ],
          [
           "Death Becomes Her",
           "1992"
          ],
          [
           "The Fog",
           "1980"
          ],
          [
           "The Fog",
           "1980"
          ],
          [
           "The Fog",
           "2005"
          ],
          [
           "The Fog",
           "2005"
          ],
          [
           "Case 39",
           "2009"
          ],
          [
           "Firestarter",
           "2022"
          ],
          [
           "Firestarter",
           "1984"
          ],
          [
           "Paranormal Activity 4",
           "2012"
          ],
          [
           "Krampus",
           "2015"
          ],
          [
           "You're Next",
           "2011"
          ],
          [
           "House",
           "1986"
          ],
          [
           "House",
           "1986"
          ],
          [
           "Unfriended",
           "2014"
          ],
          [
           "Christine",
           "1983"
          ],
          [
           "10 Cloverfield Lane",
           "2016"
          ],
          [
           "Jaws 2",
           "1978"
          ],
          [
           "Twin Peaks: Fire Walk with Me",
           "1992"
          ],
          [
           "Piranha 3DD",
           "2012"
          ],
          [
           "Pride and Prejudice and Zombies",
           "2016"
          ],
          [
           "The Innocents",
           "2021"
          ],
          [
           "Mandy",
           "2018"
          ],
          [
           "From Dusk Till Dawn",
           "1996"
          ],
          [
           "Wolf Creek",
           "2005"
          ],
          [
           "Exorcist: The Beginning",
           "2004"
          ],
          [
           "From Hell",
           "2001"
          ],
          [
           "Sweeney Todd: The Demon Barber of Fleet Street",
           "2007"
          ],
          [
           "The Messengers",
           "2007"
          ],
          [
           "Splice",
           "2009"
          ],
          [
           "47 Meters Down: Uncaged",
           "2019"
          ],
          [
           "Resident Evil: Apocalypse",
           "2004"
          ],
          [
           "The Pyramid",
           "2014"
          ],
          [
           "Dracula Untold",
           "2014"
          ],
          [
           "Antichrist",
           "2009"
          ],
          [
           "Mirrors",
           "2008"
          ],
          [
           "Cat's Eye",
           "1985"
          ],
          [
           "Jaws: The Revenge",
           "1987"
          ],
          [
           "Stigmata",
           "1999"
          ],
          [
           "A Cure for Wellness",
           "2017"
          ],
          [
           "Silent Night, Deadly Night",
           "1984"
          ],
          [
           "The Crazies",
           "2010"
          ],
          [
           "The Crazies",
           "2010"
          ],
          [
           "The Crazies",
           "1973"
          ],
          [
           "The Crazies",
           "1973"
          ],
          [
           "Spawn",
           "1997"
          ],
          [
           "Alone in the Dark",
           "2005"
          ],
          [
           "Alone in the Dark",
           "1982"
          ],
          [
           "Resident Evil",
           "2002"
          ],
          [
           "Red Riding Hood",
           "2011"
          ],
          [
           "Unfriended: Dark Web",
           "2018"
          ],
          [
           "Pet Sematary II",
           "1992"
          ],
          [
           "An American Werewolf in Paris",
           "1997"
          ],
          [
           "Jaws 3-D",
           "1983"
          ],
          [
           "The Bye Bye Man",
           "2017"
          ],
          [
           "The Fly",
           "1986"
          ],
          [
           "The Fly",
           "1986"
          ],
          [
           "The Fly",
           "1958"
          ],
          [
           "The Fly",
           "1958"
          ],
          [
           "Paranormal Activity: The Ghost Dimension",
           "2015"
          ],
          [
           "The Skeleton Key",
           "2005"
          ],
          [
           "Ma",
           "2019"
          ],
          [
           "Maggie",
           "2015"
          ],
          [
           "The Lost Boys",
           "1987"
          ],
          [
           "Poltergeist II: The Other Side",
           "1986"
          ],
          [
           "eXistenZ",
           "1999"
          ],
          [
           "Book of Shadows: Blair Witch 2",
           "2000"
          ],
          [
           "Pandorum",
           "2009"
          ],
          [
           "I Still Know What You Did Last Summer",
           "1998"
          ],
          [
           "Maximum Overdrive",
           "1986"
          ],
          [
           "The Bad Batch",
           "2017"
          ],
          [
           "Raw",
           "2016"
          ],
          [
           "The Woman in Black",
           "2012"
          ],
          [
           "Incarnate",
           "2016"
          ],
          [
           "Deliver Us from Evil",
           "2014"
          ],
          [
           "Revenge",
           "2017"
          ],
          [
           "Revenge",
           "1986"
          ],
          [
           "Slither",
           "2006"
          ],
          [
           "Hellraiser: Bloodline",
           "1996"
          ],
          [
           "Winchester",
           "2018"
          ],
          [
           "Blair Witch",
           "2016"
          ],
          [
           "Vacancy",
           "2007"
          ],
          [
           "Vacancy",
           "2017"
          ],
          [
           "Ju-on: The Grudge",
           "2002"
          ],
          [
           "The Grudge 2",
           "2006"
          ],
          [
           "The Forest",
           "2016"
          ],
          [
           "The Forest",
           "2011"
          ],
          [
           "When a Stranger Calls",
           "2006"
          ],
          [
           "When a Stranger Calls",
           "2006"
          ],
          [
           "Species II",
           "1998"
          ],
          [
           "The House That Jack Built",
           "2018"
          ],
          [
           "Urban Legends: Final Cut",
           "2000"
          ],
          [
           "The Devil Inside",
           "2012"
          ],
          [
           "Stay Alive",
           "2006"
          ],
          [
           "A Nightmare on Elm Street 3: Dream Warriors",
           "1987"
          ],
          [
           "The Eye",
           "2008"
          ],
          [
           "The Eye",
           "2008"
          ],
          [
           "The Eye",
           "2002"
          ],
          [
           "The Eye",
           "2002"
          ],
          [
           "The Haunting",
           "1999"
          ],
          [
           "The Haunting",
           "1999"
          ],
          [
           "The Last Exorcism",
           "2010"
          ],
          [
           "Let Me In",
           "2010"
          ],
          [
           "A Nightmare on Elm Street: The Dream Child",
           "1989"
          ],
          [
           "The Cave",
           "2005"
          ],
          [
           "Devil's Due",
           "2014"
          ],
          [
           "Land of the Dead",
           "2005"
          ],
          [
           "Lake Placid",
           "1999"
          ],
          [
           "Fantasy Island",
           "2020"
          ],
          [
           "Sleepwalkers",
           "1992"
          ],
          [
           "Cabin Fever",
           "2003"
          ],
          [
           "Teeth",
           "2007"
          ],
          [
           "One Missed Call",
           "2008"
          ],
          [
           "One Missed Call",
           "2003"
          ],
          [
           "Village of the Damned",
           "1995"
          ],
          [
           "Village of the Damned",
           "1960"
          ],
          [
           "Eight Legged Freaks",
           "2002"
          ],
          [
           "Amityville II: The Possession",
           "1982"
          ],
          [
           "Dracula 2000",
           "2000"
          ],
          [
           "Troll Hunter",
           "2010"
          ],
          [
           "Alien³",
           "1992"
          ],
          [
           "Boo 2! A Madea Halloween",
           "2017"
          ],
          [
           "My Bloody Valentine",
           "2009"
          ],
          [
           "My Bloody Valentine",
           "2009"
          ],
          [
           "My Bloody Valentine",
           "1981"
          ],
          [
           "My Bloody Valentine",
           "1981"
          ],
          [
           "End of Days",
           "1999"
          ],
          [
           "Dead Calm",
           "1989"
          ],
          [
           "13 Sins",
           "2014"
          ],
          [
           "Honeymoon",
           "2014"
          ],
          [
           "The Blob",
           "1988"
          ],
          [
           "The Blob",
           "1958"
          ],
          [
           "Green Room",
           "2015"
          ],
          [
           "The Frighteners",
           "1996"
          ],
          [
           "Silver Bullet",
           "1985"
          ],
          [
           "Tusk",
           "2014"
          ],
          [
           "Doom",
           "2005"
          ],
          [
           "Open Water",
           "2004"
          ],
          [
           "Hide and Seek",
           "2005"
          ],
          [
           "Hide and Seek",
           "2013"
          ],
          [
           "The Prodigy",
           "2019"
          ],
          [
           "Orca",
           "1977"
          ],
          [
           "Friend Request",
           "2016"
          ],
          [
           "Dark Skies",
           "2013"
          ],
          [
           "The Lords of Salem",
           "2012"
          ],
          [
           "31",
           "2016"
          ],
          [
           "The Gallows",
           "2015"
          ],
          [
           "Poltergeist III",
           "1988"
          ],
          [
           "Queen of the Damned",
           "2002"
          ],
          [
           "The Wicker Man",
           "2006"
          ],
          [
           "The Wicker Man",
           "2006"
          ],
          [
           "The Wicker Man",
           "1973"
          ],
          [
           "The Wicker Man",
           "1973"
          ],
          [
           "Don't Be Afraid of the Dark",
           "2010"
          ],
          [
           "Flatliners",
           "2017"
          ],
          [
           "Flatliners",
           "2017"
          ],
          [
           "Flatliners",
           "1990"
          ],
          [
           "Flatliners",
           "1990"
          ],
          [
           "The Covenant",
           "2006"
          ],
          [
           "Climax",
           "2018"
          ],
          [
           "The Haunting in Connecticut",
           "2009"
          ],
          [
           "Near Dark",
           "1987"
          ],
          [
           "Pulse",
           "2006"
          ],
          [
           "Pulse",
           "2006"
          ],
          [
           "Pulse",
           "2006"
          ],
          [
           "Pulse",
           "2001"
          ],
          [
           "Pulse",
           "2001"
          ],
          [
           "Pulse",
           "2001"
          ],
          [
           "Gretel & Hansel",
           "2020"
          ],
          [
           "The Faculty",
           "1998"
          ],
          [
           "The Endless",
           "2017"
          ],
          [
           "What Ever Happened to Baby Jane?",
           "1962"
          ],
          [
           "Videodrome",
           "1983"
          ],
          [
           "Survival of the Dead",
           "2010"
          ],
          [
           "Day Watch",
           "2006"
          ],
          [
           "The Neon Demon",
           "2016"
          ],
          [
           "Cemetery Man",
           "1994"
          ],
          [
           "Dracula: Dead and Loving It",
           "1995"
          ],
          [
           "The Witches of Eastwick",
           "1987"
          ],
          [
           "Life After Beth",
           "2014"
          ],
          [
           "The Order",
           "2003"
          ],
          [
           "Buffy the Vampire Slayer",
           "1992"
          ],
          [
           "Dead Snow",
           "2009"
          ],
          [
           "Re-Animator",
           "1985"
          ],
          [
           "The Stepfather",
           "2009"
          ],
          [
           "Vampires",
           "1998"
          ],
          [
           "The Signal",
           "2008"
          ],
          [
           "The Devil's Backbone",
           "2001"
          ],
          [
           "The Gift",
           "2000"
          ],
          [
           "Morgan",
           "2016"
          ],
          [
           "The Midnight Meat Train",
           "2008"
          ],
          [
           "Apollo 18",
           "2011"
          ],
          [
           "The Devil's Rejects",
           "2005"
          ],
          [
           "Mimic",
           "1997"
          ],
          [
           "Angel Heart",
           "1987"
          ],
          [
           "Eraserhead",
           "1977"
          ],
          [
           "The Roommate",
           "2011"
          ],
          [
           "The Awakening",
           "2011"
          ],
          [
           "House on Haunted Hill",
           "1999"
          ],
          [
           "House on Haunted Hill",
           "1959"
          ],
          [
           "Silent Night, Deadly Night Part 2",
           "1987"
          ],
          [
           "Prom Night",
           "1980"
          ],
          [
           "Prom Night",
           "1980"
          ],
          [
           "Children of the Corn II: The Final Sacrifice",
           "1992"
          ],
          [
           "The Mothman Prophecies",
           "2002"
          ],
          [
           "It Comes at Night",
           "2017"
          ],
          [
           "An American Haunting",
           "2005"
          ],
          [
           "Twilight Zone: The Movie",
           "1983"
          ],
          [
           "The Last Exorcism Part II",
           "2013"
          ],
          [
           "Assassination Nation",
           "2018"
          ],
          [
           "Invasion of the Body Snatchers",
           "1978"
          ],
          [
           "Invasion of the Body Snatchers",
           "1956"
          ],
          [
           "Wolf",
           "1994"
          ],
          [
           "Psycho II",
           "1983"
          ],
          [
           "Day of the Dead",
           "1985"
          ],
          [
           "Day of the Dead",
           "2008"
          ],
          [
           "Afflicted",
           "2014"
          ],
          [
           "The Possession",
           "2012"
          ],
          [
           "What Lies Beneath",
           "2000"
          ],
          [
           "The Cell",
           "2000"
          ],
          [
           "Below",
           "2002"
          ],
          [
           "In the Mouth of Madness",
           "1995"
          ],
          [
           "Intruders",
           "2011"
          ],
          [
           "Shocker",
           "1989"
          ],
          [
           "Rogue",
           "2007"
          ],
          [
           "The Darkest Hour",
           "2011"
          ],
          [
           "Brotherhood of the Wolf",
           "2001"
          ],
          [
           "Tale of Tales",
           "2015"
          ],
          [
           "Arachnophobia",
           "1990"
          ],
          [
           "The Rocky Horror Picture Show",
           "1975"
          ],
          [
           "Let the Right One In",
           "2008"
          ],
          [
           "The Belko Experiment",
           "2016"
          ],
          [
           "Boo! A Madea Halloween",
           "2016"
          ],
          [
           "Creepshow 2",
           "1987"
          ],
          [
           "Godzilla",
           "1954"
          ],
          [
           "Warlock: The Armageddon",
           "1993"
          ],
          [
           "Dark Water",
           "2005"
          ],
          [
           "Dark Water",
           "2002"
          ],
          [
           "Dracula",
           "1958"
          ],
          [
           "Dracula",
           "1958"
          ],
          [
           "Dracula",
           "2002"
          ],
          [
           "Dracula",
           "2002"
          ],
          [
           "Dracula",
           "2009"
          ],
          [
           "Dracula",
           "2009"
          ],
          [
           "Virus",
           "1999"
          ],
          [
           "Virus",
           "1980"
          ],
          [
           "Virus",
           "2006"
          ],
          [
           "What We Do in the Shadows",
           "2014"
          ],
          [
           "Turistas",
           "2006"
          ],
          [
           "Scanners",
           "1981"
          ],
          [
           "Hatchet",
           "2006"
          ],
          [
           "Deep Rising",
           "1998"
          ],
          [
           "Urban Legend",
           "1998"
          ],
          [
           "The Bird with the Crystal Plumage",
           "1970"
          ],
          [
           "Ravenous",
           "2017"
          ],
          [
           "Ravenous",
           "1999"
          ],
          [
           "Aftershock",
           "2012"
          ],
          [
           "Little Shop of Horrors",
           "1986"
          ],
          [
           "Quarantine",
           "2008"
          ],
          [
           "The Lazarus Effect",
           "2015"
          ],
          [
           "The Stepford Wives",
           "2004"
          ],
          [
           "The Stepford Wives",
           "2004"
          ],
          [
           "Hell Fest",
           "2018"
          ],
          [
           "Lifeforce",
           "1985"
          ],
          [
           "Cure",
           "1997"
          ],
          [
           "Bug",
           "2006"
          ],
          [
           "Bug",
           "2006"
          ],
          [
           "Graveyard Shift",
           "1990"
          ],
          [
           "White Noise",
           "2005"
          ],
          [
           "Mary Shelley's Frankenstein",
           "1994"
          ],
          [
           "Black Christmas",
           "2006"
          ],
          [
           "Black Christmas",
           "2006"
          ],
          [
           "Black Christmas",
           "1974"
          ],
          [
           "Black Christmas",
           "1974"
          ],
          [
           "Black Christmas",
           "2019"
          ],
          [
           "Black Christmas",
           "2019"
          ],
          [
           "Feast",
           "2005"
          ],
          [
           "Altered States",
           "1980"
          ],
          [
           "Damien: Omen II",
           "1978"
          ],
          [
           "Supernova",
           "2000"
          ],
          [
           "Wishmaster",
           "1997"
          ],
          [
           "Unsane",
           "2018"
          ],
          [
           "The Entity",
           "1982"
          ],
          [
           "Sorority Row",
           "2009"
          ],
          [
           "Pumpkinhead",
           "1988"
          ],
          [
           "Red State",
           "2011"
          ],
          [
           "Blood: The Last Vampire",
           "2009"
          ],
          [
           "Jacob's Ladder",
           "1990"
          ],
          [
           "Tales from the Darkside: The Movie",
           "1990"
          ],
          [
           "BloodRayne",
           "2005"
          ],
          [
           "Cat People",
           "1982"
          ],
          [
           "Cat People",
           "1982"
          ],
          [
           "Valentine",
           "2001"
          ],
          [
           "The Relic",
           "1997"
          ],
          [
           "The Apparition",
           "2012"
          ],
          [
           "The Apparition",
           "2021"
          ],
          [
           "Resident Evil: Extinction",
           "2007"
          ],
          [
           "Meet the Blacks",
           "2016"
          ],
          [
           "Idle Hands",
           "1999"
          ],
          [
           "Ghosts of Mars",
           "2001"
          ],
          [
           "Demons",
           "1985"
          ],
          [
           "The Reaping",
           "2007"
          ],
          [
           "Riding the Bullet",
           "2004"
          ],
          [
           "The People Under the Stairs",
           "1991"
          ],
          [
           "Wind Chill",
           "2007"
          ],
          [
           "Night of the Comet",
           "1984"
          ],
          [
           "Once Bitten",
           "1985"
          ],
          [
           "Lost Souls",
           "2000"
          ],
          [
           "The Hidden",
           "1987"
          ],
          [
           "Prince of Darkness",
           "1987"
          ],
          [
           "The Prophecy",
           "1995"
          ],
          [
           "Phoenix Forgotten",
           "2017"
          ],
          [
           "The Rage: Carrie 2",
           "1999"
          ],
          [
           "Tales from the Crypt: Demon Knight",
           "1995"
          ],
          [
           "Dead & Buried",
           "1981"
          ],
          [
           "The Darkness",
           "2016"
          ],
          [
           "After Midnight",
           "1989"
          ],
          [
           "Phantasm",
           "1979"
          ],
          [
           "The Disappointments Room",
           "2016"
          ],
          [
           "The Island of Dr. Moreau",
           "1977"
          ],
          [
           "The Island of Dr. Moreau",
           "1977"
          ],
          [
           "The Island of Dr. Moreau",
           "1996"
          ],
          [
           "The Island of Dr. Moreau",
           "1996"
          ],
          [
           "Stir of Echoes",
           "1999"
          ],
          [
           "Take Shelter",
           "2011"
          ],
          [
           "Out of the Dark",
           "1988"
          ],
          [
           "Thirst",
           "2009"
          ],
          [
           "Leviathan",
           "1989"
          ],
          [
           "Disturbing Behavior",
           "1998"
          ],
          [
           "Shadow of the Vampire",
           "2000"
          ],
          [
           "Sleepaway Camp",
           "1983"
          ],
          [
           "Raising Cain",
           "1992"
          ],
          [
           "The Lawnmower Man",
           "1992"
          ],
          [
           "Magic",
           "1978"
          ],
          [
           "Deadly Blessing",
           "1981"
          ],
          [
           "Blood and Chocolate",
           "2007"
          ],
          [
           "From Beyond",
           "1986"
          ],
          [
           "Vampire in Brooklyn",
           "1995"
          ],
          [
           "The Serpent and the Rainbow",
           "1988"
          ],
          [
           "Don't Look Now",
           "1973"
          ],
          [
           "Henry: Portrait of a Serial Killer",
           "1986"
          ],
          [
           "Boogeyman",
           "2005"
          ],
          [
           "I Know Who Killed Me",
           "2007"
          ],
          [
           "Diabolique",
           "1996"
          ],
          [
           "Diabolique",
           "1996"
          ],
          [
           "Bats",
           "1999"
          ],
          [
           "The Dead Zone",
           "1983"
          ],
          [
           "Godsend",
           "2004"
          ],
          [
           "Rubber",
           "2010"
          ],
          [
           "Tales from the Hood",
           "1995"
          ],
          [
           "The Night Flier",
           "1997"
          ],
          [
           "K-12",
           "2019"
          ],
          [
           "Ghoulies",
           "1985"
          ],
          [
           "The Bride",
           "2017"
          ],
          [
           "Night of the Demons",
           "2009"
          ],
          [
           "Night of the Demons",
           "1988"
          ],
          [
           "Dark Angel",
           "1990"
          ],
          [
           "Peeping Tom",
           "1960"
          ],
          [
           "Session 9",
           "2001"
          ],
          [
           "The Keep",
           "1983"
          ],
          [
           "Diary of the Dead",
           "2008"
          ],
          [
           "The Innkeepers",
           "2011"
          ],
          [
           "The Gate",
           "1987"
          ],
          [
           "Fido",
           "2006"
          ],
          [
           "House at the End of the Street",
           "2012"
          ],
          [
           "Hatchet II",
           "2010"
          ],
          [
           "Stake Land",
           "2010"
          ],
          [
           "Gozu",
           "2003"
          ],
          [
           "Screamers",
           "1995"
          ],
          [
           "Dracula: Prince of Darkness",
           "1966"
          ],
          [
           "April Fool's Day",
           "1986"
          ],
          [
           "April Fool's Day",
           "2008"
          ],
          [
           "They",
           "2002"
          ],
          [
           "Troll",
           "1986"
          ],
          [
           "Pathology",
           "2008"
          ],
          [
           "Night of the Creeps",
           "1986"
          ],
          [
           "Soul Survivors",
           "2001"
          ],
          [
           "Psycho Beach Party",
           "2000"
          ],
          [
           "Bless the Child",
           "2000"
          ],
          [
           "Man-Thing",
           "2005"
          ],
          [
           "House of the Dead",
           "2003"
          ],
          [
           "Body Snatchers",
           "1993"
          ],
          [
           "Psycho III",
           "1986"
          ],
          [
           "No One Lives",
           "2013"
          ],
          [
           "Beyond the Black Rainbow",
           "2010"
          ],
          [
           "Lady in White",
           "1988"
          ],
          [
           "The Forsaken",
           "2001"
          ],
          [
           "The Return of Swamp Thing",
           "1989"
          ],
          [
           "Invaders from Mars",
           "1986"
          ],
          [
           "Invaders from Mars",
           "1953"
          ],
          [
           "Maniac Cop",
           "1988"
          ],
          [
           "C.H.U.D.",
           "1984"
          ],
          [
           "May",
           "2003"
          ],
          [
           "Sisters",
           "1973"
          ],
          [
           "Sisters",
           "2006"
          ],
          [
           "The House on Sorority Row",
           "1982"
          ],
          [
           "Nightbreed",
           "1990"
          ],
          [
           "Frankenhooker",
           "1990"
          ],
          [
           "The Curse of Frankenstein",
           "1957"
          ],
          [
           "The Hunchback of Notre Dame",
           "1956"
          ],
          [
           "Silent House",
           "2011"
          ],
          [
           "The Dark Half",
           "1993"
          ],
          [
           "Warlock",
           "1989"
          ],
          [
           "Club Dread",
           "2004"
          ],
          [
           "The Return",
           "2006"
          ],
          [
           "Brain Dead",
           "1990"
          ],
          [
           "The Quiet Ones",
           "2014"
          ],
          [
           "The Giant Spider Invasion",
           "1975"
          ],
          [
           "The Lair of the White Worm",
           "1988"
          ],
          [
           "Frankenstein Unbound",
           "1990"
          ],
          [
           "Dead Ringers",
           "1988"
          ],
          [
           "Split Second",
           "1992"
          ],
          [
           "Blacula",
           "1972"
          ],
          [
           "Bones",
           "2001"
          ],
          [
           "Waxwork",
           "1988"
          ],
          [
           "Darkness",
           "2002"
          ],
          [
           "Darkness",
           "1993"
          ],
          [
           "Bad Moon",
           "1996"
          ],
          [
           "Monkey Shines",
           "1988"
          ],
          [
           "My Soul to Take",
           "2010"
          ],
          [
           "Treehouse",
           "2014"
          ],
          [
           "Repo! The Genetic Opera",
           "2008"
          ],
          [
           "The Company of Wolves",
           "1984"
          ],
          [
           "Vampire's Kiss",
           "1988"
          ],
          [
           "Mary Reilly",
           "1996"
          ],
          [
           "Communion",
           "1989"
          ],
          [
           "Attack of the 50 Foot Woman",
           "1958"
          ],
          [
           "Razorback",
           "1984"
          ],
          [
           "The Zodiac",
           "2005"
          ],
          [
           "Timber Falls",
           "2007"
          ],
          [
           "The Toxic Avenger Part II",
           "1989"
          ],
          [
           "Chain Letter",
           "2010"
          ],
          [
           "Blood Feast",
           "1963"
          ],
          [
           "The Abandoned",
           "2006"
          ],
          [
           "Two Evil Eyes",
           "1990"
          ],
          [
           "Hideaway",
           "1995"
          ],
          [
           "Tamara",
           "2005"
          ],
          [
           "The Hand",
           "1981"
          ],
          [
           "Motel Hell",
           "1980"
          ],
          [
           "Prophecy",
           "1980"
          ],
          [
           "DeepStar Six",
           "1989"
          ],
          [
           "The Beast from 20,000 Fathoms",
           "1953"
          ],
          [
           "Vamp",
           "1986"
          ],
          [
           "The Guardian",
           "2021"
          ],
          [
           "Bad Dreams",
           "1988"
          ],
          [
           "The Pit and the Pendulum",
           "1991"
          ],
          [
           "The Pit and the Pendulum",
           "1961"
          ],
          [
           "Joshua",
           "2006"
          ],
          [
           "Dead Heat",
           "1988"
          ],
          [
           "The Abominable Dr. Phibes",
           "1971"
          ],
          [
           "The Lure",
           "2015"
          ],
          [
           "The Lure",
           "2020"
          ],
          [
           "Captain Kronos: Vampire Hunter",
           "1974"
          ],
          [
           "Kingdom of the Spiders",
           "1977"
          ],
          [
           "The Last Circus",
           "2010"
          ],
          [
           "Phantasm II",
           "1988"
          ],
          [
           "Wolfen",
           "1981"
          ],
          [
           "Flesh for Frankenstein",
           "1973"
          ],
          [
           "Strangeland",
           "1998"
          ],
          [
           "The Church",
           "1989"
          ],
          [
           "Captivity",
           "2007"
          ],
          [
           "Parasite",
           "1982"
          ],
          [
           "Parasite",
           "2015"
          ],
          [
           "Prison",
           "1988"
          ],
          [
           "The Little Shop of Horrors",
           "1960"
          ],
          [
           "Willard",
           "2003"
          ],
          [
           "Willard",
           "2003"
          ],
          [
           "Anguish",
           "2019"
          ],
          [
           "November",
           "2017"
          ],
          [
           "The Boogey Man",
           "1980"
          ],
          [
           "Resident Evil: Retribution",
           "2012"
          ],
          [
           "My Name Is Bruce",
           "2007"
          ],
          [
           "The Phantom of the Opera",
           "1998"
          ],
          [
           "The Phantom of the Opera",
           "1998"
          ],
          [
           "The First Power",
           "1990"
          ],
          [
           "Silent Rage",
           "1982"
          ],
          [
           "Wendigo",
           "2019"
          ],
          [
           "Man's Best Friend",
           "1993"
          ],
          [
           "Dylan Dog: Dead of Night",
           "2011"
          ],
          [
           "Demon",
           "2012"
          ],
          [
           "Of Unknown Origin",
           "1983"
          ],
          [
           "Thr3e",
           "2006"
          ],
          [
           "The Island",
           "1980"
          ],
          [
           "Abbott and Costello Meet Dr. Jekyll and Mr. Hyde",
           "1953"
          ],
          [
           "Creature",
           "2011"
          ],
          [
           "Creature",
           "2011"
          ],
          [
           "Creature",
           "1985"
          ],
          [
           "Creature",
           "1985"
          ],
          [
           "Creature",
           "2019"
          ],
          [
           "Creature",
           "2019"
          ],
          [
           "Incident at Loch Ness",
           "2004"
          ],
          [
           "The Lost Skeleton of Cadavra",
           "2001"
          ],
          [
           "House of Usher",
           "1960"
          ],
          [
           "House of Usher",
           "2008"
          ],
          [
           "The Killer Shrews",
           "1959"
          ],
          [
           "Slumber Party Massacre III",
           "1990"
          ],
          [
           "Carnosaur",
           "1993"
          ],
          [
           "Witchboard",
           "1986"
          ],
          [
           "I Was a Teenage Werewolf",
           "1957"
          ],
          [
           "Ghost in the Machine",
           "1993"
          ],
          [
           "From a Whisper to a Scream",
           "1987"
          ],
          [
           "Eyes of a Stranger",
           "1981"
          ],
          [
           "Robot Monster",
           "1953"
          ],
          [
           "Night of Dark Shadows",
           "1971"
          ],
          [
           "The Eclipse",
           "2009"
          ],
          [
           "House of Dark Shadows",
           "1970"
          ],
          [
           "Not of This Earth",
           "1988"
          ],
          [
           "Not of This Earth",
           "1957"
          ],
          [
           "Poison",
           "1991"
          ],
          [
           "The Outing",
           "1987"
          ],
          [
           "The Kiss",
           "1988"
          ],
          [
           "The Kiss",
           "2008"
          ],
          [
           "Escape from Tomorrow",
           "2013"
          ],
          [
           "Revelation",
           "1999"
          ],
          [
           "The Legend of Boggy Creek",
           "1972"
          ],
          [
           "Repentance",
           "2014"
          ],
          [
           "Count Yorga, Vampire",
           "1970"
          ],
          [
           "Night of the Living Dead 3D",
           "2006"
          ],
          [
           "The Afflicted",
           "2011"
          ],
          [
           "Beyond the Door",
           "1974"
          ],
          [
           "Beware! The Blob",
           "1972"
          ],
          [
           "Fright",
           "2020"
          ],
          [
           "Go Goa Gone",
           "2013"
          ],
          [
           "Ezra",
           "2017"
          ],
          [
           "Creepozoids",
           "1987"
          ],
          [
           "The Possession of Joel Delaney",
           "1972"
          ],
          [
           "Cameron's Closet",
           "1988"
          ],
          [
           "Time Walker",
           "1982"
          ],
          [
           "Bloodthirsty Butchers",
           "1970"
          ],
          [
           "Cruel World",
           "2005"
          ],
          [
           "Meet the Applegates",
           "1990"
          ],
          [
           "Resident Evil: The Final Chapter",
           "2016"
          ],
          [
           "Dracula: Pages from a Virgin's Diary",
           "2002"
          ],
          [
           "Deadfall Trail",
           "2009"
          ],
          [
           "Octaman",
           "1971"
          ],
          [
           "The Intruder",
           "2005"
          ],
          [
           "Clinton Road",
           "2019"
          ],
          [
           "Glass",
           "2022"
          ],
          [
           "Resident Evil: Afterlife",
           "2010"
          ],
          [
           "Midget Zombie Takeover",
           "2013"
          ],
          [
           "A Polish Vampire in Burbank",
           "1983"
          ],
          [
           "The Naked Witch",
           "1964"
          ],
          [
           "Hobo with a Shotgun",
           "2007"
          ],
          [
           "Evidence of a Haunting",
           "2010"
          ],
          [
           "Holla",
           "2006"
          ],
          [
           "Monster from the Ocean Floor",
           "1954"
          ]
         ],
         "hovertemplate": "Profit=%{y}<br>title=%{customdata[0]}<br>year_release=%{customdata[1]}<extra></extra>",
         "legendgroup": "",
         "marker": {
          "color": "#636efa"
         },
         "name": "",
         "notched": false,
         "offsetgroup": "",
         "orientation": "v",
         "showlegend": false,
         "type": "box",
         "x0": " ",
         "xaxis": "x",
         "y": [
          31825000,
          31849200,
          71320000,
          55280000,
          -9860000,
          -110000,
          72000000,
          79050000,
          57640000,
          -22920000,
          89050000,
          67640000,
          -12920000,
          21600000,
          41595000,
          26629999.999999993,
          -23000000,
          132590000,
          -3660000,
          26540000,
          22640000,
          27900000,
          124400000,
          18670000,
          -9770000,
          -770000,
          149340000,
          48270000,
          37000000,
          159015000,
          57945000,
          46675000,
          144340000,
          43270000,
          32000000,
          99070000,
          30280000,
          7400000,
          62470000,
          2360000,
          95450000,
          13330000,
          -24020000,
          2820000,
          -6990000,
          60040000,
          14170000,
          24240000.000000004,
          20210000,
          23240000.000000004,
          19210000,
          37540000,
          56490000,
          292480000,
          -31480000,
          5080000,
          221910000,
          -500000,
          15500000,
          -6370000,
          54800000,
          55998000,
          69210000,
          45730000,
          1960000,
          560000,
          13560000,
          -8190000,
          5310000,
          5809600,
          5808000,
          44150000,
          71070000,
          129290000,
          34070000,
          30330000,
          -1200000,
          61470000,
          87090000,
          3760000,
          5700000,
          81130000,
          -4410000,
          -22740000,
          52510000,
          27460000,
          22080000,
          52620000,
          107705000,
          33470000,
          32000000,
          5270000,
          3800000,
          23520000,
          21640000,
          25127500,
          171540000,
          9430000,
          77770000,
          12770000,
          78590000,
          -1831799,
          -7680000,
          29100000,
          -11360000,
          45090000,
          51990000,
          20960000,
          37910000,
          41245000,
          171020000,
          25020000,
          -4650000,
          -7939999.999999996,
          -16250000,
          31402000.000000004,
          23092000,
          -15770000,
          26780000,
          10000000,
          41550000,
          24770000,
          36190000,
          790000,
          55190000,
          19790000,
          -34280000,
          23870000,
          46000000,
          20750000,
          64450000,
          39200000,
          62960000,
          67900000,
          10190000,
          200000,
          83040000,
          23390000,
          15530000,
          30890000,
          23030000,
          12100000,
          -3190000,
          70240000,
          18330000,
          31120000,
          8640000,
          25090000,
          -1910000,
          -560000,
          30775000,
          12070000,
          1930000,
          -1220000,
          -18070000,
          -21220000,
          57750000,
          99010000,
          53300000,
          -7270000.000000004,
          -43140000,
          5800000,
          13640000,
          79320000,
          26480000.000000007,
          -2460000,
          -1160000,
          56070000,
          10120000,
          -130000,
          77360000,
          42530000,
          1070000,
          1000000,
          12670000,
          37240000,
          7410000,
          25510000,
          40060000,
          -4890000,
          30379999.999999996,
          42220000,
          17350000,
          26230000,
          25710000,
          7440000,
          140480000,
          2050000,
          20470000,
          28080000,
          -9500000,
          61280000,
          23700000,
          45860000,
          100360000,
          100360000,
          45950000,
          15920000,
          9300000,
          -5080000,
          -11700000,
          16200000,
          1640000,
          -4110000,
          5726000,
          -24000,
          43950000,
          45970000,
          43220000,
          36470000,
          33720000,
          16690000,
          -1820000,
          -15700000,
          31193053,
          20653053,
          -28000000,
          -38540000,
          33020000,
          -20900000,
          58370000,
          4450000,
          20570000,
          155080000,
          11300000,
          500000,
          38040000,
          490000,
          22520000,
          20890000,
          7660000,
          65910000,
          36730000,
          41610000,
          12430000,
          5670000.000000002,
          67430000,
          46230000.00000001,
          56630000,
          -12590000,
          260000,
          2300000,
          28350000,
          28050000,
          38015000,
          25820000,
          22710000,
          28670000,
          -33330000,
          10240000,
          11930000,
          2790000,
          27770000,
          11900000,
          17750000,
          -11900000,
          32660000,
          3010000,
          25070000,
          8090000,
          12940000,
          16800000,
          26140000,
          63410000,
          70409850,
          -44900000,
          16470000,
          49140000,
          26670000,
          -14840000,
          36370000,
          -9410000,
          50000,
          45000,
          -88020000,
          48010000,
          2120000,
          9340000,
          2190000,
          5340000,
          -32710000,
          -3020000,
          62370000,
          50880000,
          32690000,
          9880000,
          -17530000,
          13770000,
          10070000,
          13770000,
          -16300000,
          7590000,
          -13080000,
          55590000,
          -1080000,
          2420000,
          1030000,
          3529999.999999999,
          31379999.999999993,
          16750000,
          -30860000,
          -27770000,
          7030000,
          19690000,
          11170000,
          17740000,
          7140000,
          19150000,
          13630000,
          5630000,
          7530000,
          20570000,
          30564000,
          16200000,
          10090000,
          16370000,
          13030000,
          19730000,
          8900000,
          38120000,
          137170000,
          -9810000,
          17120000,
          -13420000,
          16990000,
          17840000,
          -8520000,
          -23910000,
          81750000,
          -8800000,
          25805000,
          25730000,
          9570000,
          -11290000,
          -1950000,
          38810000,
          60209999.99999999,
          51810000,
          1470000,
          29610000,
          -20730000,
          79520000,
          46990000,
          23580000,
          4310000,
          22700000,
          -3950000.0000000037,
          43600000,
          11500000,
          3420000,
          28510000,
          20380000,
          11510000,
          3380000,
          -13750000,
          3100000,
          100000,
          48920000,
          27590000,
          17470000,
          16440000,
          -2430000,
          31479999.999999996,
          11500000,
          57080000,
          82920000,
          -5840000,
          -4620000,
          -17090000,
          -780000,
          -4790000,
          6750000,
          15190000.000000002,
          -38180000,
          -3400000,
          2900000,
          19370000,
          -9000000,
          10260000,
          6200000,
          -3740000,
          -13720000,
          -10600000,
          -4310000,
          6090000,
          -2240000,
          21050000,
          -31890000,
          1425000,
          19120000,
          -19850000,
          38845000,
          -125000,
          14970000,
          -14820000,
          4180000,
          7120000,
          -4340000,
          7780000,
          9090000,
          4570000,
          25020000,
          14980000,
          25460000,
          -12000000,
          39760000,
          2300000,
          8300000,
          4810000,
          40370000,
          -3810000,
          23720000,
          22000000,
          -12160000,
          11440000,
          -22670000,
          -25000000,
          -2570000,
          -5820000,
          -2990000,
          37330000,
          -210000,
          580000,
          -2800000,
          -50000,
          -7230000,
          12680000,
          21590000,
          15780000,
          360000,
          19359950,
          -3170000,
          19140000,
          16580000,
          26579998,
          32860000,
          6410000,
          -15830000,
          -9710000,
          7470000,
          52260000,
          14090000,
          40790000,
          19420000,
          -11500000,
          20713925,
          -10206075,
          11410000,
          -77380000,
          39230000,
          -7870000,
          16170000,
          -14990000,
          8820000,
          5700000,
          4770000,
          20310000,
          15520000,
          19660000,
          -1650000,
          6880000,
          25180000,
          -12580000,
          9220000,
          -12680000,
          7530000,
          5020000.000000004,
          -3250000,
          5470000,
          22320000,
          36550000,
          -9330000,
          49350000,
          3470000,
          -33110000,
          -2570000,
          -4990000,
          -990000,
          -10750000,
          8140000,
          -1780000,
          -13239999.999999998,
          -1600000,
          -1180000,
          -31790000,
          30480000,
          21100000,
          49200000,
          8860000,
          8720000,
          -6140000,
          13910000,
          -340000,
          -720000,
          22660000,
          3610000,
          -4660000,
          -16360000,
          -39940000,
          22830000,
          -750000,
          -960000,
          42490000,
          -2130000,
          35490000,
          -9130000,
          3290000,
          -2140457,
          45390000,
          -1630000,
          -17740000,
          -37950000,
          -37960000,
          -4740000,
          -24950000,
          -24960000,
          10350000,
          25060000,
          -730000,
          3070000,
          -3832000,
          -3900000,
          -3750000,
          -5670000,
          -3750000,
          -19230000,
          41770000,
          -2320000,
          -27340000,
          9620000.000000002,
          -760000,
          1120000,
          -17510000,
          240000,
          550000,
          -3750000,
          2010000,
          -4090000,
          -14920000,
          12690000,
          10040000,
          -4520000,
          190000,
          6900000,
          21300000,
          3621765,
          3850000,
          40650000,
          -100000,
          42370000,
          13300000,
          6080000,
          3750000,
          8990000,
          2300000,
          19500000,
          10180000,
          -5040000,
          21450000,
          24533000,
          -4989999.999999993,
          29730000,
          2300000,
          -12200000,
          -198000,
          35130000,
          55460000,
          28330000,
          -39390000,
          950000,
          -12930000,
          11550000,
          -19990000,
          -8570000,
          -17740000,
          -11920000,
          22210000,
          138680000,
          -1880000,
          5160000,
          53210000,
          10500000,
          1520000,
          900000,
          -4530000,
          21470000,
          82415120,
          20055120,
          72520000,
          10160000,
          82483000,
          20123000,
          -60990000,
          -1990000,
          13950000,
          1730000,
          -2970000,
          10130000,
          -1340000,
          -33800000,
          24070000,
          -80000,
          -940000,
          -9940000,
          -1960000,
          13750000,
          19690000,
          22500000,
          -30520000,
          -81280000,
          5610000,
          -13400000,
          70000,
          3010000,
          -400000,
          1080000,
          46390000,
          -22990000,
          7239999.999999998,
          -4950000,
          15619999.999999998,
          3430000,
          11239999.999999998,
          -950000,
          -3150000,
          4850000,
          -2920000,
          -75780000,
          10720000,
          6230000,
          4280000,
          -540000,
          890000,
          -2900000,
          -29740000,
          1120000,
          12820000,
          -22590000,
          -11000000,
          -14000000,
          10380000,
          -26040000,
          -12070000,
          4928500,
          5650000,
          8190000,
          -21000000,
          -19570000,
          -1500000,
          -14880000,
          -4900000,
          18200000,
          -5980000,
          11420000,
          6800000,
          -33220000,
          4750000,
          11180000,
          8120000.000000002,
          800000,
          -3240000,
          8090000,
          -2780000,
          6730000,
          -2920000,
          11690000,
          -12590000,
          21660000,
          2720000,
          -12340000,
          -31280000,
          9130000,
          -3270000,
          -1180000,
          -4700000,
          -9300000,
          2410000,
          289999.99999999907,
          10650000,
          9370000,
          22100000,
          18940000,
          5779999.999999999,
          -11470000,
          -3240000,
          5750000,
          12600000,
          -520000,
          499000,
          26750000,
          -4500000,
          -27900000,
          -43910000,
          4910000,
          10770000,
          -10620000,
          -400000,
          5800000,
          -870000,
          -5700000,
          34000000,
          2100000,
          -6890000,
          1910000,
          -2650000,
          -70000,
          -1120000,
          -2240000,
          -1040000,
          -670000,
          11040000,
          -7700000,
          24710000,
          -2440000,
          -630000,
          -200000,
          -14220000,
          519621,
          7950000,
          7950000,
          -4160000,
          4350000,
          -7890000,
          -4410000,
          -13900000,
          -1230000,
          -10630000,
          -4860000,
          -1750000,
          -12570000,
          6080000,
          -2830000,
          -1040000,
          -2990000,
          2290000,
          -3810000,
          -7120000,
          4590000,
          -430000,
          3400000,
          -350000,
          -150000,
          290000,
          865000,
          -2140000,
          -2290000,
          17170000,
          1220000,
          10560000,
          -5420000,
          2090000,
          -3510000,
          -7250000,
          -370000,
          8300000,
          -10000,
          -1310000,
          -11170000,
          -3870000,
          -1570000,
          2500000,
          -2690000,
          -2190000,
          11560000,
          22155000,
          -5940000,
          -1660000,
          -10360000,
          0,
          -8360000,
          2390000,
          -1270000,
          -41290000,
          -3080000,
          392000,
          -5350000,
          -960000,
          -2550000,
          -1510000,
          -4860000,
          3975500,
          -1740000,
          -8650000,
          -2800000,
          -4580000,
          -4050000,
          3340000,
          6390000,
          140000.00000000093,
          4790000,
          1640000,
          16040000,
          5800000,
          2360000,
          4160000,
          280000,
          -1410000,
          -2450000,
          -1200000,
          97214,
          -280000,
          16500000,
          -6960000,
          4280000,
          -6370000,
          9800000,
          -470000,
          -2730000,
          -14370000,
          6200000,
          6999700,
          -3650000,
          1370000,
          -2780000,
          -15110000,
          229500,
          -1530000,
          4200000,
          -22650000,
          -1330000,
          -6050000,
          -6250000,
          12420000,
          5990000,
          95000,
          6970000,
          -18820000,
          -400000,
          -2920000,
          -1390000,
          -6280000,
          1895195,
          1780000,
          -2670000,
          4030000,
          -420000,
          4773000,
          323000,
          -1360000,
          100000,
          2890000,
          2160000,
          877000,
          890000,
          750000,
          5370000,
          1918000,
          -6910000,
          260000,
          320000,
          984000,
          2150000,
          -2870000,
          3250000,
          -100000,
          10000,
          360000,
          -920000,
          -4130000,
          1605000,
          169350,
          -1290000,
          180000,
          -3820000,
          146000,
          -2780000,
          0,
          -270000,
          -100000,
          169990,
          -2400000,
          4570000,
          -65000,
          -1130000,
          -6860000,
          -320000,
          202000,
          -1980000,
          -4510000,
          -13170000,
          -1536010,
          -60000,
          30000,
          34920000,
          -2450000,
          111049997,
          130000,
          8000,
          497000,
          72000,
          699850,
          25000,
          169800,
          108000
         ],
         "y0": " ",
         "yaxis": "y"
        }
       ],
       "layout": {
        "boxmode": "group",
        "legend": {
         "tracegroupgap": 0
        },
        "template": {
         "data": {
          "bar": [
           {
            "error_x": {
             "color": "#2a3f5f"
            },
            "error_y": {
             "color": "#2a3f5f"
            },
            "marker": {
             "line": {
              "color": "#E5ECF6",
              "width": 0.5
             },
             "pattern": {
              "fillmode": "overlay",
              "size": 10,
              "solidity": 0.2
             }
            },
            "type": "bar"
           }
          ],
          "barpolar": [
           {
            "marker": {
             "line": {
              "color": "#E5ECF6",
              "width": 0.5
             },
             "pattern": {
              "fillmode": "overlay",
              "size": 10,
              "solidity": 0.2
             }
            },
            "type": "barpolar"
           }
          ],
          "carpet": [
           {
            "aaxis": {
             "endlinecolor": "#2a3f5f",
             "gridcolor": "white",
             "linecolor": "white",
             "minorgridcolor": "white",
             "startlinecolor": "#2a3f5f"
            },
            "baxis": {
             "endlinecolor": "#2a3f5f",
             "gridcolor": "white",
             "linecolor": "white",
             "minorgridcolor": "white",
             "startlinecolor": "#2a3f5f"
            },
            "type": "carpet"
           }
          ],
          "choropleth": [
           {
            "colorbar": {
             "outlinewidth": 0,
             "ticks": ""
            },
            "type": "choropleth"
           }
          ],
          "contour": [
           {
            "colorbar": {
             "outlinewidth": 0,
             "ticks": ""
            },
            "colorscale": [
             [
              0,
              "#0d0887"
             ],
             [
              0.1111111111111111,
              "#46039f"
             ],
             [
              0.2222222222222222,
              "#7201a8"
             ],
             [
              0.3333333333333333,
              "#9c179e"
             ],
             [
              0.4444444444444444,
              "#bd3786"
             ],
             [
              0.5555555555555556,
              "#d8576b"
             ],
             [
              0.6666666666666666,
              "#ed7953"
             ],
             [
              0.7777777777777778,
              "#fb9f3a"
             ],
             [
              0.8888888888888888,
              "#fdca26"
             ],
             [
              1,
              "#f0f921"
             ]
            ],
            "type": "contour"
           }
          ],
          "contourcarpet": [
           {
            "colorbar": {
             "outlinewidth": 0,
             "ticks": ""
            },
            "type": "contourcarpet"
           }
          ],
          "heatmap": [
           {
            "colorbar": {
             "outlinewidth": 0,
             "ticks": ""
            },
            "colorscale": [
             [
              0,
              "#0d0887"
             ],
             [
              0.1111111111111111,
              "#46039f"
             ],
             [
              0.2222222222222222,
              "#7201a8"
             ],
             [
              0.3333333333333333,
              "#9c179e"
             ],
             [
              0.4444444444444444,
              "#bd3786"
             ],
             [
              0.5555555555555556,
              "#d8576b"
             ],
             [
              0.6666666666666666,
              "#ed7953"
             ],
             [
              0.7777777777777778,
              "#fb9f3a"
             ],
             [
              0.8888888888888888,
              "#fdca26"
             ],
             [
              1,
              "#f0f921"
             ]
            ],
            "type": "heatmap"
           }
          ],
          "heatmapgl": [
           {
            "colorbar": {
             "outlinewidth": 0,
             "ticks": ""
            },
            "colorscale": [
             [
              0,
              "#0d0887"
             ],
             [
              0.1111111111111111,
              "#46039f"
             ],
             [
              0.2222222222222222,
              "#7201a8"
             ],
             [
              0.3333333333333333,
              "#9c179e"
             ],
             [
              0.4444444444444444,
              "#bd3786"
             ],
             [
              0.5555555555555556,
              "#d8576b"
             ],
             [
              0.6666666666666666,
              "#ed7953"
             ],
             [
              0.7777777777777778,
              "#fb9f3a"
             ],
             [
              0.8888888888888888,
              "#fdca26"
             ],
             [
              1,
              "#f0f921"
             ]
            ],
            "type": "heatmapgl"
           }
          ],
          "histogram": [
           {
            "marker": {
             "pattern": {
              "fillmode": "overlay",
              "size": 10,
              "solidity": 0.2
             }
            },
            "type": "histogram"
           }
          ],
          "histogram2d": [
           {
            "colorbar": {
             "outlinewidth": 0,
             "ticks": ""
            },
            "colorscale": [
             [
              0,
              "#0d0887"
             ],
             [
              0.1111111111111111,
              "#46039f"
             ],
             [
              0.2222222222222222,
              "#7201a8"
             ],
             [
              0.3333333333333333,
              "#9c179e"
             ],
             [
              0.4444444444444444,
              "#bd3786"
             ],
             [
              0.5555555555555556,
              "#d8576b"
             ],
             [
              0.6666666666666666,
              "#ed7953"
             ],
             [
              0.7777777777777778,
              "#fb9f3a"
             ],
             [
              0.8888888888888888,
              "#fdca26"
             ],
             [
              1,
              "#f0f921"
             ]
            ],
            "type": "histogram2d"
           }
          ],
          "histogram2dcontour": [
           {
            "colorbar": {
             "outlinewidth": 0,
             "ticks": ""
            },
            "colorscale": [
             [
              0,
              "#0d0887"
             ],
             [
              0.1111111111111111,
              "#46039f"
             ],
             [
              0.2222222222222222,
              "#7201a8"
             ],
             [
              0.3333333333333333,
              "#9c179e"
             ],
             [
              0.4444444444444444,
              "#bd3786"
             ],
             [
              0.5555555555555556,
              "#d8576b"
             ],
             [
              0.6666666666666666,
              "#ed7953"
             ],
             [
              0.7777777777777778,
              "#fb9f3a"
             ],
             [
              0.8888888888888888,
              "#fdca26"
             ],
             [
              1,
              "#f0f921"
             ]
            ],
            "type": "histogram2dcontour"
           }
          ],
          "mesh3d": [
           {
            "colorbar": {
             "outlinewidth": 0,
             "ticks": ""
            },
            "type": "mesh3d"
           }
          ],
          "parcoords": [
           {
            "line": {
             "colorbar": {
              "outlinewidth": 0,
              "ticks": ""
             }
            },
            "type": "parcoords"
           }
          ],
          "pie": [
           {
            "automargin": true,
            "type": "pie"
           }
          ],
          "scatter": [
           {
            "fillpattern": {
             "fillmode": "overlay",
             "size": 10,
             "solidity": 0.2
            },
            "type": "scatter"
           }
          ],
          "scatter3d": [
           {
            "line": {
             "colorbar": {
              "outlinewidth": 0,
              "ticks": ""
             }
            },
            "marker": {
             "colorbar": {
              "outlinewidth": 0,
              "ticks": ""
             }
            },
            "type": "scatter3d"
           }
          ],
          "scattercarpet": [
           {
            "marker": {
             "colorbar": {
              "outlinewidth": 0,
              "ticks": ""
             }
            },
            "type": "scattercarpet"
           }
          ],
          "scattergeo": [
           {
            "marker": {
             "colorbar": {
              "outlinewidth": 0,
              "ticks": ""
             }
            },
            "type": "scattergeo"
           }
          ],
          "scattergl": [
           {
            "marker": {
             "colorbar": {
              "outlinewidth": 0,
              "ticks": ""
             }
            },
            "type": "scattergl"
           }
          ],
          "scattermapbox": [
           {
            "marker": {
             "colorbar": {
              "outlinewidth": 0,
              "ticks": ""
             }
            },
            "type": "scattermapbox"
           }
          ],
          "scatterpolar": [
           {
            "marker": {
             "colorbar": {
              "outlinewidth": 0,
              "ticks": ""
             }
            },
            "type": "scatterpolar"
           }
          ],
          "scatterpolargl": [
           {
            "marker": {
             "colorbar": {
              "outlinewidth": 0,
              "ticks": ""
             }
            },
            "type": "scatterpolargl"
           }
          ],
          "scatterternary": [
           {
            "marker": {
             "colorbar": {
              "outlinewidth": 0,
              "ticks": ""
             }
            },
            "type": "scatterternary"
           }
          ],
          "surface": [
           {
            "colorbar": {
             "outlinewidth": 0,
             "ticks": ""
            },
            "colorscale": [
             [
              0,
              "#0d0887"
             ],
             [
              0.1111111111111111,
              "#46039f"
             ],
             [
              0.2222222222222222,
              "#7201a8"
             ],
             [
              0.3333333333333333,
              "#9c179e"
             ],
             [
              0.4444444444444444,
              "#bd3786"
             ],
             [
              0.5555555555555556,
              "#d8576b"
             ],
             [
              0.6666666666666666,
              "#ed7953"
             ],
             [
              0.7777777777777778,
              "#fb9f3a"
             ],
             [
              0.8888888888888888,
              "#fdca26"
             ],
             [
              1,
              "#f0f921"
             ]
            ],
            "type": "surface"
           }
          ],
          "table": [
           {
            "cells": {
             "fill": {
              "color": "#EBF0F8"
             },
             "line": {
              "color": "white"
             }
            },
            "header": {
             "fill": {
              "color": "#C8D4E3"
             },
             "line": {
              "color": "white"
             }
            },
            "type": "table"
           }
          ]
         },
         "layout": {
          "annotationdefaults": {
           "arrowcolor": "#2a3f5f",
           "arrowhead": 0,
           "arrowwidth": 1
          },
          "autotypenumbers": "strict",
          "coloraxis": {
           "colorbar": {
            "outlinewidth": 0,
            "ticks": ""
           }
          },
          "colorscale": {
           "diverging": [
            [
             0,
             "#8e0152"
            ],
            [
             0.1,
             "#c51b7d"
            ],
            [
             0.2,
             "#de77ae"
            ],
            [
             0.3,
             "#f1b6da"
            ],
            [
             0.4,
             "#fde0ef"
            ],
            [
             0.5,
             "#f7f7f7"
            ],
            [
             0.6,
             "#e6f5d0"
            ],
            [
             0.7,
             "#b8e186"
            ],
            [
             0.8,
             "#7fbc41"
            ],
            [
             0.9,
             "#4d9221"
            ],
            [
             1,
             "#276419"
            ]
           ],
           "sequential": [
            [
             0,
             "#0d0887"
            ],
            [
             0.1111111111111111,
             "#46039f"
            ],
            [
             0.2222222222222222,
             "#7201a8"
            ],
            [
             0.3333333333333333,
             "#9c179e"
            ],
            [
             0.4444444444444444,
             "#bd3786"
            ],
            [
             0.5555555555555556,
             "#d8576b"
            ],
            [
             0.6666666666666666,
             "#ed7953"
            ],
            [
             0.7777777777777778,
             "#fb9f3a"
            ],
            [
             0.8888888888888888,
             "#fdca26"
            ],
            [
             1,
             "#f0f921"
            ]
           ],
           "sequentialminus": [
            [
             0,
             "#0d0887"
            ],
            [
             0.1111111111111111,
             "#46039f"
            ],
            [
             0.2222222222222222,
             "#7201a8"
            ],
            [
             0.3333333333333333,
             "#9c179e"
            ],
            [
             0.4444444444444444,
             "#bd3786"
            ],
            [
             0.5555555555555556,
             "#d8576b"
            ],
            [
             0.6666666666666666,
             "#ed7953"
            ],
            [
             0.7777777777777778,
             "#fb9f3a"
            ],
            [
             0.8888888888888888,
             "#fdca26"
            ],
            [
             1,
             "#f0f921"
            ]
           ]
          },
          "colorway": [
           "#636efa",
           "#EF553B",
           "#00cc96",
           "#ab63fa",
           "#FFA15A",
           "#19d3f3",
           "#FF6692",
           "#B6E880",
           "#FF97FF",
           "#FECB52"
          ],
          "font": {
           "color": "#2a3f5f"
          },
          "geo": {
           "bgcolor": "white",
           "lakecolor": "white",
           "landcolor": "#E5ECF6",
           "showlakes": true,
           "showland": true,
           "subunitcolor": "white"
          },
          "hoverlabel": {
           "align": "left"
          },
          "hovermode": "closest",
          "mapbox": {
           "style": "light"
          },
          "paper_bgcolor": "white",
          "plot_bgcolor": "#E5ECF6",
          "polar": {
           "angularaxis": {
            "gridcolor": "white",
            "linecolor": "white",
            "ticks": ""
           },
           "bgcolor": "#E5ECF6",
           "radialaxis": {
            "gridcolor": "white",
            "linecolor": "white",
            "ticks": ""
           }
          },
          "scene": {
           "xaxis": {
            "backgroundcolor": "#E5ECF6",
            "gridcolor": "white",
            "gridwidth": 2,
            "linecolor": "white",
            "showbackground": true,
            "ticks": "",
            "zerolinecolor": "white"
           },
           "yaxis": {
            "backgroundcolor": "#E5ECF6",
            "gridcolor": "white",
            "gridwidth": 2,
            "linecolor": "white",
            "showbackground": true,
            "ticks": "",
            "zerolinecolor": "white"
           },
           "zaxis": {
            "backgroundcolor": "#E5ECF6",
            "gridcolor": "white",
            "gridwidth": 2,
            "linecolor": "white",
            "showbackground": true,
            "ticks": "",
            "zerolinecolor": "white"
           }
          },
          "shapedefaults": {
           "line": {
            "color": "#2a3f5f"
           }
          },
          "ternary": {
           "aaxis": {
            "gridcolor": "white",
            "linecolor": "white",
            "ticks": ""
           },
           "baxis": {
            "gridcolor": "white",
            "linecolor": "white",
            "ticks": ""
           },
           "bgcolor": "#E5ECF6",
           "caxis": {
            "gridcolor": "white",
            "linecolor": "white",
            "ticks": ""
           }
          },
          "title": {
           "x": 0.05
          },
          "xaxis": {
           "automargin": true,
           "gridcolor": "white",
           "linecolor": "white",
           "ticks": "",
           "title": {
            "standoff": 15
           },
           "zerolinecolor": "white",
           "zerolinewidth": 2
          },
          "yaxis": {
           "automargin": true,
           "gridcolor": "white",
           "linecolor": "white",
           "ticks": "",
           "title": {
            "standoff": 15
           },
           "zerolinecolor": "white",
           "zerolinewidth": 2
          }
         }
        },
        "title": {
         "text": "Distribution of profit"
        },
        "xaxis": {
         "anchor": "y",
         "domain": [
          0,
          1
         ]
        },
        "yaxis": {
         "anchor": "x",
         "domain": [
          0,
          1
         ],
         "title": {
          "text": "Profit"
         }
        }
       }
      }
     },
     "metadata": {},
     "output_type": "display_data"
    }
   ],
   "source": [
    "viz.img2(merged_df)"
   ]
  },
  {
   "cell_type": "code",
   "execution_count": 7,
   "metadata": {},
   "outputs": [
    {
     "data": {
      "application/vnd.plotly.v1+json": {
       "config": {
        "plotlyServerURL": "https://plot.ly"
       },
       "data": [
        {
         "hovertemplate": "Years=%{x}<br>US box office=%{y}<extra></extra>",
         "legendgroup": "",
         "line": {
          "color": "#636efa",
          "dash": "solid"
         },
         "marker": {
          "symbol": "circle"
         },
         "mode": "lines",
         "name": "",
         "orientation": "v",
         "showlegend": false,
         "type": "scatter",
         "x": [
          1952,
          1953,
          1954,
          1955,
          1956,
          1957,
          1958,
          1959,
          1960,
          1961,
          1962,
          1963,
          1964,
          1965,
          1966,
          1967,
          1968,
          1969,
          1970,
          1971,
          1972,
          1973,
          1974,
          1975,
          1976,
          1977,
          1978,
          1979,
          1980,
          1981,
          1982,
          1983,
          1984,
          1985,
          1986,
          1987,
          1988,
          1989,
          1990,
          1991,
          1992,
          1993,
          1994,
          1995,
          1996,
          1997,
          1998,
          1999,
          2000,
          2001,
          2002,
          2003,
          2004,
          2005,
          2006,
          2007,
          2008,
          2009,
          2010,
          2011,
          2012,
          2013,
          2014,
          2015,
          2016,
          2017,
          2018,
          2019,
          2020,
          2021,
          2022
         ],
         "xaxis": "x",
         "y": [
          27625000,
          11551666.666666666,
          6086000,
          6430000,
          6960000,
          6516666.666666667,
          25811666.666666668,
          40650000,
          8143333.333333333,
          3490000,
          3916666.6666666665,
          17210000,
          1303333.3333333333,
          1316666.6666666667,
          7402000,
          25140000,
          7350000,
          100000,
          751250,
          4346153.846153846,
          10193529.411764706,
          19558333.333333332,
          12052666.666666666,
          27287500,
          18611428.57142857,
          17737272.727272727,
          37705714.28571428,
          45869000,
          21264444.444444444,
          19381000,
          16752916.666666666,
          12430000,
          24811111.111111112,
          10700869.56521739,
          9199062.5,
          10765833.333333334,
          9007555.555555556,
          11974074.074074075,
          12199090.909090908,
          13697272.727272727,
          18196190.476190478,
          7612222.222222222,
          10410833.333333334,
          11904400,
          22404705.88235294,
          30335000,
          27278235.29411765,
          34980952.38095238,
          30704117.647058822,
          14320476.19047619,
          27898000,
          25565172.413793102,
          26231538.46153846,
          30027555.555555556,
          14990000,
          20950652.173913043,
          11812105.263157895,
          19186808.510638297,
          18492894.736842107,
          14898000,
          22940000,
          31495609.756097563,
          16192857.142857144,
          25182291.666666668,
          21235102.040816326,
          28194117.647058822,
          27908085.106382977,
          29684528.301886793,
          19099000,
          23690400,
          27600416.666666668
         ],
         "yaxis": "y"
        }
       ],
       "layout": {
        "legend": {
         "tracegroupgap": 0
        },
        "template": {
         "data": {
          "bar": [
           {
            "error_x": {
             "color": "#2a3f5f"
            },
            "error_y": {
             "color": "#2a3f5f"
            },
            "marker": {
             "line": {
              "color": "#E5ECF6",
              "width": 0.5
             },
             "pattern": {
              "fillmode": "overlay",
              "size": 10,
              "solidity": 0.2
             }
            },
            "type": "bar"
           }
          ],
          "barpolar": [
           {
            "marker": {
             "line": {
              "color": "#E5ECF6",
              "width": 0.5
             },
             "pattern": {
              "fillmode": "overlay",
              "size": 10,
              "solidity": 0.2
             }
            },
            "type": "barpolar"
           }
          ],
          "carpet": [
           {
            "aaxis": {
             "endlinecolor": "#2a3f5f",
             "gridcolor": "white",
             "linecolor": "white",
             "minorgridcolor": "white",
             "startlinecolor": "#2a3f5f"
            },
            "baxis": {
             "endlinecolor": "#2a3f5f",
             "gridcolor": "white",
             "linecolor": "white",
             "minorgridcolor": "white",
             "startlinecolor": "#2a3f5f"
            },
            "type": "carpet"
           }
          ],
          "choropleth": [
           {
            "colorbar": {
             "outlinewidth": 0,
             "ticks": ""
            },
            "type": "choropleth"
           }
          ],
          "contour": [
           {
            "colorbar": {
             "outlinewidth": 0,
             "ticks": ""
            },
            "colorscale": [
             [
              0,
              "#0d0887"
             ],
             [
              0.1111111111111111,
              "#46039f"
             ],
             [
              0.2222222222222222,
              "#7201a8"
             ],
             [
              0.3333333333333333,
              "#9c179e"
             ],
             [
              0.4444444444444444,
              "#bd3786"
             ],
             [
              0.5555555555555556,
              "#d8576b"
             ],
             [
              0.6666666666666666,
              "#ed7953"
             ],
             [
              0.7777777777777778,
              "#fb9f3a"
             ],
             [
              0.8888888888888888,
              "#fdca26"
             ],
             [
              1,
              "#f0f921"
             ]
            ],
            "type": "contour"
           }
          ],
          "contourcarpet": [
           {
            "colorbar": {
             "outlinewidth": 0,
             "ticks": ""
            },
            "type": "contourcarpet"
           }
          ],
          "heatmap": [
           {
            "colorbar": {
             "outlinewidth": 0,
             "ticks": ""
            },
            "colorscale": [
             [
              0,
              "#0d0887"
             ],
             [
              0.1111111111111111,
              "#46039f"
             ],
             [
              0.2222222222222222,
              "#7201a8"
             ],
             [
              0.3333333333333333,
              "#9c179e"
             ],
             [
              0.4444444444444444,
              "#bd3786"
             ],
             [
              0.5555555555555556,
              "#d8576b"
             ],
             [
              0.6666666666666666,
              "#ed7953"
             ],
             [
              0.7777777777777778,
              "#fb9f3a"
             ],
             [
              0.8888888888888888,
              "#fdca26"
             ],
             [
              1,
              "#f0f921"
             ]
            ],
            "type": "heatmap"
           }
          ],
          "heatmapgl": [
           {
            "colorbar": {
             "outlinewidth": 0,
             "ticks": ""
            },
            "colorscale": [
             [
              0,
              "#0d0887"
             ],
             [
              0.1111111111111111,
              "#46039f"
             ],
             [
              0.2222222222222222,
              "#7201a8"
             ],
             [
              0.3333333333333333,
              "#9c179e"
             ],
             [
              0.4444444444444444,
              "#bd3786"
             ],
             [
              0.5555555555555556,
              "#d8576b"
             ],
             [
              0.6666666666666666,
              "#ed7953"
             ],
             [
              0.7777777777777778,
              "#fb9f3a"
             ],
             [
              0.8888888888888888,
              "#fdca26"
             ],
             [
              1,
              "#f0f921"
             ]
            ],
            "type": "heatmapgl"
           }
          ],
          "histogram": [
           {
            "marker": {
             "pattern": {
              "fillmode": "overlay",
              "size": 10,
              "solidity": 0.2
             }
            },
            "type": "histogram"
           }
          ],
          "histogram2d": [
           {
            "colorbar": {
             "outlinewidth": 0,
             "ticks": ""
            },
            "colorscale": [
             [
              0,
              "#0d0887"
             ],
             [
              0.1111111111111111,
              "#46039f"
             ],
             [
              0.2222222222222222,
              "#7201a8"
             ],
             [
              0.3333333333333333,
              "#9c179e"
             ],
             [
              0.4444444444444444,
              "#bd3786"
             ],
             [
              0.5555555555555556,
              "#d8576b"
             ],
             [
              0.6666666666666666,
              "#ed7953"
             ],
             [
              0.7777777777777778,
              "#fb9f3a"
             ],
             [
              0.8888888888888888,
              "#fdca26"
             ],
             [
              1,
              "#f0f921"
             ]
            ],
            "type": "histogram2d"
           }
          ],
          "histogram2dcontour": [
           {
            "colorbar": {
             "outlinewidth": 0,
             "ticks": ""
            },
            "colorscale": [
             [
              0,
              "#0d0887"
             ],
             [
              0.1111111111111111,
              "#46039f"
             ],
             [
              0.2222222222222222,
              "#7201a8"
             ],
             [
              0.3333333333333333,
              "#9c179e"
             ],
             [
              0.4444444444444444,
              "#bd3786"
             ],
             [
              0.5555555555555556,
              "#d8576b"
             ],
             [
              0.6666666666666666,
              "#ed7953"
             ],
             [
              0.7777777777777778,
              "#fb9f3a"
             ],
             [
              0.8888888888888888,
              "#fdca26"
             ],
             [
              1,
              "#f0f921"
             ]
            ],
            "type": "histogram2dcontour"
           }
          ],
          "mesh3d": [
           {
            "colorbar": {
             "outlinewidth": 0,
             "ticks": ""
            },
            "type": "mesh3d"
           }
          ],
          "parcoords": [
           {
            "line": {
             "colorbar": {
              "outlinewidth": 0,
              "ticks": ""
             }
            },
            "type": "parcoords"
           }
          ],
          "pie": [
           {
            "automargin": true,
            "type": "pie"
           }
          ],
          "scatter": [
           {
            "fillpattern": {
             "fillmode": "overlay",
             "size": 10,
             "solidity": 0.2
            },
            "type": "scatter"
           }
          ],
          "scatter3d": [
           {
            "line": {
             "colorbar": {
              "outlinewidth": 0,
              "ticks": ""
             }
            },
            "marker": {
             "colorbar": {
              "outlinewidth": 0,
              "ticks": ""
             }
            },
            "type": "scatter3d"
           }
          ],
          "scattercarpet": [
           {
            "marker": {
             "colorbar": {
              "outlinewidth": 0,
              "ticks": ""
             }
            },
            "type": "scattercarpet"
           }
          ],
          "scattergeo": [
           {
            "marker": {
             "colorbar": {
              "outlinewidth": 0,
              "ticks": ""
             }
            },
            "type": "scattergeo"
           }
          ],
          "scattergl": [
           {
            "marker": {
             "colorbar": {
              "outlinewidth": 0,
              "ticks": ""
             }
            },
            "type": "scattergl"
           }
          ],
          "scattermapbox": [
           {
            "marker": {
             "colorbar": {
              "outlinewidth": 0,
              "ticks": ""
             }
            },
            "type": "scattermapbox"
           }
          ],
          "scatterpolar": [
           {
            "marker": {
             "colorbar": {
              "outlinewidth": 0,
              "ticks": ""
             }
            },
            "type": "scatterpolar"
           }
          ],
          "scatterpolargl": [
           {
            "marker": {
             "colorbar": {
              "outlinewidth": 0,
              "ticks": ""
             }
            },
            "type": "scatterpolargl"
           }
          ],
          "scatterternary": [
           {
            "marker": {
             "colorbar": {
              "outlinewidth": 0,
              "ticks": ""
             }
            },
            "type": "scatterternary"
           }
          ],
          "surface": [
           {
            "colorbar": {
             "outlinewidth": 0,
             "ticks": ""
            },
            "colorscale": [
             [
              0,
              "#0d0887"
             ],
             [
              0.1111111111111111,
              "#46039f"
             ],
             [
              0.2222222222222222,
              "#7201a8"
             ],
             [
              0.3333333333333333,
              "#9c179e"
             ],
             [
              0.4444444444444444,
              "#bd3786"
             ],
             [
              0.5555555555555556,
              "#d8576b"
             ],
             [
              0.6666666666666666,
              "#ed7953"
             ],
             [
              0.7777777777777778,
              "#fb9f3a"
             ],
             [
              0.8888888888888888,
              "#fdca26"
             ],
             [
              1,
              "#f0f921"
             ]
            ],
            "type": "surface"
           }
          ],
          "table": [
           {
            "cells": {
             "fill": {
              "color": "#EBF0F8"
             },
             "line": {
              "color": "white"
             }
            },
            "header": {
             "fill": {
              "color": "#C8D4E3"
             },
             "line": {
              "color": "white"
             }
            },
            "type": "table"
           }
          ]
         },
         "layout": {
          "annotationdefaults": {
           "arrowcolor": "#2a3f5f",
           "arrowhead": 0,
           "arrowwidth": 1
          },
          "autotypenumbers": "strict",
          "coloraxis": {
           "colorbar": {
            "outlinewidth": 0,
            "ticks": ""
           }
          },
          "colorscale": {
           "diverging": [
            [
             0,
             "#8e0152"
            ],
            [
             0.1,
             "#c51b7d"
            ],
            [
             0.2,
             "#de77ae"
            ],
            [
             0.3,
             "#f1b6da"
            ],
            [
             0.4,
             "#fde0ef"
            ],
            [
             0.5,
             "#f7f7f7"
            ],
            [
             0.6,
             "#e6f5d0"
            ],
            [
             0.7,
             "#b8e186"
            ],
            [
             0.8,
             "#7fbc41"
            ],
            [
             0.9,
             "#4d9221"
            ],
            [
             1,
             "#276419"
            ]
           ],
           "sequential": [
            [
             0,
             "#0d0887"
            ],
            [
             0.1111111111111111,
             "#46039f"
            ],
            [
             0.2222222222222222,
             "#7201a8"
            ],
            [
             0.3333333333333333,
             "#9c179e"
            ],
            [
             0.4444444444444444,
             "#bd3786"
            ],
            [
             0.5555555555555556,
             "#d8576b"
            ],
            [
             0.6666666666666666,
             "#ed7953"
            ],
            [
             0.7777777777777778,
             "#fb9f3a"
            ],
            [
             0.8888888888888888,
             "#fdca26"
            ],
            [
             1,
             "#f0f921"
            ]
           ],
           "sequentialminus": [
            [
             0,
             "#0d0887"
            ],
            [
             0.1111111111111111,
             "#46039f"
            ],
            [
             0.2222222222222222,
             "#7201a8"
            ],
            [
             0.3333333333333333,
             "#9c179e"
            ],
            [
             0.4444444444444444,
             "#bd3786"
            ],
            [
             0.5555555555555556,
             "#d8576b"
            ],
            [
             0.6666666666666666,
             "#ed7953"
            ],
            [
             0.7777777777777778,
             "#fb9f3a"
            ],
            [
             0.8888888888888888,
             "#fdca26"
            ],
            [
             1,
             "#f0f921"
            ]
           ]
          },
          "colorway": [
           "#636efa",
           "#EF553B",
           "#00cc96",
           "#ab63fa",
           "#FFA15A",
           "#19d3f3",
           "#FF6692",
           "#B6E880",
           "#FF97FF",
           "#FECB52"
          ],
          "font": {
           "color": "#2a3f5f"
          },
          "geo": {
           "bgcolor": "white",
           "lakecolor": "white",
           "landcolor": "#E5ECF6",
           "showlakes": true,
           "showland": true,
           "subunitcolor": "white"
          },
          "hoverlabel": {
           "align": "left"
          },
          "hovermode": "closest",
          "mapbox": {
           "style": "light"
          },
          "paper_bgcolor": "white",
          "plot_bgcolor": "#E5ECF6",
          "polar": {
           "angularaxis": {
            "gridcolor": "white",
            "linecolor": "white",
            "ticks": ""
           },
           "bgcolor": "#E5ECF6",
           "radialaxis": {
            "gridcolor": "white",
            "linecolor": "white",
            "ticks": ""
           }
          },
          "scene": {
           "xaxis": {
            "backgroundcolor": "#E5ECF6",
            "gridcolor": "white",
            "gridwidth": 2,
            "linecolor": "white",
            "showbackground": true,
            "ticks": "",
            "zerolinecolor": "white"
           },
           "yaxis": {
            "backgroundcolor": "#E5ECF6",
            "gridcolor": "white",
            "gridwidth": 2,
            "linecolor": "white",
            "showbackground": true,
            "ticks": "",
            "zerolinecolor": "white"
           },
           "zaxis": {
            "backgroundcolor": "#E5ECF6",
            "gridcolor": "white",
            "gridwidth": 2,
            "linecolor": "white",
            "showbackground": true,
            "ticks": "",
            "zerolinecolor": "white"
           }
          },
          "shapedefaults": {
           "line": {
            "color": "#2a3f5f"
           }
          },
          "ternary": {
           "aaxis": {
            "gridcolor": "white",
            "linecolor": "white",
            "ticks": ""
           },
           "baxis": {
            "gridcolor": "white",
            "linecolor": "white",
            "ticks": ""
           },
           "bgcolor": "#E5ECF6",
           "caxis": {
            "gridcolor": "white",
            "linecolor": "white",
            "ticks": ""
           }
          },
          "title": {
           "x": 0.05
          },
          "xaxis": {
           "automargin": true,
           "gridcolor": "white",
           "linecolor": "white",
           "ticks": "",
           "title": {
            "standoff": 15
           },
           "zerolinecolor": "white",
           "zerolinewidth": 2
          },
          "yaxis": {
           "automargin": true,
           "gridcolor": "white",
           "linecolor": "white",
           "ticks": "",
           "title": {
            "standoff": 15
           },
           "zerolinecolor": "white",
           "zerolinewidth": 2
          }
         }
        },
        "title": {
         "text": "US box office across time"
        },
        "xaxis": {
         "anchor": "y",
         "domain": [
          0,
          1
         ],
         "title": {
          "text": "Years"
         }
        },
        "yaxis": {
         "anchor": "x",
         "domain": [
          0,
          1
         ],
         "title": {
          "text": "US box office"
         }
        }
       }
      }
     },
     "metadata": {},
     "output_type": "display_data"
    }
   ],
   "source": [
    "viz.img3(merged_df)"
   ]
  },
  {
   "cell_type": "code",
   "execution_count": 8,
   "metadata": {},
   "outputs": [
    {
     "data": {
      "application/vnd.plotly.v1+json": {
       "config": {
        "plotlyServerURL": "https://plot.ly"
       },
       "data": [
        {
         "alignmentgroup": "True",
         "customdata": [
          [
           "Beast"
          ],
          [
           "Beast"
          ],
          [
           "The Black Phone"
          ],
          [
           "Nope"
          ],
          [
           "X"
          ],
          [
           "Dahmer"
          ],
          [
           "Halloween Kills"
          ],
          [
           "Scream"
          ],
          [
           "Scream"
          ],
          [
           "Scream"
          ],
          [
           "Scream"
          ],
          [
           "Scream"
          ],
          [
           "Scream"
          ],
          [
           "Orphan"
          ],
          [
           "Orphan"
          ],
          [
           "The Conjuring: The Devil Made Me Do It"
          ],
          [
           "Resident Evil: Welcome to Raccoon City"
          ],
          [
           "It Chapter Two"
          ],
          [
           "The Unholy"
          ],
          [
           "The Forever Purge"
          ],
          [
           "Don't Breathe 2"
          ],
          [
           "Jeepers Creepers"
          ],
          [
           "The Conjuring"
          ],
          [
           "Jeepers Creepers 2"
          ],
          [
           "The Invitation"
          ],
          [
           "The Invitation"
          ],
          [
           "Halloween"
          ],
          [
           "Halloween"
          ],
          [
           "Halloween"
          ],
          [
           "Halloween"
          ],
          [
           "Halloween"
          ],
          [
           "Halloween"
          ],
          [
           "Halloween"
          ],
          [
           "Halloween"
          ],
          [
           "Halloween"
          ],
          [
           "A Quiet Place Part II"
          ],
          [
           "Old"
          ],
          [
           "Bride of Chucky"
          ],
          [
           "The Conjuring 2"
          ],
          [
           "World War Z"
          ],
          [
           "The Nun"
          ],
          [
           "A Haunted House 2"
          ],
          [
           "Constantine"
          ],
          [
           "Wrong Turn"
          ],
          [
           "The Meg"
          ],
          [
           "The Addams Family"
          ],
          [
           "Legion"
          ],
          [
           "Child's Play"
          ],
          [
           "Child's Play"
          ],
          [
           "Child's Play"
          ],
          [
           "Child's Play"
          ],
          [
           "A Haunted House"
          ],
          [
           "The First Purge"
          ],
          [
           "It"
          ],
          [
           "Abraham Lincoln: Vampire Hunter"
          ],
          [
           "Seed of Chucky"
          ],
          [
           "The Exorcist"
          ],
          [
           "Army of the Dead"
          ],
          [
           "Child's Play 2"
          ],
          [
           "Train to Busan"
          ],
          [
           "Saw"
          ],
          [
           "Saw"
          ],
          [
           "The Purge: Election Year"
          ],
          [
           "The Curse of La Llorona"
          ],
          [
           "Child's Play 3"
          ],
          [
           "Hellraiser"
          ],
          [
           "Hellraiser"
          ],
          [
           "The Hunt"
          ],
          [
           "The Hunt"
          ],
          [
           "The Hunt"
          ],
          [
           "The Hunt"
          ],
          [
           "Annabelle Comes Home"
          ],
          [
           "The Texas Chainsaw Massacre"
          ],
          [
           "Split"
          ],
          [
           "Hereditary"
          ],
          [
           "Final Destination"
          ],
          [
           "Curse of Chucky"
          ],
          [
           "The Purge"
          ],
          [
           "Annabelle: Creation"
          ],
          [
           "The Orphanage"
          ],
          [
           "Hansel & Gretel: Witch Hunters"
          ],
          [
           "The Ring"
          ],
          [
           "Final Destination 5"
          ],
          [
           "Alien: Covenant"
          ],
          [
           "Insidious"
          ],
          [
           "Paranormal Activity: The Marked Ones"
          ],
          [
           "Goosebumps"
          ],
          [
           "Freddy vs. Jason"
          ],
          [
           "Paranormal Activity"
          ],
          [
           "Carrie"
          ],
          [
           "Carrie"
          ],
          [
           "Carrie"
          ],
          [
           "Carrie"
          ],
          [
           "The Texas Chainsaw Massacre: The Beginning"
          ],
          [
           "The Witch"
          ],
          [
           "The Witch"
          ],
          [
           "Get Out"
          ],
          [
           "The Ruins"
          ],
          [
           "Annabelle"
          ],
          [
           "Halloween 4: The Return of Michael Myers"
          ],
          [
           "Insidious: Chapter 2"
          ],
          [
           "The Human Centipede (First Sequence)"
          ],
          [
           "Underworld: Awakening"
          ],
          [
           "Final Destination 3"
          ],
          [
           "Scouts Guide to the Zombie Apocalypse"
          ],
          [
           "Sinister"
          ],
          [
           "Zombieland"
          ],
          [
           "Final Destination 2"
          ],
          [
           "Truth or Dare"
          ],
          [
           "Truth or Dare"
          ],
          [
           "A Quiet Place"
          ],
          [
           "The Shining"
          ],
          [
           "Underworld: Blood Wars"
          ],
          [
           "House of Wax"
          ],
          [
           "House of Wax"
          ],
          [
           "House of Wax"
          ],
          [
           "House of Wax"
          ],
          [
           "Peninsula"
          ],
          [
           "The Hills Have Eyes"
          ],
          [
           "The Hills Have Eyes"
          ],
          [
           "The Hills Have Eyes"
          ],
          [
           "The Hills Have Eyes"
          ],
          [
           "Candyman"
          ],
          [
           "Candyman"
          ],
          [
           "Candyman"
          ],
          [
           "Candyman"
          ],
          [
           "Dreamcatcher"
          ],
          [
           "Freddy's Dead: The Final Nightmare"
          ],
          [
           "Friday the 13th"
          ],
          [
           "Friday the 13th"
          ],
          [
           "Friday the 13th"
          ],
          [
           "Friday the 13th"
          ],
          [
           "The Purge: Anarchy"
          ],
          [
           "Alien"
          ],
          [
           "Escape Room: Tournament of Champions"
          ],
          [
           "Jennifer's Body"
          ],
          [
           "Saw II"
          ],
          [
           "Halloween II"
          ],
          [
           "Halloween II"
          ],
          [
           "Halloween II"
          ],
          [
           "Halloween II"
          ],
          [
           "Drag Me to Hell"
          ],
          [
           "Dead Silence"
          ],
          [
           "Saw III"
          ],
          [
           "Midsommar"
          ],
          [
           "Zombieland: Double Tap"
          ],
          [
           "Halloween 5: The Revenge of Michael Myers"
          ],
          [
           "Blade"
          ],
          [
           "I Spit on Your Grave"
          ],
          [
           "I Spit on Your Grave"
          ],
          [
           "The Texas Chain Saw Massacre"
          ],
          [
           "The Cabin in the Woods"
          ],
          [
           "The Thing"
          ],
          [
           "The Thing"
          ],
          [
           "The Thing"
          ],
          [
           "The Thing"
          ],
          [
           "Insidious: The Last Key"
          ],
          [
           "Paranormal Activity 3"
          ],
          [
           "Saw IV"
          ],
          [
           "Annihilation"
          ],
          [
           "The New Mutants"
          ],
          [
           "The Hills Have Eyes 2"
          ],
          [
           "28 Weeks Later"
          ],
          [
           "Don't Breathe"
          ],
          [
           "The Final Destination"
          ],
          [
           "Knock Knock"
          ],
          [
           "Knock Knock"
          ],
          [
           "The Exorcism of Emily Rose"
          ],
          [
           "Halloween: The Curse of Michael Myers"
          ],
          [
           "Thir13en Ghosts"
          ],
          [
           "Scream 2"
          ],
          [
           "Hostel"
          ],
          [
           "Sleepy Hollow"
          ],
          [
           "Piranha 3D"
          ],
          [
           "It Follows"
          ],
          [
           "Evil Dead"
          ],
          [
           "Hostel: Part II"
          ],
          [
           "Crawl"
          ],
          [
           "28 Days Later"
          ],
          [
           "Ghost Ship"
          ],
          [
           "Friday the 13th: The Final Chapter"
          ],
          [
           "Insidious: Chapter 3"
          ],
          [
           "Halloween: Resurrection"
          ],
          [
           "The Ring Two"
          ],
          [
           "Saw 3D"
          ],
          [
           "Shaun of the Dead"
          ],
          [
           "The Blair Witch Project"
          ],
          [
           "The Evil Dead"
          ],
          [
           "Friday the 13th Part 2"
          ],
          [
           "A Nightmare on Elm Street"
          ],
          [
           "A Nightmare on Elm Street"
          ],
          [
           "A Nightmare on Elm Street"
          ],
          [
           "A Nightmare on Elm Street"
          ],
          [
           "Ouija"
          ],
          [
           "The Grudge"
          ],
          [
           "The Grudge"
          ],
          [
           "Saw V"
          ],
          [
           "Fright Night"
          ],
          [
           "Fright Night"
          ],
          [
           "Fright Night"
          ],
          [
           "Fright Night"
          ],
          [
           "As Above, So Below"
          ],
          [
           "Night of the Living Dead"
          ],
          [
           "Night of the Living Dead"
          ],
          [
           "Night of the Living Dead"
          ],
          [
           "Night of the Living Dead"
          ],
          [
           "Scary Stories to Tell in the Dark"
          ],
          [
           "Pet Sematary"
          ],
          [
           "Pet Sematary"
          ],
          [
           "Pet Sematary"
          ],
          [
           "Pet Sematary"
          ],
          [
           "Saw VI"
          ],
          [
           "Scream 4"
          ],
          [
           "Cursed"
          ],
          [
           "Psycho"
          ],
          [
           "Psycho"
          ],
          [
           "Psycho"
          ],
          [
           "Psycho"
          ],
          [
           "Dawn of the Dead"
          ],
          [
           "Dawn of the Dead"
          ],
          [
           "Dawn of the Dead"
          ],
          [
           "Dawn of the Dead"
          ],
          [
           "An American Werewolf in London"
          ],
          [
           "Us"
          ],
          [
           "Brightburn"
          ],
          [
           "Army of Darkness"
          ],
          [
           "Halloween H20: 20 Years Later"
          ],
          [
           "P2"
          ],
          [
           "The Descent"
          ],
          [
           "Anaconda"
          ],
          [
           "Leprechaun"
          ],
          [
           "Poltergeist"
          ],
          [
           "Poltergeist"
          ],
          [
           "Poltergeist"
          ],
          [
           "Poltergeist"
          ],
          [
           "Tremors"
          ],
          [
           "The Amityville Horror"
          ],
          [
           "The Amityville Horror"
          ],
          [
           "Mama"
          ],
          [
           "Blade: Trinity"
          ],
          [
           "Leprechaun 2"
          ],
          [
           "Wish Upon"
          ],
          [
           "Blade II"
          ],
          [
           "Jigsaw"
          ],
          [
           "Jigsaw"
          ],
          [
           "The Boy"
          ],
          [
           "Ready or Not"
          ],
          [
           "Ready or Not"
          ],
          [
           "Event Horizon"
          ],
          [
           "The Return of the Living Dead"
          ],
          [
           "The Strangers: Prey at Night"
          ],
          [
           "Rings"
          ],
          [
           "Rings"
          ],
          [
           "Halloween III: Season of the Witch"
          ],
          [
           "The Last House on the Left"
          ],
          [
           "The Last House on the Left"
          ],
          [
           "The Last House on the Left"
          ],
          [
           "The Last House on the Left"
          ],
          [
           "Species"
          ],
          [
           "Hellbound: Hellraiser II"
          ],
          [
           "Jason Goes to Hell: The Final Friday"
          ],
          [
           "The Exorcist III"
          ],
          [
           "Ouija: Origin of Evil"
          ],
          [
           "The Invisible Man"
          ],
          [
           "The Invisible Man"
          ],
          [
           "The Mummy"
          ],
          [
           "Friday the 13th Part VI: Jason Lives"
          ],
          [
           "Scream 3"
          ],
          [
           "The Unborn"
          ],
          [
           "The Unborn"
          ],
          [
           "A Nightmare on Elm Street 4: The Dream Master"
          ],
          [
           "Bordello of Blood"
          ],
          [
           "Clown"
          ],
          [
           "Clown"
          ],
          [
           "The Wolfman"
          ],
          [
           "Escape Room"
          ],
          [
           "Jason X"
          ],
          [
           "Friday the 13th Part VIII: Jason Takes Manhattan"
          ],
          [
           "The Green Inferno"
          ],
          [
           "Piranha"
          ],
          [
           "Underwater"
          ],
          [
           "Silent Hill"
          ],
          [
           "Lights Out"
          ],
          [
           "Happy Death Day"
          ],
          [
           "Friday the 13th Part III"
          ],
          [
           "The Craft"
          ],
          [
           "Suspiria"
          ],
          [
           "Children of the Corn"
          ],
          [
           "Children of the Corn"
          ],
          [
           "Children of the Corn"
          ],
          [
           "Overlord"
          ],
          [
           "The Mist"
          ],
          [
           "Shin Godzilla"
          ],
          [
           "I Know What You Did Last Summer"
          ],
          [
           "The Babadook"
          ],
          [
           "Evil Dead II"
          ],
          [
           "Possession"
          ],
          [
           "The Texas Chainsaw Massacre 2"
          ],
          [
           "Warm Bodies"
          ],
          [
           "Exorcist II: The Heretic"
          ],
          [
           "Priest"
          ],
          [
           "Life"
          ],
          [
           "See No Evil"
          ],
          [
           "Gothika"
          ],
          [
           "Critters"
          ],
          [
           "Sinister 2"
          ],
          [
           "The Possession of Hannah Grace"
          ],
          [
           "Happy Death Day 2U"
          ],
          [
           "Killer Klowns from Outer Space"
          ],
          [
           "House of 1000 Corpses"
          ],
          [
           "Hellraiser III: Hell on Earth"
          ],
          [
           "Slender Man"
          ],
          [
           "Slender Man"
          ],
          [
           "Cujo"
          ],
          [
           "New Nightmare"
          ],
          [
           "Friday the 13th Part VII: The New Blood"
          ],
          [
           "Creepshow"
          ],
          [
           "Friday the 13th: A New Beginning"
          ],
          [
           "The Birds"
          ],
          [
           "The Shallows"
          ],
          [
           "Gremlins"
          ],
          [
           "The Skin I Live In"
          ],
          [
           "Chernobyl Diaries"
          ],
          [
           "Doctor Sleep"
          ],
          [
           "The Howling"
          ],
          [
           "The Howling"
          ],
          [
           "Gremlins 2: The New Batch"
          ],
          [
           "Crimson Peak"
          ],
          [
           "Paranormal Activity 2"
          ],
          [
           "The Host"
          ],
          [
           "Shutter"
          ],
          [
           "Shutter"
          ],
          [
           "30 Days of Night"
          ],
          [
           "The Vatican Tapes"
          ],
          [
           "Return of the Living Dead III"
          ],
          [
           "47 Meters Down"
          ],
          [
           "The Visit"
          ],
          [
           "The Omen"
          ],
          [
           "The Omen"
          ],
          [
           "The Omen"
          ],
          [
           "The Omen"
          ],
          [
           "The Others"
          ],
          [
           "1408"
          ],
          [
           "Devil"
          ],
          [
           "The Collector"
          ],
          [
           "Oculus"
          ],
          [
           "The Rite"
          ],
          [
           "The Strangers"
          ],
          [
           "The Woman in Black 2: Angel of Death"
          ],
          [
           "Death Becomes Her"
          ],
          [
           "The Fog"
          ],
          [
           "The Fog"
          ],
          [
           "The Fog"
          ],
          [
           "The Fog"
          ],
          [
           "Case 39"
          ],
          [
           "Firestarter"
          ],
          [
           "Firestarter"
          ],
          [
           "Paranormal Activity 4"
          ],
          [
           "Krampus"
          ],
          [
           "You're Next"
          ],
          [
           "House"
          ],
          [
           "House"
          ],
          [
           "Unfriended"
          ],
          [
           "Christine"
          ],
          [
           "10 Cloverfield Lane"
          ],
          [
           "Jaws 2"
          ],
          [
           "Twin Peaks: Fire Walk with Me"
          ],
          [
           "Piranha 3DD"
          ],
          [
           "Pride and Prejudice and Zombies"
          ],
          [
           "The Innocents"
          ],
          [
           "Mandy"
          ],
          [
           "From Dusk Till Dawn"
          ],
          [
           "Wolf Creek"
          ],
          [
           "Exorcist: The Beginning"
          ],
          [
           "From Hell"
          ],
          [
           "Sweeney Todd: The Demon Barber of Fleet Street"
          ],
          [
           "The Messengers"
          ],
          [
           "Splice"
          ],
          [
           "47 Meters Down: Uncaged"
          ],
          [
           "Resident Evil: Apocalypse"
          ],
          [
           "The Pyramid"
          ],
          [
           "Dracula Untold"
          ],
          [
           "Antichrist"
          ],
          [
           "Mirrors"
          ],
          [
           "Cat's Eye"
          ],
          [
           "Jaws: The Revenge"
          ],
          [
           "Stigmata"
          ],
          [
           "A Cure for Wellness"
          ],
          [
           "Silent Night, Deadly Night"
          ],
          [
           "The Crazies"
          ],
          [
           "The Crazies"
          ],
          [
           "The Crazies"
          ],
          [
           "The Crazies"
          ],
          [
           "Spawn"
          ],
          [
           "Alone in the Dark"
          ],
          [
           "Alone in the Dark"
          ],
          [
           "Resident Evil"
          ],
          [
           "Red Riding Hood"
          ],
          [
           "Unfriended: Dark Web"
          ],
          [
           "Pet Sematary II"
          ],
          [
           "An American Werewolf in Paris"
          ],
          [
           "Jaws 3-D"
          ],
          [
           "The Bye Bye Man"
          ],
          [
           "The Fly"
          ],
          [
           "The Fly"
          ],
          [
           "The Fly"
          ],
          [
           "The Fly"
          ],
          [
           "Paranormal Activity: The Ghost Dimension"
          ],
          [
           "The Skeleton Key"
          ],
          [
           "Ma"
          ],
          [
           "Maggie"
          ],
          [
           "The Lost Boys"
          ],
          [
           "Poltergeist II: The Other Side"
          ],
          [
           "eXistenZ"
          ],
          [
           "Book of Shadows: Blair Witch 2"
          ],
          [
           "Pandorum"
          ],
          [
           "I Still Know What You Did Last Summer"
          ],
          [
           "Maximum Overdrive"
          ],
          [
           "The Bad Batch"
          ],
          [
           "Raw"
          ],
          [
           "The Woman in Black"
          ],
          [
           "Incarnate"
          ],
          [
           "Deliver Us from Evil"
          ],
          [
           "Revenge"
          ],
          [
           "Revenge"
          ],
          [
           "Slither"
          ],
          [
           "Hellraiser: Bloodline"
          ],
          [
           "Winchester"
          ],
          [
           "Blair Witch"
          ],
          [
           "Vacancy"
          ],
          [
           "Vacancy"
          ],
          [
           "Ju-on: The Grudge"
          ],
          [
           "The Grudge 2"
          ],
          [
           "The Forest"
          ],
          [
           "The Forest"
          ],
          [
           "When a Stranger Calls"
          ],
          [
           "When a Stranger Calls"
          ],
          [
           "Species II"
          ],
          [
           "The House That Jack Built"
          ],
          [
           "Urban Legends: Final Cut"
          ],
          [
           "The Devil Inside"
          ],
          [
           "Stay Alive"
          ],
          [
           "A Nightmare on Elm Street 3: Dream Warriors"
          ],
          [
           "The Eye"
          ],
          [
           "The Eye"
          ],
          [
           "The Eye"
          ],
          [
           "The Eye"
          ],
          [
           "The Haunting"
          ],
          [
           "The Haunting"
          ],
          [
           "The Last Exorcism"
          ],
          [
           "Let Me In"
          ],
          [
           "A Nightmare on Elm Street: The Dream Child"
          ],
          [
           "The Cave"
          ],
          [
           "Devil's Due"
          ],
          [
           "Land of the Dead"
          ],
          [
           "Lake Placid"
          ],
          [
           "Fantasy Island"
          ],
          [
           "Sleepwalkers"
          ],
          [
           "Cabin Fever"
          ],
          [
           "Teeth"
          ],
          [
           "One Missed Call"
          ],
          [
           "One Missed Call"
          ],
          [
           "Village of the Damned"
          ],
          [
           "Village of the Damned"
          ],
          [
           "Eight Legged Freaks"
          ],
          [
           "Amityville II: The Possession"
          ],
          [
           "Dracula 2000"
          ],
          [
           "Troll Hunter"
          ],
          [
           "Alien³"
          ],
          [
           "Boo 2! A Madea Halloween"
          ],
          [
           "My Bloody Valentine"
          ],
          [
           "My Bloody Valentine"
          ],
          [
           "My Bloody Valentine"
          ],
          [
           "My Bloody Valentine"
          ],
          [
           "End of Days"
          ],
          [
           "Dead Calm"
          ],
          [
           "13 Sins"
          ],
          [
           "Honeymoon"
          ],
          [
           "The Blob"
          ],
          [
           "The Blob"
          ],
          [
           "Green Room"
          ],
          [
           "The Frighteners"
          ],
          [
           "Silver Bullet"
          ],
          [
           "Tusk"
          ],
          [
           "Doom"
          ],
          [
           "Open Water"
          ],
          [
           "Hide and Seek"
          ],
          [
           "Hide and Seek"
          ],
          [
           "The Prodigy"
          ],
          [
           "Orca"
          ],
          [
           "Friend Request"
          ],
          [
           "Dark Skies"
          ],
          [
           "The Lords of Salem"
          ],
          [
           "31"
          ],
          [
           "The Gallows"
          ],
          [
           "Poltergeist III"
          ],
          [
           "Queen of the Damned"
          ],
          [
           "The Wicker Man"
          ],
          [
           "The Wicker Man"
          ],
          [
           "The Wicker Man"
          ],
          [
           "The Wicker Man"
          ],
          [
           "Don't Be Afraid of the Dark"
          ],
          [
           "Flatliners"
          ],
          [
           "Flatliners"
          ],
          [
           "Flatliners"
          ],
          [
           "Flatliners"
          ],
          [
           "The Covenant"
          ],
          [
           "Climax"
          ],
          [
           "The Haunting in Connecticut"
          ],
          [
           "Near Dark"
          ],
          [
           "Pulse"
          ],
          [
           "Pulse"
          ],
          [
           "Pulse"
          ],
          [
           "Pulse"
          ],
          [
           "Pulse"
          ],
          [
           "Pulse"
          ],
          [
           "Gretel & Hansel"
          ],
          [
           "The Faculty"
          ],
          [
           "The Endless"
          ],
          [
           "What Ever Happened to Baby Jane?"
          ],
          [
           "Videodrome"
          ],
          [
           "Survival of the Dead"
          ],
          [
           "Day Watch"
          ],
          [
           "The Neon Demon"
          ],
          [
           "Cemetery Man"
          ],
          [
           "Dracula: Dead and Loving It"
          ],
          [
           "The Witches of Eastwick"
          ],
          [
           "Life After Beth"
          ],
          [
           "The Order"
          ],
          [
           "Buffy the Vampire Slayer"
          ],
          [
           "Dead Snow"
          ],
          [
           "Re-Animator"
          ],
          [
           "The Stepfather"
          ],
          [
           "Vampires"
          ],
          [
           "The Signal"
          ],
          [
           "The Devil's Backbone"
          ],
          [
           "The Gift"
          ],
          [
           "Morgan"
          ],
          [
           "The Midnight Meat Train"
          ],
          [
           "Apollo 18"
          ],
          [
           "The Devil's Rejects"
          ],
          [
           "Mimic"
          ],
          [
           "Angel Heart"
          ],
          [
           "Eraserhead"
          ],
          [
           "The Roommate"
          ],
          [
           "The Awakening"
          ],
          [
           "House on Haunted Hill"
          ],
          [
           "House on Haunted Hill"
          ],
          [
           "Silent Night, Deadly Night Part 2"
          ],
          [
           "Prom Night"
          ],
          [
           "Prom Night"
          ],
          [
           "Children of the Corn II: The Final Sacrifice"
          ],
          [
           "The Mothman Prophecies"
          ],
          [
           "It Comes at Night"
          ],
          [
           "An American Haunting"
          ],
          [
           "Twilight Zone: The Movie"
          ],
          [
           "The Last Exorcism Part II"
          ],
          [
           "Assassination Nation"
          ],
          [
           "Invasion of the Body Snatchers"
          ],
          [
           "Invasion of the Body Snatchers"
          ],
          [
           "Wolf"
          ],
          [
           "Psycho II"
          ],
          [
           "Day of the Dead"
          ],
          [
           "Day of the Dead"
          ],
          [
           "Afflicted"
          ],
          [
           "The Possession"
          ],
          [
           "What Lies Beneath"
          ],
          [
           "The Cell"
          ],
          [
           "Below"
          ],
          [
           "In the Mouth of Madness"
          ],
          [
           "Intruders"
          ],
          [
           "Shocker"
          ],
          [
           "Rogue"
          ],
          [
           "The Darkest Hour"
          ],
          [
           "Brotherhood of the Wolf"
          ],
          [
           "Tale of Tales"
          ],
          [
           "Arachnophobia"
          ],
          [
           "The Rocky Horror Picture Show"
          ],
          [
           "Let the Right One In"
          ],
          [
           "The Belko Experiment"
          ],
          [
           "Boo! A Madea Halloween"
          ],
          [
           "Creepshow 2"
          ],
          [
           "Godzilla"
          ],
          [
           "Warlock: The Armageddon"
          ],
          [
           "Dark Water"
          ],
          [
           "Dark Water"
          ],
          [
           "Dracula"
          ],
          [
           "Dracula"
          ],
          [
           "Dracula"
          ],
          [
           "Dracula"
          ],
          [
           "Dracula"
          ],
          [
           "Dracula"
          ],
          [
           "Virus"
          ],
          [
           "Virus"
          ],
          [
           "Virus"
          ],
          [
           "What We Do in the Shadows"
          ],
          [
           "Turistas"
          ],
          [
           "Scanners"
          ],
          [
           "Hatchet"
          ],
          [
           "Deep Rising"
          ],
          [
           "Urban Legend"
          ],
          [
           "The Bird with the Crystal Plumage"
          ],
          [
           "Ravenous"
          ],
          [
           "Ravenous"
          ],
          [
           "Aftershock"
          ],
          [
           "Little Shop of Horrors"
          ],
          [
           "Quarantine"
          ],
          [
           "The Lazarus Effect"
          ],
          [
           "The Stepford Wives"
          ],
          [
           "The Stepford Wives"
          ],
          [
           "Hell Fest"
          ],
          [
           "Lifeforce"
          ],
          [
           "Cure"
          ],
          [
           "Bug"
          ],
          [
           "Bug"
          ],
          [
           "Graveyard Shift"
          ],
          [
           "White Noise"
          ],
          [
           "Mary Shelley's Frankenstein"
          ],
          [
           "Black Christmas"
          ],
          [
           "Black Christmas"
          ],
          [
           "Black Christmas"
          ],
          [
           "Black Christmas"
          ],
          [
           "Black Christmas"
          ],
          [
           "Black Christmas"
          ],
          [
           "Feast"
          ],
          [
           "Altered States"
          ],
          [
           "Damien: Omen II"
          ],
          [
           "Supernova"
          ],
          [
           "Wishmaster"
          ],
          [
           "Unsane"
          ],
          [
           "The Entity"
          ],
          [
           "Sorority Row"
          ],
          [
           "Pumpkinhead"
          ],
          [
           "Red State"
          ],
          [
           "Blood: The Last Vampire"
          ],
          [
           "Jacob's Ladder"
          ],
          [
           "Tales from the Darkside: The Movie"
          ],
          [
           "BloodRayne"
          ],
          [
           "Cat People"
          ],
          [
           "Cat People"
          ],
          [
           "Valentine"
          ],
          [
           "The Relic"
          ],
          [
           "The Apparition"
          ],
          [
           "The Apparition"
          ],
          [
           "Resident Evil: Extinction"
          ],
          [
           "Meet the Blacks"
          ],
          [
           "Idle Hands"
          ],
          [
           "Ghosts of Mars"
          ],
          [
           "Demons"
          ],
          [
           "The Reaping"
          ],
          [
           "Riding the Bullet"
          ],
          [
           "The People Under the Stairs"
          ],
          [
           "Wind Chill"
          ],
          [
           "Night of the Comet"
          ],
          [
           "Once Bitten"
          ],
          [
           "Lost Souls"
          ],
          [
           "The Hidden"
          ],
          [
           "Prince of Darkness"
          ],
          [
           "The Prophecy"
          ],
          [
           "Phoenix Forgotten"
          ],
          [
           "The Rage: Carrie 2"
          ],
          [
           "Tales from the Crypt: Demon Knight"
          ],
          [
           "Dead & Buried"
          ],
          [
           "The Darkness"
          ],
          [
           "After Midnight"
          ],
          [
           "Phantasm"
          ],
          [
           "The Disappointments Room"
          ],
          [
           "The Island of Dr. Moreau"
          ],
          [
           "The Island of Dr. Moreau"
          ],
          [
           "The Island of Dr. Moreau"
          ],
          [
           "The Island of Dr. Moreau"
          ],
          [
           "Stir of Echoes"
          ],
          [
           "Take Shelter"
          ],
          [
           "Out of the Dark"
          ],
          [
           "Thirst"
          ],
          [
           "Leviathan"
          ],
          [
           "Disturbing Behavior"
          ],
          [
           "Shadow of the Vampire"
          ],
          [
           "Sleepaway Camp"
          ],
          [
           "Raising Cain"
          ],
          [
           "The Lawnmower Man"
          ],
          [
           "Magic"
          ],
          [
           "Deadly Blessing"
          ],
          [
           "Blood and Chocolate"
          ],
          [
           "From Beyond"
          ],
          [
           "Vampire in Brooklyn"
          ],
          [
           "The Serpent and the Rainbow"
          ],
          [
           "Don't Look Now"
          ],
          [
           "Henry: Portrait of a Serial Killer"
          ],
          [
           "Boogeyman"
          ],
          [
           "I Know Who Killed Me"
          ],
          [
           "Diabolique"
          ],
          [
           "Diabolique"
          ],
          [
           "Bats"
          ],
          [
           "The Dead Zone"
          ],
          [
           "Godsend"
          ],
          [
           "Rubber"
          ],
          [
           "Tales from the Hood"
          ],
          [
           "The Night Flier"
          ],
          [
           "K-12"
          ],
          [
           "Ghoulies"
          ],
          [
           "The Bride"
          ],
          [
           "Night of the Demons"
          ],
          [
           "Night of the Demons"
          ],
          [
           "Dark Angel"
          ],
          [
           "Peeping Tom"
          ],
          [
           "Session 9"
          ],
          [
           "The Keep"
          ],
          [
           "Diary of the Dead"
          ],
          [
           "The Innkeepers"
          ],
          [
           "The Gate"
          ],
          [
           "Fido"
          ],
          [
           "House at the End of the Street"
          ],
          [
           "Hatchet II"
          ],
          [
           "Stake Land"
          ],
          [
           "Gozu"
          ],
          [
           "Screamers"
          ],
          [
           "Dracula: Prince of Darkness"
          ],
          [
           "April Fool's Day"
          ],
          [
           "April Fool's Day"
          ],
          [
           "They"
          ],
          [
           "Troll"
          ],
          [
           "Pathology"
          ],
          [
           "Night of the Creeps"
          ],
          [
           "Soul Survivors"
          ],
          [
           "Psycho Beach Party"
          ],
          [
           "Bless the Child"
          ],
          [
           "Man-Thing"
          ],
          [
           "House of the Dead"
          ],
          [
           "Body Snatchers"
          ],
          [
           "Psycho III"
          ],
          [
           "No One Lives"
          ],
          [
           "Beyond the Black Rainbow"
          ],
          [
           "Lady in White"
          ],
          [
           "The Forsaken"
          ],
          [
           "The Return of Swamp Thing"
          ],
          [
           "Invaders from Mars"
          ],
          [
           "Invaders from Mars"
          ],
          [
           "Maniac Cop"
          ],
          [
           "C.H.U.D."
          ],
          [
           "May"
          ],
          [
           "Sisters"
          ],
          [
           "Sisters"
          ],
          [
           "The House on Sorority Row"
          ],
          [
           "Nightbreed"
          ],
          [
           "Frankenhooker"
          ],
          [
           "The Curse of Frankenstein"
          ],
          [
           "The Hunchback of Notre Dame"
          ],
          [
           "Silent House"
          ],
          [
           "The Dark Half"
          ],
          [
           "Warlock"
          ],
          [
           "Club Dread"
          ],
          [
           "The Return"
          ],
          [
           "Brain Dead"
          ],
          [
           "The Quiet Ones"
          ],
          [
           "The Giant Spider Invasion"
          ],
          [
           "The Lair of the White Worm"
          ],
          [
           "Frankenstein Unbound"
          ],
          [
           "Dead Ringers"
          ],
          [
           "Split Second"
          ],
          [
           "Blacula"
          ],
          [
           "Bones"
          ],
          [
           "Waxwork"
          ],
          [
           "Darkness"
          ],
          [
           "Darkness"
          ],
          [
           "Bad Moon"
          ],
          [
           "Monkey Shines"
          ],
          [
           "My Soul to Take"
          ],
          [
           "Treehouse"
          ],
          [
           "Repo! The Genetic Opera"
          ],
          [
           "The Company of Wolves"
          ],
          [
           "Vampire's Kiss"
          ],
          [
           "Mary Reilly"
          ],
          [
           "Communion"
          ],
          [
           "Attack of the 50 Foot Woman"
          ],
          [
           "Razorback"
          ],
          [
           "The Zodiac"
          ],
          [
           "Timber Falls"
          ],
          [
           "The Toxic Avenger Part II"
          ],
          [
           "Chain Letter"
          ],
          [
           "Blood Feast"
          ],
          [
           "The Abandoned"
          ],
          [
           "Two Evil Eyes"
          ],
          [
           "Hideaway"
          ],
          [
           "Tamara"
          ],
          [
           "The Hand"
          ],
          [
           "Motel Hell"
          ],
          [
           "Prophecy"
          ],
          [
           "DeepStar Six"
          ],
          [
           "The Beast from 20,000 Fathoms"
          ],
          [
           "Vamp"
          ],
          [
           "The Guardian"
          ],
          [
           "Bad Dreams"
          ],
          [
           "The Pit and the Pendulum"
          ],
          [
           "The Pit and the Pendulum"
          ],
          [
           "Joshua"
          ],
          [
           "Dead Heat"
          ],
          [
           "The Abominable Dr. Phibes"
          ],
          [
           "The Lure"
          ],
          [
           "The Lure"
          ],
          [
           "Captain Kronos: Vampire Hunter"
          ],
          [
           "Kingdom of the Spiders"
          ],
          [
           "The Last Circus"
          ],
          [
           "Phantasm II"
          ],
          [
           "Wolfen"
          ],
          [
           "Flesh for Frankenstein"
          ],
          [
           "Strangeland"
          ],
          [
           "The Church"
          ],
          [
           "Captivity"
          ],
          [
           "Parasite"
          ],
          [
           "Parasite"
          ],
          [
           "Prison"
          ],
          [
           "The Little Shop of Horrors"
          ],
          [
           "Willard"
          ],
          [
           "Willard"
          ],
          [
           "Anguish"
          ],
          [
           "November"
          ],
          [
           "The Boogey Man"
          ],
          [
           "Resident Evil: Retribution"
          ],
          [
           "My Name Is Bruce"
          ],
          [
           "The Phantom of the Opera"
          ],
          [
           "The Phantom of the Opera"
          ],
          [
           "The First Power"
          ],
          [
           "Silent Rage"
          ],
          [
           "Wendigo"
          ],
          [
           "Man's Best Friend"
          ],
          [
           "Dylan Dog: Dead of Night"
          ],
          [
           "Demon"
          ],
          [
           "Of Unknown Origin"
          ],
          [
           "Thr3e"
          ],
          [
           "The Island"
          ],
          [
           "Abbott and Costello Meet Dr. Jekyll and Mr. Hyde"
          ],
          [
           "Creature"
          ],
          [
           "Creature"
          ],
          [
           "Creature"
          ],
          [
           "Creature"
          ],
          [
           "Creature"
          ],
          [
           "Creature"
          ],
          [
           "Incident at Loch Ness"
          ],
          [
           "The Lost Skeleton of Cadavra"
          ],
          [
           "House of Usher"
          ],
          [
           "House of Usher"
          ],
          [
           "The Killer Shrews"
          ],
          [
           "Slumber Party Massacre III"
          ],
          [
           "Carnosaur"
          ],
          [
           "Witchboard"
          ],
          [
           "I Was a Teenage Werewolf"
          ],
          [
           "Ghost in the Machine"
          ],
          [
           "From a Whisper to a Scream"
          ],
          [
           "Eyes of a Stranger"
          ],
          [
           "Robot Monster"
          ],
          [
           "Night of Dark Shadows"
          ],
          [
           "The Eclipse"
          ],
          [
           "House of Dark Shadows"
          ],
          [
           "Not of This Earth"
          ],
          [
           "Not of This Earth"
          ],
          [
           "Poison"
          ],
          [
           "The Outing"
          ],
          [
           "The Kiss"
          ],
          [
           "The Kiss"
          ],
          [
           "Escape from Tomorrow"
          ],
          [
           "Revelation"
          ],
          [
           "The Legend of Boggy Creek"
          ],
          [
           "Repentance"
          ],
          [
           "Count Yorga, Vampire"
          ],
          [
           "Night of the Living Dead 3D"
          ],
          [
           "The Afflicted"
          ],
          [
           "Beyond the Door"
          ],
          [
           "Beware! The Blob"
          ],
          [
           "Fright"
          ],
          [
           "Go Goa Gone"
          ],
          [
           "Ezra"
          ],
          [
           "Creepozoids"
          ],
          [
           "The Possession of Joel Delaney"
          ],
          [
           "Cameron's Closet"
          ],
          [
           "Time Walker"
          ],
          [
           "Bloodthirsty Butchers"
          ],
          [
           "Cruel World"
          ],
          [
           "Meet the Applegates"
          ],
          [
           "Resident Evil: The Final Chapter"
          ],
          [
           "Dracula: Pages from a Virgin's Diary"
          ],
          [
           "Deadfall Trail"
          ],
          [
           "Octaman"
          ],
          [
           "The Intruder"
          ],
          [
           "Clinton Road"
          ],
          [
           "Glass"
          ],
          [
           "Resident Evil: Afterlife"
          ],
          [
           "Midget Zombie Takeover"
          ],
          [
           "A Polish Vampire in Burbank"
          ],
          [
           "The Naked Witch"
          ],
          [
           "Hobo with a Shotgun"
          ],
          [
           "Evidence of a Haunting"
          ],
          [
           "Holla"
          ],
          [
           "Monster from the Ocean Floor"
          ]
         ],
         "hovertemplate": "genre_names=%{x}<br>profit=%{y}<br>title=%{customdata[0]}<extra></extra>",
         "legendgroup": "",
         "marker": {
          "color": "#636efa",
          "pattern": {
           "shape": ""
          }
         },
         "name": "",
         "offsetgroup": "",
         "orientation": "v",
         "showlegend": false,
         "textposition": "auto",
         "type": "bar",
         "x": [
          "Horror",
          "Horror",
          "Thriller",
          "Mystery",
          "Mystery",
          "Drama",
          "Thriller",
          "Mystery",
          "Mystery",
          "Mystery",
          "Crime",
          "Crime",
          "Crime",
          "Mystery",
          "Drama",
          "Mystery",
          "Action",
          "Fantasy",
          "Mystery",
          "Action",
          "Thriller",
          "Thriller",
          "Thriller",
          "Horror",
          "Thriller",
          "Thriller",
          "Thriller",
          "Thriller",
          "Thriller",
          "Thriller",
          "Thriller",
          "Thriller",
          "Horror",
          "Horror",
          "Horror",
          "Science Fiction",
          "Mystery",
          "Comedy",
          "Thriller",
          "Action",
          "Mystery",
          "Comedy",
          "Action",
          "Thriller",
          "Action",
          "Animation",
          "Action",
          "Horror",
          "Horror",
          "Horror",
          "Horror",
          "Comedy",
          "Action",
          "Fantasy",
          "Action",
          "Comedy",
          "Horror",
          "Action",
          "Thriller",
          "Action",
          "Crime",
          "Crime",
          "Action",
          "Thriller",
          "Thriller",
          "Mystery",
          "Fantasy",
          "Action",
          "Action",
          "Action",
          "Science Fiction",
          "Mystery",
          "Horror",
          "Thriller",
          "Mystery",
          "Horror",
          "Thriller",
          "Science Fiction",
          "Mystery",
          "Drama",
          "Action",
          "Mystery",
          "Mystery",
          "Mystery",
          "Thriller",
          "Thriller",
          "Adventure",
          "Horror",
          "Mystery",
          "Thriller",
          "Thriller",
          "Drama",
          "Drama",
          "Thriller",
          "Drama",
          "Drama",
          "Mystery",
          "Horror",
          "Horror",
          "Thriller",
          "Thriller",
          "Horror",
          "Action",
          "Mystery",
          "Comedy",
          "Mystery",
          "Comedy",
          "Mystery",
          "Thriller",
          "Horror",
          "Drama",
          "Thriller",
          "Action",
          "Thriller",
          "Thriller",
          "Mystery",
          "Mystery",
          "Action",
          "Thriller",
          "Thriller",
          "Thriller",
          "Thriller",
          "Mystery",
          "Mystery",
          "Drama",
          "Drama",
          "Drama",
          "Thriller",
          "Horror",
          "Horror",
          "Horror",
          "Horror",
          "Thriller",
          "Science Fiction",
          "Mystery",
          "Comedy",
          "Horror",
          "Horror",
          "Horror",
          "Thriller",
          "Thriller",
          "Thriller",
          "Horror",
          "Crime",
          "Drama",
          "Comedy",
          "Thriller",
          "Action",
          "Crime",
          "Thriller",
          "Horror",
          "Fantasy",
          "Mystery",
          "Mystery",
          "Mystery",
          "Mystery",
          "Mystery",
          "Mystery",
          "Crime",
          "Science Fiction",
          "Action",
          "Thriller",
          "Science Fiction",
          "Thriller",
          "Mystery",
          "Drama",
          "Horror",
          "Crime",
          "Thriller",
          "Thriller",
          "Mystery",
          "Horror",
          "Drama",
          "Comedy",
          "Mystery",
          "Horror",
          "Horror",
          "Action",
          "Science Fiction",
          "Mystery",
          "Horror",
          "Drama",
          "Thriller",
          "Drama",
          "Crime",
          "Comedy",
          "Mystery",
          "Horror",
          "Thriller",
          "Mystery",
          "Mystery",
          "Horror",
          "Horror",
          "Horror",
          "Mystery",
          "Mystery",
          "Crime",
          "Comedy",
          "Comedy",
          "Comedy",
          "Comedy",
          "Thriller",
          "Thriller",
          "Thriller",
          "Thriller",
          "Thriller",
          "Thriller",
          "Drama",
          "Drama",
          "Thriller",
          "Thriller",
          "Mystery",
          "Mystery",
          "Comedy",
          "Drama",
          "Drama",
          "Mystery",
          "Mystery",
          "Action",
          "Action",
          "Horror",
          "Horror",
          "Comedy",
          "Mystery",
          "Science Fiction",
          "Comedy",
          "Thriller",
          "Thriller",
          "Adventure",
          "Adventure",
          "Comedy",
          "Horror",
          "Horror",
          "Horror",
          "Horror",
          "Action",
          "Horror",
          "Horror",
          "Horror",
          "Action",
          "Comedy",
          "Fantasy",
          "Action",
          "Crime",
          "Horror",
          "Mystery",
          "Comedy",
          "Thriller",
          "Mystery",
          "Comedy",
          "Thriller",
          "Horror",
          "Horror",
          "Science Fiction",
          "Crime",
          "Crime",
          "Thriller",
          "Thriller",
          "Action",
          "Horror",
          "Horror",
          "Mystery",
          "Drama",
          "Science Fiction",
          "Horror",
          "Action",
          "Mystery",
          "Mystery",
          "Mystery",
          "Mystery",
          "Thriller",
          "Comedy",
          "Thriller",
          "Horror",
          "Drama",
          "Mystery",
          "Science Fiction",
          "Thriller",
          "Adventure",
          "Comedy",
          "Action",
          "Mystery",
          "Mystery",
          "Comedy",
          "Horror",
          "Drama",
          "Drama",
          "Thriller",
          "Thriller",
          "Thriller",
          "Science Fiction",
          "Science Fiction",
          "Action",
          "Mystery",
          "Drama",
          "Comedy",
          "Horror",
          "Comedy",
          "Comedy",
          "Drama",
          "Action",
          "Mystery",
          "Thriller",
          "Thriller",
          "Comedy",
          "Horror",
          "Drama",
          "Comedy",
          "Comedy",
          "Crime",
          "Horror",
          "Mystery",
          "Mystery",
          "Thriller",
          "Fantasy",
          "Thriller",
          "Comedy",
          "Mystery",
          "Horror",
          "Drama",
          "Comedy",
          "Drama",
          "Thriller",
          "Fantasy",
          "Horror",
          "Fantasy",
          "Comedy",
          "Fantasy",
          "Fantasy",
          "Drama",
          "Mystery",
          "Thriller",
          "Thriller",
          "Thriller",
          "Science Fiction",
          "Adventure",
          "Mystery",
          "Thriller",
          "Thriller",
          "Horror",
          "Horror",
          "Mystery",
          "Mystery",
          "Mystery",
          "Thriller",
          "Horror",
          "Drama",
          "Mystery",
          "Drama",
          "Comedy",
          "Horror",
          "Horror",
          "Thriller",
          "Thriller",
          "Mystery",
          "Drama",
          "Science Fiction",
          "Horror",
          "Comedy",
          "Mystery",
          "Comedy",
          "Comedy",
          "Mystery",
          "Horror",
          "Drama",
          "Thriller",
          "Drama",
          "Comedy",
          "Comedy",
          "Drama",
          "Action",
          "Action",
          "Thriller",
          "Mystery",
          "Mystery",
          "Drama",
          "Mystery",
          "Science Fiction",
          "Adventure",
          "Action",
          "Horror",
          "Action",
          "Drama",
          "Drama",
          "Thriller",
          "Adventure",
          "Thriller",
          "Mystery",
          "Thriller",
          "Action",
          "Action",
          "Action",
          "Action",
          "Action",
          "Action",
          "Thriller",
          "Action",
          "Fantasy",
          "Mystery",
          "Horror",
          "Comedy",
          "Thriller",
          "Thriller",
          "Science Fiction",
          "Science Fiction",
          "Drama",
          "Drama",
          "Thriller",
          "Drama",
          "Thriller",
          "Drama",
          "Comedy",
          "Thriller",
          "Action",
          "Mystery",
          "Action",
          "Mystery",
          "Action",
          "Drama",
          "Comedy",
          "Drama",
          "Thriller",
          "Crime",
          "Action",
          "Horror",
          "Comedy",
          "Science Fiction",
          "Thriller",
          "Thriller",
          "Thriller",
          "Comedy",
          "Horror",
          "Thriller",
          "Mystery",
          "Thriller",
          "Mystery",
          "Mystery",
          "Action",
          "Crime",
          "Mystery",
          "Thriller",
          "Thriller",
          "Thriller",
          "Drama",
          "Drama",
          "Horror",
          "Horror",
          "Fantasy",
          "Fantasy",
          "Thriller",
          "Drama",
          "Thriller",
          "Action",
          "Horror",
          "Science Fiction",
          "Action",
          "Adventure",
          "Fantasy",
          "Horror",
          "Comedy",
          "Mystery",
          "Thriller",
          "Science Fiction",
          "Science Fiction",
          "Action",
          "Horror",
          "Thriller",
          "Fantasy",
          "Action",
          "Comedy",
          "Mystery",
          "Mystery",
          "Mystery",
          "Mystery",
          "Action",
          "Thriller",
          "Thriller",
          "Science Fiction",
          "Science Fiction",
          "Science Fiction",
          "Crime",
          "Comedy",
          "Horror",
          "Comedy",
          "Action",
          "Drama",
          "Mystery",
          "Thriller",
          "Thriller",
          "Adventure",
          "Thriller",
          "Science Fiction",
          "Thriller",
          "Crime",
          "Thriller",
          "Thriller",
          "Drama",
          "Mystery",
          "Mystery",
          "Horror",
          "Horror",
          "Fantasy",
          "Drama",
          "Drama",
          "Drama",
          "Drama",
          "Fantasy",
          "Music",
          "Thriller",
          "Horror",
          "Thriller",
          "Thriller",
          "Thriller",
          "Mystery",
          "Mystery",
          "Mystery",
          "Fantasy",
          "Science Fiction",
          "Science Fiction",
          "Drama",
          "Mystery",
          "Comedy",
          "Action",
          "Drama",
          "Comedy",
          "Comedy",
          "Comedy",
          "Comedy",
          "Drama",
          "Action",
          "Comedy",
          "Comedy",
          "Thriller",
          "Action",
          "Science Fiction",
          "Drama",
          "Drama",
          "Science Fiction",
          "Fantasy",
          "Science Fiction",
          "Crime",
          "Fantasy",
          "Mystery",
          "Fantasy",
          "Drama",
          "Mystery",
          "Mystery",
          "Crime",
          "Comedy",
          "Mystery",
          "Mystery",
          "Horror",
          "Drama",
          "Drama",
          "Mystery",
          "Action",
          "Thriller",
          "Comedy",
          "Mystery",
          "Science Fiction",
          "Drama",
          "Mystery",
          "Drama",
          "Horror",
          "Thriller",
          "Thriller",
          "Drama",
          "Science Fiction",
          "Mystery",
          "Mystery",
          "Fantasy",
          "Horror",
          "Action",
          "Action",
          "Action",
          "Fantasy",
          "Comedy",
          "Comedy",
          "Drama",
          "Action",
          "Comedy",
          "Comedy",
          "Science Fiction",
          "Fantasy",
          "Mystery",
          "Mystery",
          "Horror",
          "Horror",
          "Thriller",
          "Thriller",
          "Horror",
          "Horror",
          "Action",
          "Drama",
          "Horror",
          "Comedy",
          "Thriller",
          "Science Fiction",
          "Comedy",
          "Action",
          "Thriller",
          "Mystery",
          "Drama",
          "Adventure",
          "Thriller",
          "Comedy",
          "Fantasy",
          "Mystery",
          "Comedy",
          "Comedy",
          "Horror",
          "Science Fiction",
          "Crime",
          "Drama",
          "Drama",
          "Horror",
          "Drama",
          "Drama",
          "Mystery",
          "Mystery",
          "Mystery",
          "Mystery",
          "Mystery",
          "Mystery",
          "Action",
          "Science Fiction",
          "Horror",
          "Fantasy",
          "Fantasy",
          "Thriller",
          "Mystery",
          "Mystery",
          "Fantasy",
          "Action",
          "Action",
          "Drama",
          "Comedy",
          "Action",
          "Horror",
          "Horror",
          "Thriller",
          "Mystery",
          "Thriller",
          "Horror",
          "Action",
          "Comedy",
          "Comedy",
          "Action",
          "Horror",
          "Horror",
          "Drama",
          "Mystery",
          "Drama",
          "Comedy",
          "Comedy",
          "Thriller",
          "Science Fiction",
          "Horror",
          "Fantasy",
          "Mystery",
          "Science Fiction",
          "Comedy",
          "Mystery",
          "Thriller",
          "Thriller",
          "Science Fiction",
          "Drama",
          "Adventure",
          "Adventure",
          "Fantasy",
          "Fantasy",
          "Horror",
          "Drama",
          "Comedy",
          "Drama",
          "Action",
          "Mystery",
          "Drama",
          "Horror",
          "Crime",
          "Science Fiction",
          "Drama",
          "Horror",
          "Drama",
          "Science Fiction",
          "Comedy",
          "Thriller",
          "Drama",
          "Crime",
          "Drama",
          "Thriller",
          "Mystery",
          "Mystery",
          "Science Fiction",
          "Science Fiction",
          "Drama",
          "Comedy",
          "Crime",
          "Fantasy",
          "Fantasy",
          "Comedy",
          "Mystery",
          "Horror",
          "Horror",
          "Action",
          "Drama",
          "Mystery",
          "Drama",
          "Fantasy",
          "Thriller",
          "Fantasy",
          "Comedy",
          "Thriller",
          "Comedy",
          "Drama",
          "Comedy",
          "Science Fiction",
          "Horror",
          "Mystery",
          "Horror",
          "Thriller",
          "Fantasy",
          "Crime",
          "Comedy",
          "Mystery",
          "Comedy",
          "Crime",
          "Action",
          "Action",
          "Science Fiction",
          "Thriller",
          "Thriller",
          "Fantasy",
          "Thriller",
          "Thriller",
          "Science Fiction",
          "Adventure",
          "Science Fiction",
          "Action",
          "Science Fiction",
          "Comedy",
          "Mystery",
          "Mystery",
          "Mystery",
          "Action",
          "Comedy",
          "Science Fiction",
          "Drama",
          "Mystery",
          "Mystery",
          "Adventure",
          "Comedy",
          "Drama",
          "Science Fiction",
          "Horror",
          "Science Fiction",
          "Comedy",
          "Science Fiction",
          "Thriller",
          "Science Fiction",
          "Fantasy",
          "Thriller",
          "Comedy",
          "Horror",
          "Action",
          "Horror",
          "Drama",
          "Drama",
          "Mystery",
          "Music",
          "Fantasy",
          "Comedy",
          "Drama",
          "Drama",
          "Science Fiction",
          "Horror",
          "Crime",
          "Thriller",
          "Comedy",
          "Thriller",
          "Horror",
          "Thriller",
          "Horror",
          "Drama",
          "Fantasy",
          "Thriller",
          "Comedy",
          "Science Fiction",
          "Action",
          "Drama",
          "Comedy",
          "Drama",
          "Thriller",
          "Romance",
          "Mystery",
          "Horror",
          "Action",
          "Comedy",
          "Fantasy",
          "Thriller",
          "Adventure",
          "Science Fiction",
          "Adventure",
          "Action",
          "Mystery",
          "Horror",
          "Horror",
          "Horror",
          "Crime",
          "Science Fiction",
          "Horror",
          "Crime",
          "Comedy",
          "Drama",
          "Drama",
          "Horror",
          "Drama",
          "Horror",
          "Action",
          "Comedy",
          "Horror",
          "Horror",
          "Crime",
          "Action",
          "Horror",
          "Comedy",
          "Action",
          "Romance",
          "Horror",
          "Thriller",
          "Action",
          "Comedy",
          "Horror",
          "Horror",
          "Science Fiction",
          "Science Fiction",
          "Horror",
          "Horror",
          "Adventure",
          "Comedy",
          "Drama",
          "Thriller",
          "Science Fiction",
          "Comedy",
          "Science Fiction",
          "Mystery",
          "Drama",
          "Science Fiction",
          "Comedy",
          "Thriller",
          "Science Fiction",
          "Drama",
          "Drama",
          "Drama",
          "Science Fiction",
          "Science Fiction",
          "Drama",
          "Horror",
          "Drama",
          "Comedy",
          "Comedy",
          "Action",
          "Drama",
          "Thriller",
          "Horror",
          "Horror",
          "Thriller",
          "Horror",
          "Comedy",
          "Horror",
          "Comedy",
          "Thriller",
          "Science Fiction",
          "Horror",
          "Horror",
          "Science Fiction",
          "Horror",
          "Comedy",
          "Comedy",
          "Action",
          "Drama",
          "Thriller",
          "Science Fiction",
          "Thriller",
          "Horror",
          "Comedy",
          "Action",
          "Comedy",
          "Comedy",
          "Thriller",
          "Action",
          "Horror",
          "Comedy",
          "Science Fiction"
         ],
         "xaxis": "x",
         "y": [
          31825000,
          31849200,
          71320000,
          55280000,
          -9860000,
          -110000,
          72000000,
          79050000,
          57640000,
          -22920000,
          89050000,
          67640000,
          -12920000,
          21600000,
          41595000,
          26629999.999999993,
          -23000000,
          132590000,
          -3660000,
          26540000,
          22640000,
          27900000,
          124400000,
          18670000,
          -9770000,
          -770000,
          149340000,
          48270000,
          37000000,
          159015000,
          57945000,
          46675000,
          144340000,
          43270000,
          32000000,
          99070000,
          30280000,
          7400000,
          62470000,
          2360000,
          95450000,
          13330000,
          -24020000,
          2820000,
          -6990000,
          60040000,
          14170000,
          24240000.000000004,
          20210000,
          23240000.000000004,
          19210000,
          37540000,
          56490000,
          292480000,
          -31480000,
          5080000,
          221910000,
          -500000,
          15500000,
          -6370000,
          54800000,
          55998000,
          69210000,
          45730000,
          1960000,
          560000,
          13560000,
          -8190000,
          5310000,
          5809600,
          5808000,
          44150000,
          71070000,
          129290000,
          34070000,
          30330000,
          -1200000,
          61470000,
          87090000,
          3760000,
          5700000,
          81130000,
          -4410000,
          -22740000,
          52510000,
          27460000,
          22080000,
          52620000,
          107705000,
          33470000,
          32000000,
          5270000,
          3800000,
          23520000,
          21640000,
          25127500,
          171540000,
          9430000,
          77770000,
          12770000,
          78590000,
          -1831799,
          -7680000,
          29100000,
          -11360000,
          45090000,
          51990000,
          20960000,
          37910000,
          41245000,
          171020000,
          25020000,
          -4650000,
          -7939999.999999996,
          -16250000,
          31402000.000000004,
          23092000,
          -15770000,
          26780000,
          10000000,
          41550000,
          24770000,
          36190000,
          790000,
          55190000,
          19790000,
          -34280000,
          23870000,
          46000000,
          20750000,
          64450000,
          39200000,
          62960000,
          67900000,
          10190000,
          200000,
          83040000,
          23390000,
          15530000,
          30890000,
          23030000,
          12100000,
          -3190000,
          70240000,
          18330000,
          31120000,
          8640000,
          25090000,
          -1910000,
          -560000,
          30775000,
          12070000,
          1930000,
          -1220000,
          -18070000,
          -21220000,
          57750000,
          99010000,
          53300000,
          -7270000.000000004,
          -43140000,
          5800000,
          13640000,
          79320000,
          26480000.000000007,
          -2460000,
          -1160000,
          56070000,
          10120000,
          -130000,
          77360000,
          42530000,
          1070000,
          1000000,
          12670000,
          37240000,
          7410000,
          25510000,
          40060000,
          -4890000,
          30379999.999999996,
          42220000,
          17350000,
          26230000,
          25710000,
          7440000,
          140480000,
          2050000,
          20470000,
          28080000,
          -9500000,
          61280000,
          23700000,
          45860000,
          100360000,
          100360000,
          45950000,
          15920000,
          9300000,
          -5080000,
          -11700000,
          16200000,
          1640000,
          -4110000,
          5726000,
          -24000,
          43950000,
          45970000,
          43220000,
          36470000,
          33720000,
          16690000,
          -1820000,
          -15700000,
          31193053,
          20653053,
          -28000000,
          -38540000,
          33020000,
          -20900000,
          58370000,
          4450000,
          20570000,
          155080000,
          11300000,
          500000,
          38040000,
          490000,
          22520000,
          20890000,
          7660000,
          65910000,
          36730000,
          41610000,
          12430000,
          5670000.000000002,
          67430000,
          46230000.00000001,
          56630000,
          -12590000,
          260000,
          2300000,
          28350000,
          28050000,
          38015000,
          25820000,
          22710000,
          28670000,
          -33330000,
          10240000,
          11930000,
          2790000,
          27770000,
          11900000,
          17750000,
          -11900000,
          32660000,
          3010000,
          25070000,
          8090000,
          12940000,
          16800000,
          26140000,
          63410000,
          70409850,
          -44900000,
          16470000,
          49140000,
          26670000,
          -14840000,
          36370000,
          -9410000,
          50000,
          45000,
          -88020000,
          48010000,
          2120000,
          9340000,
          2190000,
          5340000,
          -32710000,
          -3020000,
          62370000,
          50880000,
          32690000,
          9880000,
          -17530000,
          13770000,
          10070000,
          13770000,
          -16300000,
          7590000,
          -13080000,
          55590000,
          -1080000,
          2420000,
          1030000,
          3529999.999999999,
          31379999.999999993,
          16750000,
          -30860000,
          -27770000,
          7030000,
          19690000,
          11170000,
          17740000,
          7140000,
          19150000,
          13630000,
          5630000,
          7530000,
          20570000,
          30564000,
          16200000,
          10090000,
          16370000,
          13030000,
          19730000,
          8900000,
          38120000,
          137170000,
          -9810000,
          17120000,
          -13420000,
          16990000,
          17840000,
          -8520000,
          -23910000,
          81750000,
          -8800000,
          25805000,
          25730000,
          9570000,
          -11290000,
          -1950000,
          38810000,
          60209999.99999999,
          51810000,
          1470000,
          29610000,
          -20730000,
          79520000,
          46990000,
          23580000,
          4310000,
          22700000,
          -3950000.0000000037,
          43600000,
          11500000,
          3420000,
          28510000,
          20380000,
          11510000,
          3380000,
          -13750000,
          3100000,
          100000,
          48920000,
          27590000,
          17470000,
          16440000,
          -2430000,
          31479999.999999996,
          11500000,
          57080000,
          82920000,
          -5840000,
          -4620000,
          -17090000,
          -780000,
          -4790000,
          6750000,
          15190000.000000002,
          -38180000,
          -3400000,
          2900000,
          19370000,
          -9000000,
          10260000,
          6200000,
          -3740000,
          -13720000,
          -10600000,
          -4310000,
          6090000,
          -2240000,
          21050000,
          -31890000,
          1425000,
          19120000,
          -19850000,
          38845000,
          -125000,
          14970000,
          -14820000,
          4180000,
          7120000,
          -4340000,
          7780000,
          9090000,
          4570000,
          25020000,
          14980000,
          25460000,
          -12000000,
          39760000,
          2300000,
          8300000,
          4810000,
          40370000,
          -3810000,
          23720000,
          22000000,
          -12160000,
          11440000,
          -22670000,
          -25000000,
          -2570000,
          -5820000,
          -2990000,
          37330000,
          -210000,
          580000,
          -2800000,
          -50000,
          -7230000,
          12680000,
          21590000,
          15780000,
          360000,
          19359950,
          -3170000,
          19140000,
          16580000,
          26579998,
          32860000,
          6410000,
          -15830000,
          -9710000,
          7470000,
          52260000,
          14090000,
          40790000,
          19420000,
          -11500000,
          20713925,
          -10206075,
          11410000,
          -77380000,
          39230000,
          -7870000,
          16170000,
          -14990000,
          8820000,
          5700000,
          4770000,
          20310000,
          15520000,
          19660000,
          -1650000,
          6880000,
          25180000,
          -12580000,
          9220000,
          -12680000,
          7530000,
          5020000.000000004,
          -3250000,
          5470000,
          22320000,
          36550000,
          -9330000,
          49350000,
          3470000,
          -33110000,
          -2570000,
          -4990000,
          -990000,
          -10750000,
          8140000,
          -1780000,
          -13239999.999999998,
          -1600000,
          -1180000,
          -31790000,
          30480000,
          21100000,
          49200000,
          8860000,
          8720000,
          -6140000,
          13910000,
          -340000,
          -720000,
          22660000,
          3610000,
          -4660000,
          -16360000,
          -39940000,
          22830000,
          -750000,
          -960000,
          42490000,
          -2130000,
          35490000,
          -9130000,
          3290000,
          -2140457,
          45390000,
          -1630000,
          -17740000,
          -37950000,
          -37960000,
          -4740000,
          -24950000,
          -24960000,
          10350000,
          25060000,
          -730000,
          3070000,
          -3832000,
          -3900000,
          -3750000,
          -5670000,
          -3750000,
          -19230000,
          41770000,
          -2320000,
          -27340000,
          9620000.000000002,
          -760000,
          1120000,
          -17510000,
          240000,
          550000,
          -3750000,
          2010000,
          -4090000,
          -14920000,
          12690000,
          10040000,
          -4520000,
          190000,
          6900000,
          21300000,
          3621765,
          3850000,
          40650000,
          -100000,
          42370000,
          13300000,
          6080000,
          3750000,
          8990000,
          2300000,
          19500000,
          10180000,
          -5040000,
          21450000,
          24533000,
          -4989999.999999993,
          29730000,
          2300000,
          -12200000,
          -198000,
          35130000,
          55460000,
          28330000,
          -39390000,
          950000,
          -12930000,
          11550000,
          -19990000,
          -8570000,
          -17740000,
          -11920000,
          22210000,
          138680000,
          -1880000,
          5160000,
          53210000,
          10500000,
          1520000,
          900000,
          -4530000,
          21470000,
          82415120,
          20055120,
          72520000,
          10160000,
          82483000,
          20123000,
          -60990000,
          -1990000,
          13950000,
          1730000,
          -2970000,
          10130000,
          -1340000,
          -33800000,
          24070000,
          -80000,
          -940000,
          -9940000,
          -1960000,
          13750000,
          19690000,
          22500000,
          -30520000,
          -81280000,
          5610000,
          -13400000,
          70000,
          3010000,
          -400000,
          1080000,
          46390000,
          -22990000,
          7239999.999999998,
          -4950000,
          15619999.999999998,
          3430000,
          11239999.999999998,
          -950000,
          -3150000,
          4850000,
          -2920000,
          -75780000,
          10720000,
          6230000,
          4280000,
          -540000,
          890000,
          -2900000,
          -29740000,
          1120000,
          12820000,
          -22590000,
          -11000000,
          -14000000,
          10380000,
          -26040000,
          -12070000,
          4928500,
          5650000,
          8190000,
          -21000000,
          -19570000,
          -1500000,
          -14880000,
          -4900000,
          18200000,
          -5980000,
          11420000,
          6800000,
          -33220000,
          4750000,
          11180000,
          8120000.000000002,
          800000,
          -3240000,
          8090000,
          -2780000,
          6730000,
          -2920000,
          11690000,
          -12590000,
          21660000,
          2720000,
          -12340000,
          -31280000,
          9130000,
          -3270000,
          -1180000,
          -4700000,
          -9300000,
          2410000,
          289999.99999999907,
          10650000,
          9370000,
          22100000,
          18940000,
          5779999.999999999,
          -11470000,
          -3240000,
          5750000,
          12600000,
          -520000,
          499000,
          26750000,
          -4500000,
          -27900000,
          -43910000,
          4910000,
          10770000,
          -10620000,
          -400000,
          5800000,
          -870000,
          -5700000,
          34000000,
          2100000,
          -6890000,
          1910000,
          -2650000,
          -70000,
          -1120000,
          -2240000,
          -1040000,
          -670000,
          11040000,
          -7700000,
          24710000,
          -2440000,
          -630000,
          -200000,
          -14220000,
          519621,
          7950000,
          7950000,
          -4160000,
          4350000,
          -7890000,
          -4410000,
          -13900000,
          -1230000,
          -10630000,
          -4860000,
          -1750000,
          -12570000,
          6080000,
          -2830000,
          -1040000,
          -2990000,
          2290000,
          -3810000,
          -7120000,
          4590000,
          -430000,
          3400000,
          -350000,
          -150000,
          290000,
          865000,
          -2140000,
          -2290000,
          17170000,
          1220000,
          10560000,
          -5420000,
          2090000,
          -3510000,
          -7250000,
          -370000,
          8300000,
          -10000,
          -1310000,
          -11170000,
          -3870000,
          -1570000,
          2500000,
          -2690000,
          -2190000,
          11560000,
          22155000,
          -5940000,
          -1660000,
          -10360000,
          0,
          -8360000,
          2390000,
          -1270000,
          -41290000,
          -3080000,
          392000,
          -5350000,
          -960000,
          -2550000,
          -1510000,
          -4860000,
          3975500,
          -1740000,
          -8650000,
          -2800000,
          -4580000,
          -4050000,
          3340000,
          6390000,
          140000.00000000093,
          4790000,
          1640000,
          16040000,
          5800000,
          2360000,
          4160000,
          280000,
          -1410000,
          -2450000,
          -1200000,
          97214,
          -280000,
          16500000,
          -6960000,
          4280000,
          -6370000,
          9800000,
          -470000,
          -2730000,
          -14370000,
          6200000,
          6999700,
          -3650000,
          1370000,
          -2780000,
          -15110000,
          229500,
          -1530000,
          4200000,
          -22650000,
          -1330000,
          -6050000,
          -6250000,
          12420000,
          5990000,
          95000,
          6970000,
          -18820000,
          -400000,
          -2920000,
          -1390000,
          -6280000,
          1895195,
          1780000,
          -2670000,
          4030000,
          -420000,
          4773000,
          323000,
          -1360000,
          100000,
          2890000,
          2160000,
          877000,
          890000,
          750000,
          5370000,
          1918000,
          -6910000,
          260000,
          320000,
          984000,
          2150000,
          -2870000,
          3250000,
          -100000,
          10000,
          360000,
          -920000,
          -4130000,
          1605000,
          169350,
          -1290000,
          180000,
          -3820000,
          146000,
          -2780000,
          0,
          -270000,
          -100000,
          169990,
          -2400000,
          4570000,
          -65000,
          -1130000,
          -6860000,
          -320000,
          202000,
          -1980000,
          -4510000,
          -13170000,
          -1536010,
          -60000,
          30000,
          34920000,
          -2450000,
          111049997,
          130000,
          8000,
          497000,
          72000,
          699850,
          25000,
          169800,
          108000
         ],
         "yaxis": "y"
        }
       ],
       "layout": {
        "barmode": "relative",
        "legend": {
         "tracegroupgap": 0
        },
        "template": {
         "data": {
          "bar": [
           {
            "error_x": {
             "color": "#2a3f5f"
            },
            "error_y": {
             "color": "#2a3f5f"
            },
            "marker": {
             "line": {
              "color": "#E5ECF6",
              "width": 0.5
             },
             "pattern": {
              "fillmode": "overlay",
              "size": 10,
              "solidity": 0.2
             }
            },
            "type": "bar"
           }
          ],
          "barpolar": [
           {
            "marker": {
             "line": {
              "color": "#E5ECF6",
              "width": 0.5
             },
             "pattern": {
              "fillmode": "overlay",
              "size": 10,
              "solidity": 0.2
             }
            },
            "type": "barpolar"
           }
          ],
          "carpet": [
           {
            "aaxis": {
             "endlinecolor": "#2a3f5f",
             "gridcolor": "white",
             "linecolor": "white",
             "minorgridcolor": "white",
             "startlinecolor": "#2a3f5f"
            },
            "baxis": {
             "endlinecolor": "#2a3f5f",
             "gridcolor": "white",
             "linecolor": "white",
             "minorgridcolor": "white",
             "startlinecolor": "#2a3f5f"
            },
            "type": "carpet"
           }
          ],
          "choropleth": [
           {
            "colorbar": {
             "outlinewidth": 0,
             "ticks": ""
            },
            "type": "choropleth"
           }
          ],
          "contour": [
           {
            "colorbar": {
             "outlinewidth": 0,
             "ticks": ""
            },
            "colorscale": [
             [
              0,
              "#0d0887"
             ],
             [
              0.1111111111111111,
              "#46039f"
             ],
             [
              0.2222222222222222,
              "#7201a8"
             ],
             [
              0.3333333333333333,
              "#9c179e"
             ],
             [
              0.4444444444444444,
              "#bd3786"
             ],
             [
              0.5555555555555556,
              "#d8576b"
             ],
             [
              0.6666666666666666,
              "#ed7953"
             ],
             [
              0.7777777777777778,
              "#fb9f3a"
             ],
             [
              0.8888888888888888,
              "#fdca26"
             ],
             [
              1,
              "#f0f921"
             ]
            ],
            "type": "contour"
           }
          ],
          "contourcarpet": [
           {
            "colorbar": {
             "outlinewidth": 0,
             "ticks": ""
            },
            "type": "contourcarpet"
           }
          ],
          "heatmap": [
           {
            "colorbar": {
             "outlinewidth": 0,
             "ticks": ""
            },
            "colorscale": [
             [
              0,
              "#0d0887"
             ],
             [
              0.1111111111111111,
              "#46039f"
             ],
             [
              0.2222222222222222,
              "#7201a8"
             ],
             [
              0.3333333333333333,
              "#9c179e"
             ],
             [
              0.4444444444444444,
              "#bd3786"
             ],
             [
              0.5555555555555556,
              "#d8576b"
             ],
             [
              0.6666666666666666,
              "#ed7953"
             ],
             [
              0.7777777777777778,
              "#fb9f3a"
             ],
             [
              0.8888888888888888,
              "#fdca26"
             ],
             [
              1,
              "#f0f921"
             ]
            ],
            "type": "heatmap"
           }
          ],
          "heatmapgl": [
           {
            "colorbar": {
             "outlinewidth": 0,
             "ticks": ""
            },
            "colorscale": [
             [
              0,
              "#0d0887"
             ],
             [
              0.1111111111111111,
              "#46039f"
             ],
             [
              0.2222222222222222,
              "#7201a8"
             ],
             [
              0.3333333333333333,
              "#9c179e"
             ],
             [
              0.4444444444444444,
              "#bd3786"
             ],
             [
              0.5555555555555556,
              "#d8576b"
             ],
             [
              0.6666666666666666,
              "#ed7953"
             ],
             [
              0.7777777777777778,
              "#fb9f3a"
             ],
             [
              0.8888888888888888,
              "#fdca26"
             ],
             [
              1,
              "#f0f921"
             ]
            ],
            "type": "heatmapgl"
           }
          ],
          "histogram": [
           {
            "marker": {
             "pattern": {
              "fillmode": "overlay",
              "size": 10,
              "solidity": 0.2
             }
            },
            "type": "histogram"
           }
          ],
          "histogram2d": [
           {
            "colorbar": {
             "outlinewidth": 0,
             "ticks": ""
            },
            "colorscale": [
             [
              0,
              "#0d0887"
             ],
             [
              0.1111111111111111,
              "#46039f"
             ],
             [
              0.2222222222222222,
              "#7201a8"
             ],
             [
              0.3333333333333333,
              "#9c179e"
             ],
             [
              0.4444444444444444,
              "#bd3786"
             ],
             [
              0.5555555555555556,
              "#d8576b"
             ],
             [
              0.6666666666666666,
              "#ed7953"
             ],
             [
              0.7777777777777778,
              "#fb9f3a"
             ],
             [
              0.8888888888888888,
              "#fdca26"
             ],
             [
              1,
              "#f0f921"
             ]
            ],
            "type": "histogram2d"
           }
          ],
          "histogram2dcontour": [
           {
            "colorbar": {
             "outlinewidth": 0,
             "ticks": ""
            },
            "colorscale": [
             [
              0,
              "#0d0887"
             ],
             [
              0.1111111111111111,
              "#46039f"
             ],
             [
              0.2222222222222222,
              "#7201a8"
             ],
             [
              0.3333333333333333,
              "#9c179e"
             ],
             [
              0.4444444444444444,
              "#bd3786"
             ],
             [
              0.5555555555555556,
              "#d8576b"
             ],
             [
              0.6666666666666666,
              "#ed7953"
             ],
             [
              0.7777777777777778,
              "#fb9f3a"
             ],
             [
              0.8888888888888888,
              "#fdca26"
             ],
             [
              1,
              "#f0f921"
             ]
            ],
            "type": "histogram2dcontour"
           }
          ],
          "mesh3d": [
           {
            "colorbar": {
             "outlinewidth": 0,
             "ticks": ""
            },
            "type": "mesh3d"
           }
          ],
          "parcoords": [
           {
            "line": {
             "colorbar": {
              "outlinewidth": 0,
              "ticks": ""
             }
            },
            "type": "parcoords"
           }
          ],
          "pie": [
           {
            "automargin": true,
            "type": "pie"
           }
          ],
          "scatter": [
           {
            "fillpattern": {
             "fillmode": "overlay",
             "size": 10,
             "solidity": 0.2
            },
            "type": "scatter"
           }
          ],
          "scatter3d": [
           {
            "line": {
             "colorbar": {
              "outlinewidth": 0,
              "ticks": ""
             }
            },
            "marker": {
             "colorbar": {
              "outlinewidth": 0,
              "ticks": ""
             }
            },
            "type": "scatter3d"
           }
          ],
          "scattercarpet": [
           {
            "marker": {
             "colorbar": {
              "outlinewidth": 0,
              "ticks": ""
             }
            },
            "type": "scattercarpet"
           }
          ],
          "scattergeo": [
           {
            "marker": {
             "colorbar": {
              "outlinewidth": 0,
              "ticks": ""
             }
            },
            "type": "scattergeo"
           }
          ],
          "scattergl": [
           {
            "marker": {
             "colorbar": {
              "outlinewidth": 0,
              "ticks": ""
             }
            },
            "type": "scattergl"
           }
          ],
          "scattermapbox": [
           {
            "marker": {
             "colorbar": {
              "outlinewidth": 0,
              "ticks": ""
             }
            },
            "type": "scattermapbox"
           }
          ],
          "scatterpolar": [
           {
            "marker": {
             "colorbar": {
              "outlinewidth": 0,
              "ticks": ""
             }
            },
            "type": "scatterpolar"
           }
          ],
          "scatterpolargl": [
           {
            "marker": {
             "colorbar": {
              "outlinewidth": 0,
              "ticks": ""
             }
            },
            "type": "scatterpolargl"
           }
          ],
          "scatterternary": [
           {
            "marker": {
             "colorbar": {
              "outlinewidth": 0,
              "ticks": ""
             }
            },
            "type": "scatterternary"
           }
          ],
          "surface": [
           {
            "colorbar": {
             "outlinewidth": 0,
             "ticks": ""
            },
            "colorscale": [
             [
              0,
              "#0d0887"
             ],
             [
              0.1111111111111111,
              "#46039f"
             ],
             [
              0.2222222222222222,
              "#7201a8"
             ],
             [
              0.3333333333333333,
              "#9c179e"
             ],
             [
              0.4444444444444444,
              "#bd3786"
             ],
             [
              0.5555555555555556,
              "#d8576b"
             ],
             [
              0.6666666666666666,
              "#ed7953"
             ],
             [
              0.7777777777777778,
              "#fb9f3a"
             ],
             [
              0.8888888888888888,
              "#fdca26"
             ],
             [
              1,
              "#f0f921"
             ]
            ],
            "type": "surface"
           }
          ],
          "table": [
           {
            "cells": {
             "fill": {
              "color": "#EBF0F8"
             },
             "line": {
              "color": "white"
             }
            },
            "header": {
             "fill": {
              "color": "#C8D4E3"
             },
             "line": {
              "color": "white"
             }
            },
            "type": "table"
           }
          ]
         },
         "layout": {
          "annotationdefaults": {
           "arrowcolor": "#2a3f5f",
           "arrowhead": 0,
           "arrowwidth": 1
          },
          "autotypenumbers": "strict",
          "coloraxis": {
           "colorbar": {
            "outlinewidth": 0,
            "ticks": ""
           }
          },
          "colorscale": {
           "diverging": [
            [
             0,
             "#8e0152"
            ],
            [
             0.1,
             "#c51b7d"
            ],
            [
             0.2,
             "#de77ae"
            ],
            [
             0.3,
             "#f1b6da"
            ],
            [
             0.4,
             "#fde0ef"
            ],
            [
             0.5,
             "#f7f7f7"
            ],
            [
             0.6,
             "#e6f5d0"
            ],
            [
             0.7,
             "#b8e186"
            ],
            [
             0.8,
             "#7fbc41"
            ],
            [
             0.9,
             "#4d9221"
            ],
            [
             1,
             "#276419"
            ]
           ],
           "sequential": [
            [
             0,
             "#0d0887"
            ],
            [
             0.1111111111111111,
             "#46039f"
            ],
            [
             0.2222222222222222,
             "#7201a8"
            ],
            [
             0.3333333333333333,
             "#9c179e"
            ],
            [
             0.4444444444444444,
             "#bd3786"
            ],
            [
             0.5555555555555556,
             "#d8576b"
            ],
            [
             0.6666666666666666,
             "#ed7953"
            ],
            [
             0.7777777777777778,
             "#fb9f3a"
            ],
            [
             0.8888888888888888,
             "#fdca26"
            ],
            [
             1,
             "#f0f921"
            ]
           ],
           "sequentialminus": [
            [
             0,
             "#0d0887"
            ],
            [
             0.1111111111111111,
             "#46039f"
            ],
            [
             0.2222222222222222,
             "#7201a8"
            ],
            [
             0.3333333333333333,
             "#9c179e"
            ],
            [
             0.4444444444444444,
             "#bd3786"
            ],
            [
             0.5555555555555556,
             "#d8576b"
            ],
            [
             0.6666666666666666,
             "#ed7953"
            ],
            [
             0.7777777777777778,
             "#fb9f3a"
            ],
            [
             0.8888888888888888,
             "#fdca26"
            ],
            [
             1,
             "#f0f921"
            ]
           ]
          },
          "colorway": [
           "#636efa",
           "#EF553B",
           "#00cc96",
           "#ab63fa",
           "#FFA15A",
           "#19d3f3",
           "#FF6692",
           "#B6E880",
           "#FF97FF",
           "#FECB52"
          ],
          "font": {
           "color": "#2a3f5f"
          },
          "geo": {
           "bgcolor": "white",
           "lakecolor": "white",
           "landcolor": "#E5ECF6",
           "showlakes": true,
           "showland": true,
           "subunitcolor": "white"
          },
          "hoverlabel": {
           "align": "left"
          },
          "hovermode": "closest",
          "mapbox": {
           "style": "light"
          },
          "paper_bgcolor": "white",
          "plot_bgcolor": "#E5ECF6",
          "polar": {
           "angularaxis": {
            "gridcolor": "white",
            "linecolor": "white",
            "ticks": ""
           },
           "bgcolor": "#E5ECF6",
           "radialaxis": {
            "gridcolor": "white",
            "linecolor": "white",
            "ticks": ""
           }
          },
          "scene": {
           "xaxis": {
            "backgroundcolor": "#E5ECF6",
            "gridcolor": "white",
            "gridwidth": 2,
            "linecolor": "white",
            "showbackground": true,
            "ticks": "",
            "zerolinecolor": "white"
           },
           "yaxis": {
            "backgroundcolor": "#E5ECF6",
            "gridcolor": "white",
            "gridwidth": 2,
            "linecolor": "white",
            "showbackground": true,
            "ticks": "",
            "zerolinecolor": "white"
           },
           "zaxis": {
            "backgroundcolor": "#E5ECF6",
            "gridcolor": "white",
            "gridwidth": 2,
            "linecolor": "white",
            "showbackground": true,
            "ticks": "",
            "zerolinecolor": "white"
           }
          },
          "shapedefaults": {
           "line": {
            "color": "#2a3f5f"
           }
          },
          "ternary": {
           "aaxis": {
            "gridcolor": "white",
            "linecolor": "white",
            "ticks": ""
           },
           "baxis": {
            "gridcolor": "white",
            "linecolor": "white",
            "ticks": ""
           },
           "bgcolor": "#E5ECF6",
           "caxis": {
            "gridcolor": "white",
            "linecolor": "white",
            "ticks": ""
           }
          },
          "title": {
           "x": 0.05
          },
          "xaxis": {
           "automargin": true,
           "gridcolor": "white",
           "linecolor": "white",
           "ticks": "",
           "title": {
            "standoff": 15
           },
           "zerolinecolor": "white",
           "zerolinewidth": 2
          },
          "yaxis": {
           "automargin": true,
           "gridcolor": "white",
           "linecolor": "white",
           "ticks": "",
           "title": {
            "standoff": 15
           },
           "zerolinecolor": "white",
           "zerolinewidth": 2
          }
         }
        },
        "title": {
         "text": "Total revenue through the years"
        },
        "xaxis": {
         "anchor": "y",
         "categoryorder": "total ascending",
         "domain": [
          0,
          1
         ],
         "title": {
          "text": "genre_names"
         }
        },
        "yaxis": {
         "anchor": "x",
         "domain": [
          0,
          1
         ],
         "title": {
          "text": "profit"
         }
        }
       }
      }
     },
     "metadata": {},
     "output_type": "display_data"
    }
   ],
   "source": [
    "viz.img4(merged_df)"
   ]
  },
  {
   "cell_type": "code",
   "execution_count": null,
   "metadata": {},
   "outputs": [],
   "source": [
    "viz.img5(merged_df)"
   ]
  }
 ],
 "metadata": {
  "kernelspec": {
   "display_name": "ironhack",
   "language": "python",
   "name": "python3"
  },
  "language_info": {
   "codemirror_mode": {
    "name": "ipython",
    "version": 3
   },
   "file_extension": ".py",
   "mimetype": "text/x-python",
   "name": "python",
   "nbconvert_exporter": "python",
   "pygments_lexer": "ipython3",
   "version": "3.10.9"
  },
  "orig_nbformat": 4
 },
 "nbformat": 4,
 "nbformat_minor": 2
}
