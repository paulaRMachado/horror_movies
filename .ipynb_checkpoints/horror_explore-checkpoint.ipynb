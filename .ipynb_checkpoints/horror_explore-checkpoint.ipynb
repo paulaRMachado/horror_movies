{
 "cells": [
  {
   "cell_type": "code",
   "execution_count": 62,
   "metadata": {},
   "outputs": [],
   "source": [
    "import requests\n",
    "from bs4 import BeautifulSoup\n",
    "import pandas as pd"
   ]
  },
  {
   "cell_type": "code",
   "execution_count": 2,
   "metadata": {},
   "outputs": [],
   "source": [
    "#url = \"https://www.the-numbers.com/box-office-records/worldwide/all-movies/genres/horror\"\n",
    "# requests.get(url)\n",
    "# <Response [403]> SORRY"
   ]
  },
  {
   "cell_type": "code",
   "execution_count": 4,
   "metadata": {},
   "outputs": [],
   "source": [
    "url = \"https://www.imdb.com/search/title/?title_type=tv_movie&genres=horror&sort=user_rating,desc&explore=title_type,genres\""
   ]
  },
  {
   "cell_type": "code",
   "execution_count": 9,
   "metadata": {},
   "outputs": [],
   "source": [
    "html = requests.get(url)\n",
    "https://www.imdb.com/search/title/?title_type=feature&genres=horror #TENTAR DE NOVO"
   ]
  },
  {
   "cell_type": "code",
   "execution_count": 10,
   "metadata": {},
   "outputs": [],
   "source": [
    "soup = BeautifulSoup(html.content, \"html.parser\")"
   ]
  },
  {
   "cell_type": "code",
   "execution_count": 26,
   "metadata": {},
   "outputs": [],
   "source": [
    "# Titles 1st page\n",
    "result1 = soup.find_all(\"h3\", attrs = {\"class\": \"lister-item-header\"})\n",
    "result_rate1 = soup.find_all(\"div\", attrs = {\"class\": \"inline-block ratings-imdb-rating\"})"
   ]
  },
  {
   "cell_type": "code",
   "execution_count": 30,
   "metadata": {},
   "outputs": [],
   "source": [
    "titles1 = [i.getText().strip().split(\"\\n\")[1] for i in result1]\n",
    "rate1 = [i.getText().strip() for i in result_rate1]"
   ]
  },
  {
   "cell_type": "code",
   "execution_count": 36,
   "metadata": {},
   "outputs": [],
   "source": [
    "url2 = \"https://editorial.rottentomatoes.com/guide/best-horror-movies-of-all-time/\"\n",
    "html2 = requests.get(url2)\n",
    "soup2 = BeautifulSoup(html2.content, \"html.parser\")"
   ]
  },
  {
   "cell_type": "code",
   "execution_count": 44,
   "metadata": {},
   "outputs": [],
   "source": [
    "result2 = soup2.find_all(\"div\", attrs = {\"class\": \"article_movie_title\"})\n",
    "titles2 = [i.a.getText().strip() for i in result2]\n"
   ]
  },
  {
   "cell_type": "code",
   "execution_count": 50,
   "metadata": {},
   "outputs": [],
   "source": [
    "result_rates = soup2.find_all(\"span\", attrs = {\"class\": \"tMeterScore\"})\n",
    "rating2 = [i.getText() for i in result_rates]"
   ]
  },
  {
   "cell_type": "code",
   "execution_count": 58,
   "metadata": {},
   "outputs": [],
   "source": [
    "result_directors = soup2.find_all(\"div\", attrs = {\"class\": \"info director\"})\n",
    "directors2 = [i.a.getText() for i in result_directors]"
   ]
  },
  {
   "cell_type": "code",
   "execution_count": 66,
   "metadata": {},
   "outputs": [
    {
     "data": {
      "text/html": [
       "<div>\n",
       "<style scoped>\n",
       "    .dataframe tbody tr th:only-of-type {\n",
       "        vertical-align: middle;\n",
       "    }\n",
       "\n",
       "    .dataframe tbody tr th {\n",
       "        vertical-align: top;\n",
       "    }\n",
       "\n",
       "    .dataframe thead th {\n",
       "        text-align: right;\n",
       "    }\n",
       "</style>\n",
       "<table border=\"1\" class=\"dataframe\">\n",
       "  <thead>\n",
       "    <tr style=\"text-align: right;\">\n",
       "      <th></th>\n",
       "      <th>title</th>\n",
       "      <th>rotten_rates</th>\n",
       "      <th>director</th>\n",
       "    </tr>\n",
       "  </thead>\n",
       "  <tbody>\n",
       "    <tr>\n",
       "      <th>0</th>\n",
       "      <td>A Nightmare on Elm Street 3: Dream Warriors</td>\n",
       "      <td>72%</td>\n",
       "      <td>Chuck Russell</td>\n",
       "    </tr>\n",
       "    <tr>\n",
       "      <th>1</th>\n",
       "      <td>Phenomena</td>\n",
       "      <td>74%</td>\n",
       "      <td>Dario Argento</td>\n",
       "    </tr>\n",
       "    <tr>\n",
       "      <th>2</th>\n",
       "      <td>Bram Stoker's Dracula</td>\n",
       "      <td>78%</td>\n",
       "      <td>Francis Ford Coppola</td>\n",
       "    </tr>\n",
       "    <tr>\n",
       "      <th>3</th>\n",
       "      <td>Hellraiser</td>\n",
       "      <td>70%</td>\n",
       "      <td>Clive Barker</td>\n",
       "    </tr>\n",
       "    <tr>\n",
       "      <th>4</th>\n",
       "      <td>It's Alive!</td>\n",
       "      <td>70%</td>\n",
       "      <td>Larry Cohen</td>\n",
       "    </tr>\n",
       "    <tr>\n",
       "      <th>...</th>\n",
       "      <td>...</td>\n",
       "      <td>...</td>\n",
       "      <td>...</td>\n",
       "    </tr>\n",
       "    <tr>\n",
       "      <th>195</th>\n",
       "      <td>Alien</td>\n",
       "      <td>98%</td>\n",
       "      <td>Ridley Scott</td>\n",
       "    </tr>\n",
       "    <tr>\n",
       "      <th>196</th>\n",
       "      <td>Us</td>\n",
       "      <td>93%</td>\n",
       "      <td>Jordan Peele</td>\n",
       "    </tr>\n",
       "    <tr>\n",
       "      <th>197</th>\n",
       "      <td>The Cabinet of Dr. Caligari</td>\n",
       "      <td>96%</td>\n",
       "      <td>Robert Wiene</td>\n",
       "    </tr>\n",
       "    <tr>\n",
       "      <th>198</th>\n",
       "      <td>Get Out</td>\n",
       "      <td>98%</td>\n",
       "      <td>Jordan Peele</td>\n",
       "    </tr>\n",
       "    <tr>\n",
       "      <th>199</th>\n",
       "      <td>Psycho</td>\n",
       "      <td>96%</td>\n",
       "      <td>Alfred Hitchcock</td>\n",
       "    </tr>\n",
       "  </tbody>\n",
       "</table>\n",
       "<p>200 rows × 3 columns</p>\n",
       "</div>"
      ],
      "text/plain": [
       "                                           title rotten_rates  \\\n",
       "0    A Nightmare on Elm Street 3: Dream Warriors          72%   \n",
       "1                                      Phenomena          74%   \n",
       "2                          Bram Stoker's Dracula          78%   \n",
       "3                                     Hellraiser          70%   \n",
       "4                                    It's Alive!          70%   \n",
       "..                                           ...          ...   \n",
       "195                                        Alien          98%   \n",
       "196                                           Us          93%   \n",
       "197                  The Cabinet of Dr. Caligari          96%   \n",
       "198                                      Get Out          98%   \n",
       "199                                       Psycho          96%   \n",
       "\n",
       "                 director  \n",
       "0           Chuck Russell  \n",
       "1           Dario Argento  \n",
       "2    Francis Ford Coppola  \n",
       "3            Clive Barker  \n",
       "4             Larry Cohen  \n",
       "..                    ...  \n",
       "195          Ridley Scott  \n",
       "196          Jordan Peele  \n",
       "197          Robert Wiene  \n",
       "198          Jordan Peele  \n",
       "199      Alfred Hitchcock  \n",
       "\n",
       "[200 rows x 3 columns]"
      ]
     },
     "execution_count": 66,
     "metadata": {},
     "output_type": "execute_result"
    }
   ],
   "source": [
    "rotten_info = {\n",
    "    \"title\": titles2,\n",
    "    \"rotten_rates\": rating2,\n",
    "    \"director\":directors2\n",
    "}\n",
    "df = pd.DataFrame(rotten_info)\n",
    "df"
   ]
  }
 ],
 "metadata": {
  "kernelspec": {
   "display_name": "Python 3 (ipykernel)",
   "language": "python",
   "name": "python3"
  },
  "language_info": {
   "codemirror_mode": {
    "name": "ipython",
    "version": 3
   },
   "file_extension": ".py",
   "mimetype": "text/x-python",
   "name": "python",
   "nbconvert_exporter": "python",
   "pygments_lexer": "ipython3",
   "version": "3.9.13"
  }
 },
 "nbformat": 4,
 "nbformat_minor": 2
}
